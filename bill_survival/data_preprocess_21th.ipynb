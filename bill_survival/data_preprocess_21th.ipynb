{
 "cells": [
  {
   "cell_type": "code",
   "execution_count": 83,
   "metadata": {},
   "outputs": [],
   "source": [
    "import re\n",
    "import numpy as np\n",
    "import pandas as pd\n",
    "import pickle\n",
    "from eunjeon import Mecab\n",
    "from gensim.models import Word2Vec as w2v\n",
    "from sklearn.feature_extraction.text import CountVectorizer\n",
    "from xgboost import XGBClassifier\n",
    "from xgboost import XGBRegressor\n",
    "from sklearn.model_selection import cross_val_score\n",
    "from sklearn.model_selection import GridSearchCV"
   ]
  },
  {
   "cell_type": "code",
   "execution_count": 21,
   "metadata": {},
   "outputs": [],
   "source": [
    "#21대 국회 법안 데이터 전처리\n",
    "\n",
    "df = pd.read_excel('21th_history.xlsx')"
   ]
  },
  {
   "cell_type": "code",
   "execution_count": 22,
   "metadata": {},
   "outputs": [],
   "source": [
    "#가결/부결 코딩\n",
    "\n",
    "for i in range(len(df)):\n",
    "    if df.loc[i, '처리구분'] == 1 or df.loc[i, '처리구분'] == 2 or df.loc[i, '처리구분'] == 3 or df.loc[i, '처리구분'] == 4:\n",
    "        df.loc[i, '처리구분'] = 1\n",
    "    elif df.loc[i, '처리구분'] == 5 or df.loc[i, '처리구분'] == 9:\n",
    "        df.loc[i, '처리구분'] = 1\n",
    "    elif df.loc[i, '처리구분'] == 6 or df.loc[i, '처리구분'] == 7 or df.loc[i, '처리구분'] == 8:\n",
    "        df.loc[i, '처리구분'] = 0\n",
    "    elif df.loc[i, '처리구분'] == 10:\n",
    "        df.loc[i, '처리구분'] = 0"
   ]
  },
  {
   "cell_type": "code",
   "execution_count": 23,
   "metadata": {},
   "outputs": [],
   "source": [
    "#소관위 원-핫코딩\n",
    "committee_set = list(set(df['소관위']))\n",
    "committee = []\n",
    "for com in committee_set:\n",
    "    coms = com.split(\", \")\n",
    "    for c in coms:\n",
    "        committee.append(c)\n",
    "        \n",
    "committee = list(set(committee))\n",
    "\n",
    "for i in range(len(df)):\n",
    "    if df['소관위'][i].__contains__('특별위원회'):\n",
    "            df.loc[i, '특별위원회'] = 1\n",
    "    for com in committee:\n",
    "        if df['소관위'][i].__contains__(com):\n",
    "            df.loc[i, com] = 1\n",
    "        else:\n",
    "            df.loc[i, com] = 0"
   ]
  },
  {
   "cell_type": "code",
   "execution_count": 24,
   "metadata": {},
   "outputs": [],
   "source": [
    "for i in range(len(df)):\n",
    "    if df.loc[i, '소속정당 구분'] == '더불어민주당' or df.loc[i, '소속정당 구분'] == '열린민주당':\n",
    "        df.loc[i, 'party'] = 0\n",
    "    elif df.loc[i, '소속정당 구분'] == '국민의힘' or df.loc[i, '소속정당 구분'] == '미래통합당' :\n",
    "        df.loc[i, 'party'] = 1\n",
    "    elif df.loc[i, '소속정당 구분'] == '국민의당' or df.loc[i, '소속정당 구분'] == '기본소득당' or df.loc[i, '소속정당 구분'] == '시대전환' or df.loc[i, '소속정당 구분'] == '정의당':\n",
    "        df.loc[i, 'party'] = 2\n",
    "    elif df.loc[i, '제안자'] == '위원장':\n",
    "        df.loc[i, 'party'] = 4\n",
    "    elif df.loc[i, '제안자'] == '정부':\n",
    "        df.loc[i, 'party'] = 5\n",
    "    else:\n",
    "        df.loc[i, 'party'] = 3"
   ]
  },
  {
   "cell_type": "code",
   "execution_count": 25,
   "metadata": {},
   "outputs": [],
   "source": [
    "for i in range(len(df)):\n",
    "    if df.loc[i, '소속정당 구분'] == '더불어민주당' or df.loc[i, '소속정당 구분'] == '열린민주당' :\n",
    "        df.loc[i, 'num_seats'] = 185\n",
    "    elif df.loc[i, '소속정당 구분'] == '국민의힘' :\n",
    "        df.loc[i, 'num_seats'] = 103\n",
    "    elif df.loc[i, '소속정당 구분'] == '미래통합당' :\n",
    "        df.loc[i, 'num_seats'] = 84\n",
    "    elif df.loc[i, '소속정당 구분'] == '정의당' or df.loc[i, '소속정당 구분'] == '기본소득당' or df.loc[i, '소속정당 구분'] == '시대전환':\n",
    "        df.loc[i, 'num_seats'] = 185\n",
    "    elif df.loc[i, '소속정당 구분'] == '국민의당':\n",
    "        df.loc[i, 'num_seats'] = 3\n",
    "    elif df.loc[i, '소속정당 구분'] == '무소속':\n",
    "        df.loc[i, 'num_seats'] = 9"
   ]
  },
  {
   "cell_type": "code",
   "execution_count": 26,
   "metadata": {},
   "outputs": [],
   "source": [
    "#법안별 주요내용이 26개 카테고리 주제와 얼마나 유사한지 유사도 계산\n",
    "\n",
    "model = w2v.load('word2vec.model') #모델 불러오기\n",
    "\n",
    "tagger = Mecab()\n",
    "\n",
    "summary_re=[]\n",
    "for text in df['제안내용']:\n",
    "    try:\n",
    "        summary_re.append(re.sub('[^가-힣ㄱ-ㅎㅏ-ㅣa-zA-Z]', ' ', text))\n",
    "    except:\n",
    "        summary_re.append('NaN')\n",
    "    \n",
    "cnt_words = []\n",
    "summary_re3 = []\n",
    "\n",
    "for text in summary_re:\n",
    "    pos_text = tagger.pos(text)\n",
    "    word_list = []\n",
    "    for word in pos_text:\n",
    "        word_list.append(word[0])\n",
    "    cnt_words.append(len(word_list)+1)\n",
    "    summary_re3.append(' '.join(word_list))\n",
    "    \n",
    "df['제안내용_re']=summary_re3"
   ]
  },
  {
   "cell_type": "code",
   "execution_count": 27,
   "metadata": {},
   "outputs": [],
   "source": [
    "words = list()\n",
    "for word in model.wv.vocab:\n",
    "    words.append(word)\n",
    "\n",
    "#주제 카테고리 dic\n",
    "category = {'국회': ['의회', '국회'],\n",
    "            '정당/선거': ['정당', '선거'] ,\n",
    "            '안보': ['군사', '안보', '북한'], \n",
    "            '사법': ['사법', '법원', '검찰', '소송'],\n",
    "            '행정' : ['행정', '지자체', '자치', '경찰', '공무원'],\n",
    "            '재정' : ['재정', '예산', '회계'], \n",
    "            '중소기업' : ['중소기업', '창업', '벤처', '스타트업'],\n",
    "            '에너지' : ['에너지', '수소', '전기', '가스'], \n",
    "            '부동산' : ['주택', '부동산', '주거', '임대차'], \n",
    "            '금융' : ['금융', '투자', '자본', '보험업'], \n",
    "            '자동차' : ['자동차', '승합자동차', '이륜자동차', '승용차'],\n",
    "            '건설/기계/조선' : ['기계', '건설업', '건설사', '건축', '조선업', '해운업', '발주'],\n",
    "            '유통/무역' : ['유통', '물류', '무역', '쇼핑몰', '마트', '백화점'], \n",
    "            'IT' : ['IT', '통신', '게임', '데이터', '인공지능', '블록체인', '클라우드'], \n",
    "            '농축산' : ['농업', '축산', '수산'],\n",
    "            '복지':['복지', '연금', '빈곤', '수당'],\n",
    "            '의료/보건' : ['의료', '보건', '병원', '질병', '의약품'] , \n",
    "            '도시/교통':['도시', '교통', '운전', '도로'],\n",
    "            '교육' : ['교육', '학교', '대학', '유치원', '입시'], \n",
    "            '환경' : ['친환경', '오염', '저탄소', '온실가스', '기후', '수자원'], \n",
    "            '노동' : ['노동', '임금', '노동조합', '퇴직', '채용', '근로'], \n",
    "            '치안/안전' : ['치안', '범죄', '안전', '사고', '소방', '형사'],  \n",
    "            '가족' : ['가족', '아동', '청소년'],\n",
    "            '여성' : ['여성', '출산', '육아', '성범죄', '성희롱'], \n",
    "            '예체능' : ['예술', '영화', '음악', '전시','공연', '문화재', '체육', '방송', '언론', '스포츠', '콘텐츠']\n",
    "            }\n",
    "\n",
    "\n",
    "for key in category.keys():\n",
    "    keyword_similar = np.zeros(shape=(len(words), ))\n",
    "    \n",
    "    for keyword in category[key]:\n",
    "        keyword_similar_2 = []\n",
    "        for word in words:\n",
    "            sm = model.wv.similarity(keyword, word)\n",
    "            if sm >= 0.8:\n",
    "                keyword_similar_2.append(sm)\n",
    "            else:\n",
    "                keyword_similar_2.append(0)\n",
    "\n",
    "        keyword_similar_2 = np.asarray(keyword_similar_2)\n",
    "        keyword_similar += keyword_similar_2\n",
    "    \n",
    "    keyword_similar = list(keyword_similar)\n",
    "    keyword_similar_df = pd.DataFrame({'words': words, 'similar' : keyword_similar})\n",
    "    keyword_similar_df = keyword_similar_df.sort_values(by=['words'], axis=0)\n",
    "    keyword_similar_df = keyword_similar_df.set_index('words')\n",
    "    keyword_similar_df = keyword_similar_df.T\n",
    "\n",
    "    vectorizer = CountVectorizer(vocabulary = keyword_similar_df.columns, binary=False)\n",
    "    X = vectorizer.fit_transform(summary_re3)\n",
    "    words_df = pd.DataFrame(X.toarray(), columns = vectorizer.get_feature_names())\n",
    "    words_df = words_df.T\n",
    "\n",
    "    tdm = np.dot(keyword_similar_df, words_df)\n",
    "    tdm = tdm.T\n",
    "    tdm = np.ravel(tdm) #2차원 배열을 1차원으로 평평하게 만듬\n",
    "    df[key] = list(tdm / cnt_words)"
   ]
  },
  {
   "cell_type": "code",
   "execution_count": 28,
   "metadata": {},
   "outputs": [],
   "source": [
    "#공동발의데이터 전처리\n",
    "spon = pd.read_csv('21th_sponsorship_0104.csv')\n",
    "spon = spon.loc[ spon['의안번호'].isin(df['법안코드']) ].reset_index().drop(['index'],axis=1)\n",
    "spon = spon[spon['구분']!='대표'].fillna(0)\n",
    "spon = spon[spon['당선횟수']!=0]"
   ]
  },
  {
   "cell_type": "code",
   "execution_count": 29,
   "metadata": {},
   "outputs": [],
   "source": [
    "#공동발의 의원들의 평균 선수\n",
    "avg_elected = spon.pivot_table(index=['의안번호'], values=['당선횟수'], aggfunc=np.mean)\n",
    "avg_elected = avg_elected.reset_index()"
   ]
  },
  {
   "cell_type": "code",
   "execution_count": 30,
   "metadata": {},
   "outputs": [],
   "source": [
    "#정당다양성 변수: 공동발의 의원이 모두 같은 당 소속이면 0, 아니면 1\n",
    "\n",
    "party_set = []\n",
    "\n",
    "bill_no = list(set(spon['의안번호']))\n",
    "\n",
    "for no in bill_no:\n",
    "    bill = spon[spon['의안번호']==no]\n",
    "    parties = set(bill['정당'])\n",
    "    if len(parties) >= 2:\n",
    "        party_set.append(1)\n",
    "    else:\n",
    "        party_set.append(0)\n",
    "        \n",
    "diversity = pd.DataFrame({'의안번호': bill_no, '정당다양성':party_set})"
   ]
  },
  {
   "cell_type": "code",
   "execution_count": 31,
   "metadata": {},
   "outputs": [],
   "source": [
    "extra_var = pd.merge(avg_elected, diversity, how='left', on='의안번호')\n",
    "extra_var = extra_var.rename(columns={\"당선횟수\": \"공동발의평균선수\"})\n",
    "extra_var = extra_var.rename(columns={\"의안번호\": \"법안코드\"})\n",
    "\n",
    "df = pd.merge(df, extra_var, how='left', on='법안코드')"
   ]
  },
  {
   "cell_type": "code",
   "execution_count": 32,
   "metadata": {},
   "outputs": [],
   "source": [
    "#상임위 상정 여부 변수\n",
    "\n",
    "for i in range(len(df)):\n",
    "    if type(df.loc[i, '위원회 상정일']) == pd._libs.tslibs.timestamps.Timestamp:\n",
    "        df.loc[i, '상임위 상정 여부'] = 1\n",
    "    else:\n",
    "        df.loc[i, '상임위 상정 여부'] = 0"
   ]
  },
  {
   "cell_type": "code",
   "execution_count": null,
   "metadata": {},
   "outputs": [],
   "source": []
  },
  {
   "cell_type": "markdown",
   "metadata": {},
   "source": [
    "# 반대당발언횟수 추가"
   ]
  },
  {
   "cell_type": "code",
   "execution_count": 84,
   "metadata": {},
   "outputs": [],
   "source": [
    "import sqlite3\n",
    "import pandas as pd\n",
    "conn = sqlite3.connect(\"bills.db\", isolation_level=None)\n",
    "cursor = conn.cursor()\n",
    "\n",
    "cursor.execute(\"select * from bills_2021\")\n",
    "\n",
    "rows = cursor.fetchall() \n",
    "cols = [column[0] for column in cursor.description]\n",
    "\n",
    "df = pd.DataFrame.from_records(data=rows, columns=cols)"
   ]
  },
  {
   "cell_type": "code",
   "execution_count": 85,
   "metadata": {},
   "outputs": [
    {
     "data": {
      "text/plain": [
       "{'2020-06-01',\n",
       " '2020-06-02',\n",
       " '2020-06-03',\n",
       " '2020-06-04',\n",
       " '2020-06-05',\n",
       " '2020-06-08',\n",
       " '2020-06-09',\n",
       " '2020-06-10',\n",
       " '2020-06-11',\n",
       " '2020-06-12',\n",
       " '2020-06-15',\n",
       " '2020-06-16',\n",
       " '2020-06-17',\n",
       " '2020-06-18',\n",
       " '2020-06-19',\n",
       " '2020-06-22',\n",
       " '2020-06-23',\n",
       " '2020-06-24',\n",
       " '2020-06-25',\n",
       " '2020-06-26',\n",
       " '2020-06-29',\n",
       " '2020-06-30',\n",
       " '2020-07-01',\n",
       " '2020-07-02',\n",
       " '2020-07-03',\n",
       " '2020-07-06',\n",
       " '2020-07-07',\n",
       " '2020-07-08',\n",
       " '2020-07-09',\n",
       " '2020-07-10',\n",
       " '2020-07-13',\n",
       " '2020-07-14',\n",
       " '2020-07-15',\n",
       " '2020-07-16',\n",
       " '2020-07-17',\n",
       " '2020-07-20',\n",
       " '2020-07-21',\n",
       " '2020-07-22',\n",
       " '2020-07-23',\n",
       " '2020-07-24',\n",
       " '2020-07-27',\n",
       " '2020-07-28',\n",
       " '2020-07-29',\n",
       " '2020-07-30',\n",
       " '2020-07-31',\n",
       " '2020-08-03',\n",
       " '2020-08-04',\n",
       " '2020-08-05',\n",
       " '2020-08-06',\n",
       " '2020-08-07',\n",
       " '2020-08-10',\n",
       " '2020-08-11',\n",
       " '2020-08-12',\n",
       " '2020-08-13',\n",
       " '2020-08-14',\n",
       " '2020-08-18',\n",
       " '2020-08-19',\n",
       " '2020-08-20',\n",
       " '2020-08-21',\n",
       " '2020-08-24',\n",
       " '2020-08-25',\n",
       " '2020-08-26',\n",
       " '2020-08-31',\n",
       " '2020-09-01',\n",
       " '2020-09-02',\n",
       " '2020-09-03',\n",
       " '2020-09-07',\n",
       " '2020-09-08',\n",
       " '2020-09-09',\n",
       " '2020-09-10',\n",
       " '2020-09-11',\n",
       " '2020-09-14',\n",
       " '2020-09-15',\n",
       " '2020-09-16',\n",
       " '2020-09-17',\n",
       " '2020-09-18',\n",
       " '2020-09-21',\n",
       " '2020-09-22',\n",
       " '2020-09-23',\n",
       " '2020-09-24',\n",
       " '2020-09-25',\n",
       " '2020-09-28',\n",
       " '2020-09-29',\n",
       " '2020-10-05',\n",
       " '2020-10-06',\n",
       " '2020-10-07',\n",
       " '2020-10-08',\n",
       " '2020-10-12',\n",
       " '2020-10-13',\n",
       " '2020-10-14',\n",
       " '2020-10-15',\n",
       " '2020-10-16',\n",
       " '2020-10-19',\n",
       " '2020-10-20',\n",
       " '2020-10-21',\n",
       " '2020-10-22',\n",
       " '2020-10-23',\n",
       " '2020-10-26',\n",
       " '2020-10-27',\n",
       " '2020-10-28',\n",
       " '2020-10-29',\n",
       " '2020-10-30',\n",
       " '2020-11-03',\n",
       " '2020-11-12',\n",
       " '2020-11-19',\n",
       " '2020-11-26',\n",
       " '2020-12-01',\n",
       " '2020-12-02',\n",
       " '2020-12-03',\n",
       " '2020-12-04',\n",
       " '2020-12-07',\n",
       " '2020-12-08',\n",
       " '2020-12-09',\n",
       " '2020-12-10',\n",
       " '2020-12-11',\n",
       " '2020-12-14',\n",
       " '2020-12-15',\n",
       " '2020-12-16',\n",
       " '2020-12-17',\n",
       " '2020-12-18',\n",
       " '2020-12-21',\n",
       " '2020-12-22',\n",
       " '2020-12-23',\n",
       " '2020-12-24',\n",
       " '2020-12-28',\n",
       " '2020-12-29',\n",
       " '2020-12-30',\n",
       " '2020-12-31',\n",
       " '2021-01-04',\n",
       " '2021-01-05',\n",
       " '2021-01-06',\n",
       " '2021-01-07',\n",
       " '2021-01-08',\n",
       " '2021-01-11',\n",
       " '2021-01-12',\n",
       " '2021-01-13',\n",
       " '2021-01-14',\n",
       " '2021-01-15',\n",
       " '2021-01-18',\n",
       " '2021-01-19',\n",
       " '2021-01-20',\n",
       " '2021-01-21',\n",
       " '2021-01-22',\n",
       " None}"
      ]
     },
     "execution_count": 85,
     "metadata": {},
     "output_type": "execute_result"
    }
   ],
   "source": [
    "set(df['proposeDt'])"
   ]
  },
  {
   "cell_type": "code",
   "execution_count": 71,
   "metadata": {},
   "outputs": [
    {
     "data": {
      "text/plain": [
       "109    None\n",
       "Name: presentDt, dtype: object"
      ]
     },
     "execution_count": 71,
     "metadata": {},
     "output_type": "execute_result"
    }
   ],
   "source": [
    "df[df['billId']=='PRC_B2T0C0I9W0W3S1X1F0G4E3X2R1M1Y4']['presentDt']"
   ]
  },
  {
   "cell_type": "code",
   "execution_count": 7,
   "metadata": {},
   "outputs": [
    {
     "data": {
      "text/plain": [
       "{'committeeName': '문화체육관광위원회',\n",
       " 'presentDt': None,\n",
       " 'procDt': None,\n",
       " 'procResultCd': None,\n",
       " 'submitDt': '2021-01-18'}"
      ]
     },
     "execution_count": 7,
     "metadata": {},
     "output_type": "execute_result"
    }
   ],
   "source": [
    "idx = 'PRC_Q2T1M0X1D0M4W1T4M3O0R3Y4C7O3D2'\n",
    "url = f\"http://apis.data.go.kr/9710000/BillInfoService2/getBillCommissionExaminationInfo?bill_id={idx}&ServiceKey=\" + MYKEY2\n",
    "req = requests.get(url)\n",
    "xpars = xmltodict.parse(req.text)\n",
    "jsonDump = json.dumps(xpars)\n",
    "jsonBody = json.loads(jsonDump)\n",
    "dt = jsonBody['response']['body']['JurisdictionExamination']['item']\n",
    "dt"
   ]
  },
  {
   "cell_type": "code",
   "execution_count": 10,
   "metadata": {},
   "outputs": [],
   "source": [
    "conn = sqlite3.connect(\"bills.db\", isolation_level=None)\n",
    "cursor = conn.cursor()\n",
    "\n",
    "cursor.execute(\"select * from bills_2021\")\n",
    "rows = cursor.fetchall()\n",
    "cols = [column[0] for column in cursor.description]\n",
    "\n",
    "df = pd.DataFrame.from_records(data=rows, columns=cols)"
   ]
  },
  {
   "cell_type": "code",
   "execution_count": 40,
   "metadata": {},
   "outputs": [
    {
     "data": {
      "text/plain": [
       "Index(['billId', 'billName', 'billNo', 'passGubn', 'procStageCd', 'proposeDt',\n",
       "       'proposerKind', 'summary', 'generalResult', 'procDt', 'index', '공동발의자수',\n",
       "       '공동발의평균선수', 'diversity', 'presentDt', 'COMMITTEE', 'PROC_RESULT',\n",
       "       'RST_PROPOSER', 'PUBL_PROPOSER', 'COMMITTEE_ID', 'polyNm', '당선횟수',\n",
       "       '선출형태'],\n",
       "      dtype='object')"
      ]
     },
     "execution_count": 40,
     "metadata": {},
     "output_type": "execute_result"
    }
   ],
   "source": [
    "df.columns"
   ]
  },
  {
   "cell_type": "code",
   "execution_count": 49,
   "metadata": {},
   "outputs": [],
   "source": [
    "mykey = \"f9191bcb5fc3472890a5e84347ae5ebb\"\n",
    "url3 = f\"https://open.assembly.go.kr/portal/openapi/nwvrqwxyaytdsfvhu?KEY={mykey}&Type=json&pSize=300\"\n",
    "req = requests.get(url3).json()\n",
    "congressman = pd.DataFrame(req['nwvrqwxyaytdsfvhu'][1]['row'])\n",
    "\n",
    "for i in range(len(congressman)):\n",
    "    congressman.loc[i, '당선횟수'] = len(congressman.loc[i, 'UNITS'].split(', '))"
   ]
  },
  {
   "cell_type": "code",
   "execution_count": 69,
   "metadata": {},
   "outputs": [
    {
     "data": {
      "text/html": [
       "<div>\n",
       "<style scoped>\n",
       "    .dataframe tbody tr th:only-of-type {\n",
       "        vertical-align: middle;\n",
       "    }\n",
       "\n",
       "    .dataframe tbody tr th {\n",
       "        vertical-align: top;\n",
       "    }\n",
       "\n",
       "    .dataframe thead th {\n",
       "        text-align: right;\n",
       "    }\n",
       "</style>\n",
       "<table border=\"1\" class=\"dataframe\">\n",
       "  <thead>\n",
       "    <tr style=\"text-align: right;\">\n",
       "      <th></th>\n",
       "      <th>HG_NM</th>\n",
       "      <th>HJ_NM</th>\n",
       "      <th>ENG_NM</th>\n",
       "      <th>BTH_GBN_NM</th>\n",
       "      <th>BTH_DATE</th>\n",
       "      <th>JOB_RES_NM</th>\n",
       "      <th>POLY_NM</th>\n",
       "      <th>ORIG_NM</th>\n",
       "      <th>ELECT_GBN_NM</th>\n",
       "      <th>CMIT_NM</th>\n",
       "      <th>...</th>\n",
       "      <th>SEX_GBN_NM</th>\n",
       "      <th>TEL_NO</th>\n",
       "      <th>E_MAIL</th>\n",
       "      <th>HOMEPAGE</th>\n",
       "      <th>STAFF</th>\n",
       "      <th>SECRETARY</th>\n",
       "      <th>SECRETARY2</th>\n",
       "      <th>MONA_CD</th>\n",
       "      <th>MEM_TITLE</th>\n",
       "      <th>당선횟수</th>\n",
       "    </tr>\n",
       "  </thead>\n",
       "  <tbody>\n",
       "    <tr>\n",
       "      <th>145</th>\n",
       "      <td>양금희</td>\n",
       "      <td>梁琴喜</td>\n",
       "      <td>YANG KUMHEE</td>\n",
       "      <td>양</td>\n",
       "      <td>1961-11-15</td>\n",
       "      <td>위원</td>\n",
       "      <td>국민의힘</td>\n",
       "      <td>대구 북구갑</td>\n",
       "      <td>지역구</td>\n",
       "      <td>산업통상자원중소벤처기업위원회</td>\n",
       "      <td>...</td>\n",
       "      <td>여</td>\n",
       "      <td>02-784-7451~7453</td>\n",
       "      <td>ygoldh8999@naver.com</td>\n",
       "      <td>https://blog.naver.com/ygoldh8999</td>\n",
       "      <td>박종욱, 이현진</td>\n",
       "      <td>김홍석, 이은정</td>\n",
       "      <td>유도영, 김균서, 양지, 권기환, 백승미</td>\n",
       "      <td>VG24001G</td>\n",
       "      <td>- 학 력 \\r\\n1968.03 ~ 1974.02 대구 남산초등학교\\r\\n1974....</td>\n",
       "      <td>1.0</td>\n",
       "    </tr>\n",
       "  </tbody>\n",
       "</table>\n",
       "<p>1 rows × 23 columns</p>\n",
       "</div>"
      ],
      "text/plain": [
       "    HG_NM HJ_NM       ENG_NM BTH_GBN_NM    BTH_DATE JOB_RES_NM POLY_NM  \\\n",
       "145   양금희   梁琴喜  YANG KUMHEE          양  1961-11-15         위원    국민의힘   \n",
       "\n",
       "    ORIG_NM ELECT_GBN_NM          CMIT_NM  ... SEX_GBN_NM            TEL_NO  \\\n",
       "145  대구 북구갑          지역구  산업통상자원중소벤처기업위원회  ...          여  02-784-7451~7453   \n",
       "\n",
       "                   E_MAIL                           HOMEPAGE     STAFF  \\\n",
       "145  ygoldh8999@naver.com  https://blog.naver.com/ygoldh8999  박종욱, 이현진   \n",
       "\n",
       "    SECRETARY              SECRETARY2   MONA_CD  \\\n",
       "145  김홍석, 이은정  유도영, 김균서, 양지, 권기환, 백승미  VG24001G   \n",
       "\n",
       "                                             MEM_TITLE 당선횟수  \n",
       "145  - 학 력 \\r\\n1968.03 ~ 1974.02 대구 남산초등학교\\r\\n1974....  1.0  \n",
       "\n",
       "[1 rows x 23 columns]"
      ]
     },
     "execution_count": 69,
     "metadata": {},
     "output_type": "execute_result"
    }
   ],
   "source": [
    "congressman[congressman['HG_NM']=='양금희']"
   ]
  },
  {
   "cell_type": "code",
   "execution_count": 55,
   "metadata": {},
   "outputs": [
    {
     "data": {
      "text/html": [
       "<div>\n",
       "<style scoped>\n",
       "    .dataframe tbody tr th:only-of-type {\n",
       "        vertical-align: middle;\n",
       "    }\n",
       "\n",
       "    .dataframe tbody tr th {\n",
       "        vertical-align: top;\n",
       "    }\n",
       "\n",
       "    .dataframe thead th {\n",
       "        text-align: right;\n",
       "    }\n",
       "</style>\n",
       "<table border=\"1\" class=\"dataframe\">\n",
       "  <thead>\n",
       "    <tr style=\"text-align: right;\">\n",
       "      <th></th>\n",
       "      <th>HJ_NM</th>\n",
       "      <th>POLY_NM</th>\n",
       "      <th>당선횟수</th>\n",
       "      <th>ELECT_GBN_NM</th>\n",
       "    </tr>\n",
       "  </thead>\n",
       "  <tbody>\n",
       "    <tr>\n",
       "      <th>124</th>\n",
       "      <td>成一鍾</td>\n",
       "      <td>국민의힘</td>\n",
       "      <td>2.0</td>\n",
       "      <td>지역구</td>\n",
       "    </tr>\n",
       "  </tbody>\n",
       "</table>\n",
       "</div>"
      ],
      "text/plain": [
       "    HJ_NM POLY_NM  당선횟수 ELECT_GBN_NM\n",
       "124   成一鍾    국민의힘   2.0          지역구"
      ]
     },
     "execution_count": 55,
     "metadata": {},
     "output_type": "execute_result"
    }
   ],
   "source": [
    "congressman_re = congressman[['HJ_NM', 'POLY_NM', '당선횟수', 'ELECT_GBN_NM']]\n",
    "congressman_re[congressman_re['HJ_NM']=='成一鍾']"
   ]
  },
  {
   "cell_type": "code",
   "execution_count": 6,
   "metadata": {},
   "outputs": [],
   "source": [
    "import requests\n",
    "import xmltodict\n",
    "import json\n",
    "import pandas as pd\n",
    "\n",
    "\n",
    "billId = 'PRC_Q2T1M0X1D0M4W1T4M3O0R3Y4C7O3D2'\n",
    "MYKEY2 = \"sh1BLNic10zE0pynUHLuP0%2FDxTd5Fi4m5%2B4CojHK%2B%2BXTxH9ykyO3yVPROWHp3zsR9%2BB38%2BkIGmWgHB%2BYfmUB6A%3D%3D\"\n",
    "url2 = f\"http://apis.data.go.kr/9710000/BillInfoService2/getBillPetitionMemberList?gbn1=bill&gbn2=reception&bill_id={billId}&ServiceKey=\" + MYKEY2\n",
    "\n",
    "req = requests.get(url2)\n",
    "xpars = xmltodict.parse(req.text)\n",
    "\n",
    "jsonDump = json.dumps(xpars)\n",
    "jsonBody = json.loads(jsonDump)\n",
    "\n",
    "date = pd.DataFrame(jsonBody['response']['body']['items']['item'])"
   ]
  },
  {
   "cell_type": "code",
   "execution_count": 3,
   "metadata": {},
   "outputs": [],
   "source": [
    "for i in range(len(date)):\n",
    "    if date.loc[i, 'polyNm'] == '미래통합당':\n",
    "        date.loc[i, 'polyNm'] = '국민의힘'"
   ]
  },
  {
   "cell_type": "code",
   "execution_count": 5,
   "metadata": {},
   "outputs": [
    {
     "data": {
      "text/plain": [
       "'더불어민주당'"
      ]
     },
     "execution_count": 5,
     "metadata": {},
     "output_type": "execute_result"
    }
   ],
   "source": [
    "date.loc[0, 'polyNm']"
   ]
  },
  {
   "cell_type": "code",
   "execution_count": 15,
   "metadata": {},
   "outputs": [
    {
     "data": {
      "text/plain": [
       "{None, '박덕흠', '전봉민'}"
      ]
     },
     "execution_count": 15,
     "metadata": {},
     "output_type": "execute_result"
    }
   ],
   "source": [
    "a = df[df['선출형태']!='비례대표']\n",
    "b = a[a['선출형태']!='지역구']\n",
    "c = b[b['proposerKind']=='의원']\n",
    "set(c['RST_PROPOSER'])"
   ]
  },
  {
   "cell_type": "code",
   "execution_count": 23,
   "metadata": {},
   "outputs": [],
   "source": [
    "committee = ['보건복지위원회',\n",
    "       '행정안전위원회', '산업통상자원중소벤처기업위원회', '문화체육관광위원회', '국회운영위원회', '법제사법위원회',\n",
    "       '국방위원회', '국토교통위원회', '기획재정위원회', '특별위원회', '여성가족위원회', '농림축산식품해양수산위원회',\n",
    "       '외교통일위원회', '정보위원회', '과학기술정보방송통신위원회', '환경노동위원회', '교육위원회', '정무위원회']\n",
    "\n",
    "for com in committee:\n",
    "    if com not in df.columns:\n",
    "        df[com] = 0\n",
    "        \n",
    "data = pd.get_dummies(df,columns=['입법형태','선출형태', 'party', '정당다양성', '상임위 상정 여부'])"
   ]
  },
  {
   "cell_type": "code",
   "execution_count": 24,
   "metadata": {},
   "outputs": [
    {
     "data": {
      "text/plain": [
       "Index(['법안코드', '법안명', 'billNo', 'passGubn', 'procStageCd', '접수일자',\n",
       "       'proposerKind', 'summary', 'generalResult', 'procDt', 'index', '공동발의자수',\n",
       "       '공동발의평균선수', 'presentDt', 'COMMITTEE', 'PROC_RESULT', '제안자',\n",
       "       'PUBL_PROPOSER', 'COMMITTEE_ID', 'polyNm', '당선횟수', '처리구분', '특별위원회',\n",
       "       '환경노동위원회', '여성가족위원회', '법제사법위원회', '농림축산식품해양수산위원회', '기획재정위원회', '국방위원회',\n",
       "       '과학기술정보방송통신위원회', '산업통상자원중소벤처기업위원회', '국토교통위원회', '행정안전위원회', '보건복지위원회',\n",
       "       '문화체육관광위원회', '교육위원회', '외교통일위원회', '정무위원회', '국회운영위원회', 'num_seats',\n",
       "       'summary_re', '국회', '정당/선거', '안보', '사법', '행정', '재정', '중소기업', '에너지',\n",
       "       '부동산', '금융', '자동차', '건설/기계/조선', '유통/무역', 'IT', '농축산', '복지', '의료/보건',\n",
       "       '도시/교통', '교육', '환경', '노동', '치안/안전', '가족', '여성', '예체능', '반대당발언횟수',\n",
       "       '정보위원회', '입법형태_일부개정법률안', '입법형태_전부개정', '입법형태_제정', '선출형태_비례대표',\n",
       "       '선출형태_지역구', 'party_0', 'party_1', 'party_2', 'party_3', 'party_4',\n",
       "       'party_5', '정당다양성_0.0', '정당다양성_1.0', '상임위 상정 여부_0.0', '상임위 상정 여부_1.0'],\n",
       "      dtype='object')"
      ]
     },
     "execution_count": 24,
     "metadata": {},
     "output_type": "execute_result"
    }
   ],
   "source": [
    "data.columns"
   ]
  },
  {
   "cell_type": "code",
   "execution_count": 50,
   "metadata": {},
   "outputs": [],
   "source": [
    "#소관위에서 대표발의자와 다른 정당 의원이 발언한 횟수 변수화하기\n",
    "hearings = pd.read_excel('hearings_count.xlsx') #회의록 데이터\n",
    "hearings = hearings.rename(columns={\"법안번호\": \"법안코드\"})\n",
    "hearings = hearings.loc[ hearings['법안코드'].isin(df['법안코드']) ].reset_index().drop(['index'],axis=1)\n",
    "hearings_df = pd.merge(hearings, df, how='left', on='법안코드')"
   ]
  },
  {
   "cell_type": "code",
   "execution_count": 24,
   "metadata": {},
   "outputs": [
    {
     "data": {
      "text/plain": [
       "Index(['billId', 'billName', 'billNo', 'passGubn', 'procStageCd', 'proposeDt',\n",
       "       'proposerKind', 'summary', 'generalResult', 'procDt', 'index', '공동발의자수',\n",
       "       '공동발의평균선수', 'diversity', 'presentDt', 'COMMITTEE', 'PROC_RESULT',\n",
       "       'RST_PROPOSER', 'PUBL_PROPOSER', 'COMMITTEE_ID', 'polyNm', '당선횟수',\n",
       "       '선출형태'],\n",
       "      dtype='object')"
      ]
     },
     "execution_count": 24,
     "metadata": {},
     "output_type": "execute_result"
    }
   ],
   "source": [
    "df.columns"
   ]
  },
  {
   "cell_type": "code",
   "execution_count": 72,
   "metadata": {},
   "outputs": [],
   "source": [
    "import pandas as pd\n",
    "conn = sqlite3.connect(\"bills.db\", isolation_level=None)\n",
    "cursor = conn.cursor()\n",
    "\n",
    "cursor.execute(\"select * from bills_2021\")\n",
    "rows = cursor.fetchall()\n",
    "cols = [column[0] for column in cursor.description]\n",
    "\n",
    "df = pd.DataFrame.from_records(data=rows, columns=cols)\n",
    "df = df.rename(columns={'billId':'법안코드'})\n",
    "\n",
    "hearings = pd.read_excel('hearings_0125.xlsx') #회의록 데이터\n",
    "hearings = hearings.rename(columns={\"pbl_id\": \"법안코드\"})\n",
    "hearings = hearings.loc[ hearings['법안코드'].isin(df['법안코드']) ].reset_index().drop(['index'],axis=1)\n",
    "hearings_df = pd.merge(hearings, df, how='left', on='법안코드')"
   ]
  },
  {
   "cell_type": "code",
   "execution_count": null,
   "metadata": {},
   "outputs": [],
   "source": [
    "#잠시보류\n",
    "import numpy as np\n",
    "count_full = hearings.pivot_table(index='법안코드', values='횟수', aggfunc=np.sum).reset_index()\n",
    "count_full = count_full.rename(columns={'횟수':'전체횟수'})"
   ]
  },
  {
   "cell_type": "code",
   "execution_count": 73,
   "metadata": {},
   "outputs": [],
   "source": [
    "from datetime import datetime\n",
    "\n",
    "party_21th = pd.read_csv('party_21th.csv')\n",
    "party_21th = party_21th[['emp_nm', 'poly_nm']]\n",
    "party_21th = party_21th.rename(columns={'emp_nm':'화자'})\n",
    "df_merged = pd.merge(hearings_df, party_21th, how='left', on='화자')\n",
    "#df_merged = df_merged.rename(columns={'정당':'제안자 정당'}).reset_index()\n",
    "df_merged = df_merged.rename(columns={'poly_nm':'화자 정당'})"
   ]
  },
  {
   "cell_type": "code",
   "execution_count": 34,
   "metadata": {},
   "outputs": [
    {
     "data": {
      "text/plain": [
       "Index(['대수', '법안코드', '법안명', '직책', '화자', 'count', 'billName', 'billNo',\n",
       "       'passGubn', 'procStageCd', 'proposeDt', 'proposerKind', 'summary',\n",
       "       'generalResult', 'procDt', 'index', '공동발의자수', '공동발의평균선수', 'diversity',\n",
       "       'presentDt', 'COMMITTEE', 'PROC_RESULT', '제안자', 'PUBL_PROPOSER',\n",
       "       'COMMITTEE_ID', 'polyNm', '당선횟수', '선출형태', '화자 정당', '제안자 정당'],\n",
       "      dtype='object')"
      ]
     },
     "execution_count": 34,
     "metadata": {},
     "output_type": "execute_result"
    }
   ],
   "source": [
    "df_merged.columns"
   ]
  },
  {
   "cell_type": "code",
   "execution_count": 74,
   "metadata": {},
   "outputs": [],
   "source": [
    "party_21th = party_21th.rename(columns={'화자':'제안자'})\n",
    "df_merged = df_merged.rename(columns={'RST_PROPOSER':'제안자'})\n",
    "df_merged = pd.merge(df_merged, party_21th, how='left', on='제안자')\n",
    "df_merged = df_merged.rename(columns={'poly_nm':'제안자 정당'})"
   ]
  },
  {
   "cell_type": "code",
   "execution_count": 75,
   "metadata": {},
   "outputs": [],
   "source": [
    "df_merged['상임위원장 정당'] = '더불어민주당'\n",
    "\n",
    "for i in range(len(df_merged)):\n",
    "    if df_merged.loc[i, '제안자'] == '위원장': #위원장이 발의한 경우 상임위원장 정당을 제안자 정당으로 본다\n",
    "        df_merged.loc[i, '제안자 정당'] = df_merged.loc[i, '상임위원장 정당']\n",
    "        \n",
    "for i in range(len(df_merged)):\n",
    "    if df_merged.loc[i, '제안자'] == '정부':   #정부가 발의한 경우 더불어민주당(20대 국회 하반기: 문재인 정부)을 제안자 정당으로 본다\n",
    "        df_merged.loc[i, '제안자 정당'] = '더불어민주당'"
   ]
  },
  {
   "cell_type": "code",
   "execution_count": 38,
   "metadata": {},
   "outputs": [
    {
     "data": {
      "text/plain": [
       "Index(['대수', '법안코드', '법안명', '직책', '화자', 'count', 'billName', 'billNo',\n",
       "       'passGubn', 'procStageCd', 'proposeDt', 'proposerKind', 'summary',\n",
       "       'generalResult', 'procDt', 'index', '공동발의자수', '공동발의평균선수', 'diversity',\n",
       "       'presentDt', 'COMMITTEE', 'PROC_RESULT', '제안자', 'PUBL_PROPOSER',\n",
       "       'COMMITTEE_ID', 'polyNm', '당선횟수', '선출형태', '화자 정당', '제안자 정당',\n",
       "       '상임위원장 정당'],\n",
       "      dtype='object')"
      ]
     },
     "execution_count": 38,
     "metadata": {},
     "output_type": "execute_result"
    }
   ],
   "source": [
    "df_merged"
   ]
  },
  {
   "cell_type": "code",
   "execution_count": 76,
   "metadata": {},
   "outputs": [],
   "source": [
    "bill_no = list(set(df_merged['법안코드']))\n",
    "\n",
    "cnt_list = []\n",
    "\n",
    "for no in bill_no:\n",
    "    bill_df = df_merged[df_merged['법안코드']==no].reset_index()\n",
    "    cnt = 0\n",
    "    for i in range(len(bill_df)):\n",
    "        if bill_df['제안자 정당'][0] != bill_df.loc[i, '화자 정당'] and type(bill_df.loc[i, '화자 정당']) == str:\n",
    "            cnt+=bill_df.loc[i, 'count']\n",
    "    cnt_list.append(cnt)\n",
    "\n",
    "bill_cnt = pd.DataFrame({'반대당발언횟수': cnt_list, '법안코드':bill_no})"
   ]
  },
  {
   "cell_type": "code",
   "execution_count": 66,
   "metadata": {},
   "outputs": [],
   "source": [
    "bill_cnt = pd.merge(bill_cnt, count_full, how='left', on='법안코드')"
   ]
  },
  {
   "cell_type": "code",
   "execution_count": 77,
   "metadata": {},
   "outputs": [
    {
     "data": {
      "text/html": [
       "<div>\n",
       "<style scoped>\n",
       "    .dataframe tbody tr th:only-of-type {\n",
       "        vertical-align: middle;\n",
       "    }\n",
       "\n",
       "    .dataframe tbody tr th {\n",
       "        vertical-align: top;\n",
       "    }\n",
       "\n",
       "    .dataframe thead th {\n",
       "        text-align: right;\n",
       "    }\n",
       "</style>\n",
       "<table border=\"1\" class=\"dataframe\">\n",
       "  <thead>\n",
       "    <tr style=\"text-align: right;\">\n",
       "      <th></th>\n",
       "      <th>반대당발언횟수</th>\n",
       "      <th>법안코드</th>\n",
       "    </tr>\n",
       "  </thead>\n",
       "  <tbody>\n",
       "    <tr>\n",
       "      <th>0</th>\n",
       "      <td>4</td>\n",
       "      <td>PRC_J2Q0S0C6A2Q2N1I4B1J2K2I2O2Z9J0</td>\n",
       "    </tr>\n",
       "    <tr>\n",
       "      <th>1</th>\n",
       "      <td>18</td>\n",
       "      <td>PRC_S2K0G0G9B0I2T0Z9L4C8R1N5B3A7U0</td>\n",
       "    </tr>\n",
       "    <tr>\n",
       "      <th>2</th>\n",
       "      <td>26</td>\n",
       "      <td>PRC_G2X0C0O9N0I1N1N4U5H6G3G0O3C0P0</td>\n",
       "    </tr>\n",
       "    <tr>\n",
       "      <th>3</th>\n",
       "      <td>0</td>\n",
       "      <td>PRC_H2N0C0Y9Z0B2W1S1C5R0I4I9I4L7S3</td>\n",
       "    </tr>\n",
       "    <tr>\n",
       "      <th>4</th>\n",
       "      <td>0</td>\n",
       "      <td>PRC_H2R0X0G6Y1I6Z1H8R5V8M4P6H3K9T3</td>\n",
       "    </tr>\n",
       "    <tr>\n",
       "      <th>...</th>\n",
       "      <td>...</td>\n",
       "      <td>...</td>\n",
       "    </tr>\n",
       "    <tr>\n",
       "      <th>2891</th>\n",
       "      <td>3</td>\n",
       "      <td>PRC_N2U0P0C8C0S7X1O4Y0V1D1Y2M6T6N5</td>\n",
       "    </tr>\n",
       "    <tr>\n",
       "      <th>2892</th>\n",
       "      <td>75</td>\n",
       "      <td>PRC_K2B0B0W6S2S5Q1X2V0H4N2Q1G7G2Z3</td>\n",
       "    </tr>\n",
       "    <tr>\n",
       "      <th>2893</th>\n",
       "      <td>4</td>\n",
       "      <td>PRC_V2U0N0U9Y0R9Z1O7Y3Y8A4U2V2L2V2</td>\n",
       "    </tr>\n",
       "    <tr>\n",
       "      <th>2894</th>\n",
       "      <td>3</td>\n",
       "      <td>ARC_D2X0Y0W6O1K7Y1K7X5I3F4E5Z0E1C7</td>\n",
       "    </tr>\n",
       "    <tr>\n",
       "      <th>2895</th>\n",
       "      <td>0</td>\n",
       "      <td>PRC_Z2D0S0C6K1S9Q1I6D3K0D0B2V7D2X5</td>\n",
       "    </tr>\n",
       "  </tbody>\n",
       "</table>\n",
       "<p>2896 rows × 2 columns</p>\n",
       "</div>"
      ],
      "text/plain": [
       "      반대당발언횟수                                법안코드\n",
       "0           4  PRC_J2Q0S0C6A2Q2N1I4B1J2K2I2O2Z9J0\n",
       "1          18  PRC_S2K0G0G9B0I2T0Z9L4C8R1N5B3A7U0\n",
       "2          26  PRC_G2X0C0O9N0I1N1N4U5H6G3G0O3C0P0\n",
       "3           0  PRC_H2N0C0Y9Z0B2W1S1C5R0I4I9I4L7S3\n",
       "4           0  PRC_H2R0X0G6Y1I6Z1H8R5V8M4P6H3K9T3\n",
       "...       ...                                 ...\n",
       "2891        3  PRC_N2U0P0C8C0S7X1O4Y0V1D1Y2M6T6N5\n",
       "2892       75  PRC_K2B0B0W6S2S5Q1X2V0H4N2Q1G7G2Z3\n",
       "2893        4  PRC_V2U0N0U9Y0R9Z1O7Y3Y8A4U2V2L2V2\n",
       "2894        3  ARC_D2X0Y0W6O1K7Y1K7X5I3F4E5Z0E1C7\n",
       "2895        0  PRC_Z2D0S0C6K1S9Q1I6D3K0D0B2V7D2X5\n",
       "\n",
       "[2896 rows x 2 columns]"
      ]
     },
     "execution_count": 77,
     "metadata": {},
     "output_type": "execute_result"
    }
   ],
   "source": [
    "bill_cnt"
   ]
  },
  {
   "cell_type": "code",
   "execution_count": 42,
   "metadata": {},
   "outputs": [
    {
     "data": {
      "text/plain": [
       "<sqlite3.Cursor at 0x20aa4dbe960>"
      ]
     },
     "execution_count": 42,
     "metadata": {},
     "output_type": "execute_result"
    }
   ],
   "source": [
    "cursor.execute('ALTER TABLE bills_2021 ADD COLUMN 반대당발언횟수 integer')"
   ]
  },
  {
   "cell_type": "code",
   "execution_count": 78,
   "metadata": {
    "collapsed": true,
    "jupyter": {
     "outputs_hidden": true
    }
   },
   "outputs": [
    {
     "data": {
      "text/plain": [
       "[(4, 'PRC_J2Q0S0C6A2Q2N1I4B1J2K2I2O2Z9J0'),\n",
       " (18, 'PRC_S2K0G0G9B0I2T0Z9L4C8R1N5B3A7U0'),\n",
       " (26, 'PRC_G2X0C0O9N0I1N1N4U5H6G3G0O3C0P0'),\n",
       " (0, 'PRC_H2N0C0Y9Z0B2W1S1C5R0I4I9I4L7S3'),\n",
       " (0, 'PRC_H2R0X0G6Y1I6Z1H8R5V8M4P6H3K9T3'),\n",
       " (1, 'PRC_V2I0R0E7R1F0I1M8O0U2M0F9J3O5Q5'),\n",
       " (0, 'PRC_O2X0H0Q7C2F7T1K1P1C1L2M6M8M6E4'),\n",
       " (0, 'PRC_H2S0S0P7R0E7Q1R7Z2T4I5A3C8T1M1'),\n",
       " (1, 'PRC_C2H0W0H9L0F7V1H0B2O1S3C8A0R7M2'),\n",
       " (0, 'PRC_G2O0T0X8Z1S2U1G0N4P6B2V5Z0I7J4'),\n",
       " (0, 'PRC_S2I0O0L8A2J4S1T9K5O2P5K2A0U1G6'),\n",
       " (0, 'PRC_Y2O0U0C7M0N2U1F7W2F1Q2T6F4J9R6'),\n",
       " (0, 'PRC_T2S0W0O8Z0Y5K1L3G5E8D3D3U3Q3S4'),\n",
       " (5, 'PRC_W2I0F0P6X0H4L0B9E5G2Q5Q7B6Q5H9'),\n",
       " (0, 'PRC_I2D0C1V1K2G6S1J0A0B8W5H1T9N8H0'),\n",
       " (1, 'PRC_E2O0Q0L6D2O9O1R4B3R2T3A2X0L1T3'),\n",
       " (2, 'PRC_R2R0H0D6A2X4E1O7U5X8M4E6G8S5O1'),\n",
       " (1, 'PRC_L2J0Z0E8K3D1K1E1G5J7O1B1W1P7I3'),\n",
       " (86, 'PRC_S2O0Y0V6S0W4L0T9V4S8Q2T7R1O2R3'),\n",
       " (133, 'PRC_V2S0V0H7W2Z9M1H8P2I3M2V3D2C9G0'),\n",
       " (10, 'PRC_W2A0F0C8S0T3R1H1P2T4E4C3A6L3O2'),\n",
       " (2, 'PRC_D2S0L1D2B0X1Z0G0G0G3G2C0I2U7Y6'),\n",
       " (493, 'PRC_H2L0B0Q8W0M4O1U6Y4K9Y2X3O9K7W9'),\n",
       " (0, 'ARC_C2M0O0M9I2E5M1R3F5G9M0T9R9D8V7'),\n",
       " (2, 'PRC_W2I0W0Q9Z1Q7P1D5H4U3Y3I5T8M0G6'),\n",
       " (2, 'ARC_J2Y0P1I1E2W0N1E5U5T7Y5L0O8J1X4'),\n",
       " (3, 'PRC_V2Y0A0H6D1V8F1G3S5Q3N4R4L3S0D5'),\n",
       " (2, 'PRC_Y2A0W0B6B0D1P1P1V3G4K5X3Q8D1K1'),\n",
       " (347, 'ARC_L2I0K0J8L3F1Q1B3X3T8M4R0Z4Y8Y4'),\n",
       " (2, 'PRC_I2W0X0K6M3E0L1S6N0Q8Y2H2K6T8B5'),\n",
       " (1, 'PRC_J2Y0Z0F6A3K0X1M7O2G3Y2G8B0I5X1'),\n",
       " (0, 'PRC_L2M0C1I0X1J6S1Q1Z0X7F3S6L4Q5B1'),\n",
       " (3, 'PRC_O2L0S1V1O2V5V1O1D1P0R0D4T2V0U5'),\n",
       " (27, 'PRC_Q2I0B0H9K1H1F1R6V0E6Y1K8W2O4J3'),\n",
       " (0, 'PRC_B2M0M0Y8P2H4O1D0M5J0S3F0L2R3A9'),\n",
       " (0, 'PRC_I2V0W0X7P2Z4G1A6P0H9I2T3S2C7L9'),\n",
       " (23, 'PRC_E2Z0E0S6I2J4I1P3P5Y9B3X3S2C7C6'),\n",
       " (4, 'PRC_F2Z0R0M9I2Q2N1G5L4J7S3U9M4I2M6'),\n",
       " (5, 'ARC_C2O0Q0Z9W0Q7U1L5B1M4O5I6K0T8L8'),\n",
       " (0, 'PRC_L2D0V0K9U0C2Q1J8U5R3G3J1Q0P1L5'),\n",
       " (3, 'PRC_M2X0N1I2A0S8E1X2D2X5L5J6Q5K6P6'),\n",
       " (0, 'PRC_C2T0V0V6Q2E6Z1W1I1S6I3U5T6G2F8'),\n",
       " (0, 'PRC_U2I0B0P7Y2V8G1F1U0D7H3V7L6F1F9'),\n",
       " (10, 'PRC_J2B0N0Q6J2Z5H1X3W1G6P1R7U7V7S0'),\n",
       " (1, 'PRC_R2E0X0D9O0A1V1F4G5H1C1V3O3R0X5'),\n",
       " (3, 'PRC_U2C0P0H7P1J3N1S6C4C9M3M3D2W5W4'),\n",
       " (9, 'PRC_K2S0A0W7Z2W0I1Z7B0V9L3E0C8B9F5'),\n",
       " (0, 'PRC_Y2B0O0I7R2Y3Z1I0Q3R2V4A0U7L4H9'),\n",
       " (5, 'ARC_K2S0B0C7T0V3H1N6N4Z1C0N3E7N8M9'),\n",
       " (0, 'PRC_O2I0O0K9N0Y9M1U4L3J6L4A8R5A4Q5'),\n",
       " (57, 'PRC_N2N0W0H9Y1X7N1E5N5M3O4C9P6O6O3'),\n",
       " (0, 'PRC_R2V0R0D7V3E1K0Z9S5B1T2L0A7B4M2'),\n",
       " (1, 'PRC_O2C0K0I7B2Y1N1W5P3C0C5M5N4A4U0'),\n",
       " (3, 'PRC_T2Z0J1I1P0Y2F2J0X5C2M1C6J7M9N5'),\n",
       " (1, 'PRC_Y2C0Q0Y6U2H3G1G4J1T5A0T8N8O0F9'),\n",
       " (0, 'PRC_Q2G0W0N8O1U8A0Q9W4G5R1B4M8U0V1'),\n",
       " (28, 'PRC_Y2I0X0W7D0M3U1L4J3A6B3T9P7A7D0'),\n",
       " (0, 'PRC_F2E0J0J8P0S3E1T3E5I3U3G6N3Y4T6'),\n",
       " (0, 'PRC_M2N0T0A7Y0X2S1A4Q3T9J2P5V1M6O8'),\n",
       " (3, 'PRC_Y2I0Y0S8Z1A8P1C1Y3K3O3L9A7E0Z1'),\n",
       " (6, 'PRC_U2K0Q0W9P1O1R1P8L1P4N3W4O2W6G1'),\n",
       " (3, 'PRC_I2Q0V1V0J2H7L1D6Z5J3Y2M4H9S9T5'),\n",
       " (1, 'PRC_B2W0Z0L8I2E5W1B5J2I6H1V6H3M3T6'),\n",
       " (0, 'PRC_Q2C0A0P6H2V5P1F0P5O7R0I6H4D4Y9'),\n",
       " (1, 'PRC_F2J0S1M0X2V6K1H5J3A7M3F6S1F2M0'),\n",
       " (1, 'PRC_X2Z0A1I2J0N1O1W5Z5P2O5W2L8G5V8'),\n",
       " (4, 'PRC_C2A0E1S0D1U9K1Y6A5W7O2T0U9Y2N2'),\n",
       " (0, 'PRC_N2O0A0N9N0X8V0Y8M2J2Y3C4J7Q5P8'),\n",
       " (9, 'PRC_T2X0R0N8C0R3R1R0Y4K4G2R1K5F7P4'),\n",
       " (27, 'PRC_P2Y0E0B7R2A2F2T0X4Q9G1D9P1L4Z7'),\n",
       " (0, 'PRC_Z2G0P0G7A0D8I1P4A3J2N2K1Y0T9E7'),\n",
       " (22, 'PRC_T2O0H0K6M1G0K1H1G2W8G2I6P5U6O1'),\n",
       " (4, 'PRC_M2H0R0G6S2M2Y1Q5G5F4D1I2G2N1A2'),\n",
       " (1, 'PRC_X2B0Z0M7T2S1P1V4T5E5L2G4U5Y5N8'),\n",
       " (1, 'PRC_G2F0G0V7W0L1I1A7Q1R7K4N6L5H2Z3'),\n",
       " (4, 'PRC_J2N0P0W8D0G7Q1O8G2Y7X4B3O2Z2T7'),\n",
       " (3, 'PRC_A2E0R0U7G2C2P1V1G5J6V3L0M9J7M3'),\n",
       " (1, 'PRC_M2R0H0L9E0M7W1B4O5E5S3X3U9E2Z5'),\n",
       " (1, 'PRC_I2B0A0J7E3W1R1Y6E2J8C5B8Y9D7T5'),\n",
       " (0, 'PRC_E2M0A0K7N0L2D1O5G0C2M0I0C1X9L4'),\n",
       " (3, 'PRC_B2V0H0S7L1T3P1Y5L1P0R4X7O9U1Q8'),\n",
       " (1, 'PRC_P2V0M0L7A1A4E1G6X0E3W3Z6E5B5T6'),\n",
       " (1, 'PRC_L2M0H0T7O2L0I1M5S5G1L2U1K6D4A5'),\n",
       " (18, 'PRC_M2C0D0V8N1Y8A1W5P5O6N4H7R6Y1N3'),\n",
       " (1, 'PRC_C2W0R0M6M3B0Q1D8U2O6V0C1D3D0U6'),\n",
       " (2, 'PRC_B2B0K0G7L2X3J1S3G3O8Q2E9R3Y8B7'),\n",
       " (0, 'PRC_L2W0D0W7T2P9H1C5Z1F7E2E9U2A8W8'),\n",
       " (0, 'PRC_W2R0K1R0O1A6S1Q4Z0Z2I1Y3N3K7E2'),\n",
       " (2, 'PRC_P2P0I0T6C2F2W1O1K5H1I5J9E2K6U5'),\n",
       " (0, 'PRC_H2E0N0L6S1H5Y1N5X0W5C4L5B0Q9X9'),\n",
       " (0, 'PRC_N2I0G0N8C1F4Q1W7C1O7Y3A3N1Z2H3'),\n",
       " (0, 'PRC_F2R0C0E7K2M7O1G4S2F6E4J2E4N0A1'),\n",
       " (8, 'ARC_W2P0I0L7O0Q3O1P1J1I0G2D7I6X6L3'),\n",
       " (9, 'PRC_U2U0D0W8H0Z5V1X1V2X1K3A2I9J7Q6'),\n",
       " (0, 'PRC_S2A0W0C7I2X7W1T4J3G0P3L6L0S0E6'),\n",
       " (6, 'PRC_Y2P0D0P7P1B4A1P7Y4F1U4L7V7Z0P1'),\n",
       " (0, 'PRC_M2S0E0T8P1U0I1Z5H5D2J3S7M7Q4O7'),\n",
       " (0, 'PRC_U2R0G0J9I0W9T1V0P0Q4L5X7O2Y4Y4'),\n",
       " (2, 'PRC_A2F0Z0H6U2P4V1W7Z3O7D5H6Y0P2H8'),\n",
       " (3, 'PRC_Q2I0J1Q2C0G2J1S2S1T5Z1X6X0A4X9'),\n",
       " (0, 'ARC_M2F0M0B7D1O0X1V3F4Q6N1H9H0I3J1'),\n",
       " (5, 'PRC_O2G0G0H6L1X9D1U1X3J4S3U7G1H5J6'),\n",
       " (3, 'PRC_M2L0E0K7F1E4G1D8D0D1Y0D0I0U0G3'),\n",
       " (40, 'PRC_I2D0T1O1F1H9Y1S5M0Y2L0B0C9L0I7'),\n",
       " (3, 'PRC_A2A0O0N6D2X3A1B3N3V7V1R8T9Z6N3'),\n",
       " (4, 'PRC_H2J0Z0B7M3X0S1M4G5R7B1F6C8P5H3'),\n",
       " (4, 'PRC_Q2V0D0Y6J0Y1R1R7J2W2K1N6H2N0J1'),\n",
       " (5, 'PRC_Z2X0H0K6P1P9X1I0Y4T3C4Q6A6L8R5'),\n",
       " (222, 'PRC_O2P0Z0U6G0L1I1P4A3K8M2P3T7H7H8'),\n",
       " (8, 'PRC_U2M0J0E7I1J5D1S5Z1M4M3G7C2T1J0'),\n",
       " (2, 'PRC_T2B0X0E7S0R3A1F5T3T8J5E7I4Z5X5'),\n",
       " (3, 'ARC_U2Z0N0L9A0H9O1L3H1S9W5H6S6I9O0'),\n",
       " (0, 'PRC_H2O0X0P6F2K6P1L7N1S2K0B9G9J7L9'),\n",
       " (3, 'PRC_A2V0C0S6C1T0M1R7M0G6Q5O0E2Z8S2'),\n",
       " (1, 'PRC_O2A0Q0S9J0L3K1U5L2L8N5R8Y9I7U4'),\n",
       " (0, 'PRC_D2J0T0I6T0A9X1R3P5W5E3G2J0N4K8'),\n",
       " (9, 'PRC_U2G0D0C8Y1S4J0Y9I3U4P3Y1U8J9R5'),\n",
       " (4, 'PRC_Y2U0F1R1G0U2X2M1P4G3I1F5J9U2E5'),\n",
       " (0, 'PRC_I2N0V0N8E0Z3Y1F0T5T6K4B1Y2O0T3'),\n",
       " (0, 'PRC_B2N0J0V7E2A1Z1N7E1B6Y2U6F2W5F9'),\n",
       " (50, 'PRC_U2S0E1Q0O2F8Z1X3L4H7N5Q8T7F0E8'),\n",
       " (22, 'PRC_S2U0C0D8H0B5U1B7S0M1K4U7K9J3M3'),\n",
       " (7, 'PRC_N2D0G0J6X2K2C1H5V5V8E3L2N6O4U0'),\n",
       " (3816, 'PRC_C2Z0G0B6I1V1G1Y4F5L0B4I1B8Y9L0'),\n",
       " (2, 'PRC_E2W0A1X0P2C6R1K7U4G6B5Z1A0N4C6'),\n",
       " (8, 'PRC_V2Z0I0H8X1D9P1Z4W4T6W2W6X2U3D6'),\n",
       " (0, 'PRC_A2V0L0A7V1L0H1C3Y1S9P3W5U3W6Z6'),\n",
       " (0, 'PRC_X2I0G0T8V0G5K1A5N4L1R5E0T3E1O8'),\n",
       " (2, 'PRC_N2X0I0L6B3Y0S1E8P3O0W4Z0X3B0S2'),\n",
       " (2, 'PRC_F2P0O0F6H1S9B1F5O5J6D3X0Q2H5W7'),\n",
       " (16, 'PRC_X2O0Z0W6J2G4U1I7U4F4F3G3Q2M4Q5'),\n",
       " (0, 'PRC_G2V0R0Y6M1C9F1J5U4U6S4B6F9F7C8'),\n",
       " (0, 'PRC_O2A0G0H8F1S3Q1N0H1H7I0R0C1V3F0'),\n",
       " (3, 'PRC_L2N0L0R9N1J4K1T3X5B7B2F8S2Y3O4'),\n",
       " (0, 'ARC_K2M0T0M8Y0H7Z1B3A3H7F4C7S3V9B8'),\n",
       " (7, 'PRC_V2B0K1T0R1L2X1E1R4J2W0L3Q9J7W1'),\n",
       " (1, 'PRC_M2E0X0Z6K2G6W1P5M5A6G0S7H2I0L1'),\n",
       " (0, 'PRC_F2E0R0A9N1K5L1H6U1Z2C5P0A2S5J7'),\n",
       " (3, 'PRC_D2H0I1N1V2Y5Z1N5Y2A8A2R6F0P4B5'),\n",
       " (3, 'PRC_W2Z0Z1H0S2Y1J1P6D2I5R4G1N6I1P7'),\n",
       " (0, 'PRC_H2Q0Y0K9O1J5B1O5I0E2B1H5X1U4A9'),\n",
       " (5, 'PRC_V2D0Z0F9G1B8B0A9G1R7W0M6N5L4E0'),\n",
       " (0, 'PRC_J2A0R0E9T2N5Y0I9G4W1R4J0V2U7B6'),\n",
       " (3, 'PRC_B2F0Y0Y6M0J5C1B5C4N9M2D9V5D4D0'),\n",
       " (17, 'ARC_T2E0L0O6B3G0W1D1O1N2C3F4W4Y0Q8'),\n",
       " (9, 'PRC_K2N0L0I7G0G8X1X7L3A0K5Y1S2Q8D9'),\n",
       " (0, 'PRC_Y2O0R1A1F1W2V1L5G4N8C4C5D3K9X5'),\n",
       " (0, 'PRC_B2N0A0B7F2T4U1F7L1I4B4P6Z0A4Y9'),\n",
       " (5, 'PRC_O2W0V0J6N1V6L0X9W4K8C5D9Y6K5P2'),\n",
       " (0, 'PRC_P2I0X0T6U1E6J1I0D1F7F0Z2C7F3N0'),\n",
       " (0, 'PRC_A2I0O0Z7U2R2O1N3L4Z1W2X1L8K5W2'),\n",
       " (265, 'ARC_Q2H0T0T8P3Y1B1K8L5F3S4E7I6I7R5'),\n",
       " (0, 'PRC_I2I0E0H8X2E4B1W0B5K2E5Y6Z4Z1R8'),\n",
       " (4, 'PRC_R2T0I0E7P0P9U1X6T3T7F0N2M9T2F9'),\n",
       " (3, 'PRC_Z2R0A0Y7V0F6V1C6E2F3S1J5L1S9N8'),\n",
       " (14, 'PRC_G2U0K0E7M2Y1I0H9E3A3M1F7Y4O9T4'),\n",
       " (1, 'PRC_C2Q0P0S6U2P6T1U0T0A9V3G6T6S0I1'),\n",
       " (1, 'PRC_A2B0W0U7N0F6Z0G9V3S2U5H7S4K6B6'),\n",
       " (33, 'PRC_M2H0H0R6K2Y6H1O6N0M9U3R6L4B4B0'),\n",
       " (37, 'PRC_X2A0C0B7F1D7P1V5G1L1I2R8A7N6C0'),\n",
       " (1, 'PRC_P2P0H0F6N2W4M1J0E5N2N5N5W9M5B2'),\n",
       " (0, 'PRC_B2X0R1B0U1T2P1Z5O5S3R2O2G2F6H7'),\n",
       " (0, 'PRC_C2S0C0D7I0R6L1E5U3X8I4R4N8R8O0'),\n",
       " (0, 'PRC_Y2A0J0D7Q2U1I1P1Q3M9L4M2K0L4B5'),\n",
       " (2, 'PRC_G2J0M1L0S2P0R1Q8U0U6M0S3L6G0S5'),\n",
       " (8, 'PRC_Q2K0F0P7O0T8G1W6A1Z7P3X1P8B6N5'),\n",
       " (4, 'ARC_H2C0H1U0Z0J6O1K0C3M7K5N8J1R0N6'),\n",
       " (5, 'PRC_E2D0I0P6O0X4E0H9E4V6C2C3X9G9L0'),\n",
       " (0, 'ARC_W2W0O1N0X2K3J1S7P2X2K1Z3T3Y4V2'),\n",
       " (0, 'PRC_B2V0M1N1A1E0T1W1A2L7I1M2F5J6H2'),\n",
       " (4, 'PRC_F2T0S0Q7T0S6U1U4C3B2W3J3G5O8N5'),\n",
       " (3, 'PRC_U2N0B1B2T0J1F2S2F1Y4G3Y1C8T6S1'),\n",
       " (4, 'PRC_D2T0S0T7R2T4R1D7O0H6N5A4J6Y3I4'),\n",
       " (6, 'PRC_J2C0M0E6X1N2G1Z1P3D1U4L9W1J0U1'),\n",
       " (0, 'PRC_F2R0Z1G0Z2A1O1L6D0N8M0U4G6S2D3'),\n",
       " (0, 'PRC_D2P0N0A6C1L6P1F6U3I8Z0A0P9Q0N4'),\n",
       " (24, 'PRC_K2Z0R0P8U1O9W1L7J0G6E0O7G8Q6V3'),\n",
       " (4, 'PRC_N2T0L0R9K2E2V0X9W1C2U1K0T6S8A3'),\n",
       " (2, 'PRC_D2I0Z1J0I2Y3H1G4C0Q1E1B3H1E7R4'),\n",
       " (4, 'PRC_C2F0U1Q2L0P2B2A0U0X2T5Z7W5X5A1'),\n",
       " (28, 'PRC_A2L0X0V6L2D9K1C0R3F2F5D0H3C0P7'),\n",
       " (6, 'PRC_R2N0F0G7H2Q9J1X4Q0N3A4G2N8B3G2'),\n",
       " (99, 'ARC_C2O0G0T8Z3E1G1H4F0K4P5O9Z2D7Z6'),\n",
       " (16, 'PRC_P2P0X0B7O2O4Z1S1K2R5K1P0N3A4J0'),\n",
       " (0, 'PRC_I2J0W0Q7S3X0K1G1U5V3Z3T9N2F2Z3'),\n",
       " (1, 'PRC_Y2G0M0G7N0T6I1B6I2E2F0T1O2M4I9'),\n",
       " (0, 'PRC_H2T0D0V8H0D5H0H9B3G5W2P7D7K5N1'),\n",
       " (6, 'PRC_Z2G0Q0I7E1U3M1W1R3I4Y1Q4X3J4O2'),\n",
       " (0, 'PRC_W2C0P0O8D1C9M1J5O1M6W5Y7O5J5N7'),\n",
       " (8, 'PRC_J2R0D0J6U2D3W1C1P1L0P1S3X3Y7B8'),\n",
       " (7, 'PRC_R2V0H1Z1S2W5A1V1A1X6L3G2F9L5W8'),\n",
       " (1, 'PRC_E2V0J0R7Q0Q8A1G5S2S0P4F6Z6E9E0'),\n",
       " (57, 'PRC_X2L0X1M2Q0C4Q1H3E1G9M4P5J1D1H2'),\n",
       " (4, 'PRC_D2R0T1O2B0P4B0Z9X3P9V2S7F6M1W1'),\n",
       " (1, 'PRC_T2T0A0J7I1Y0S1W1D0Y8W2A9E3X2I2'),\n",
       " (6, 'PRC_H2X0V0I9N1U8K1T7M2M0A1A0N5A4I4'),\n",
       " (3, 'PRC_S2T0X0T9E0I8D1X7B2D1Y0T0R4X6H7'),\n",
       " (2, 'PRC_V2U0I1Y2R0C8D1N4J3U3M5R5P8W3P9'),\n",
       " (0, 'PRC_A2N0A0N9D0R3Z1Y7L5E1B0K0N9C5H7'),\n",
       " (0, 'PRC_X2C0Z0N9L0U1A1Z6E3Q3O0D4E0A3D6'),\n",
       " (17, 'PRC_J2Z0L0K6W1P8E1O3J0B9K3L4C4V0I8'),\n",
       " (15, 'PRC_F2Y0L0A7O2I1G1F2N4P8Z3K4M0S8E9'),\n",
       " (24, 'PRC_G2C0O0R9Q2X9O1E5L5W0W2C0W5D0L9'),\n",
       " (0, 'PRC_S2U0Z0J8W1P1E1V4P2P7U2T4M4M6M7'),\n",
       " (1, 'PRC_F2M0T0A6B0D5O1P3Y1T5J0B5B4Q5K4'),\n",
       " (3, 'PRC_N2D0B0Y8H1O4H1N5D3B7T4U6N6N1U8'),\n",
       " (5, 'PRC_D2I0V0C6K0D4R0L9Q4E1K0J7O2X1A0'),\n",
       " (4, 'PRC_E2S0C0X7A1N5Y1U4T2R4T5I1T5P9R8'),\n",
       " (5, 'PRC_R2I0R0M8H2Q4D1O6W1R4Q1T0U9T4R2'),\n",
       " (1, 'PRC_H2N0O0S6C3P0H1Y0I2C6Q0P3V6Q3Y3'),\n",
       " (33, 'PRC_C2W0Z0A8M0S5M1I0B4B9T5V1H9I3S5'),\n",
       " (1, 'PRC_T2E0Z0S7P1P4J1Z7O0M2G4P3D2V9Q2'),\n",
       " (3, 'PRC_O2L0L0I6W2O2P1K4J3T7G0D5Y2X5H5'),\n",
       " (2, 'ARC_S2P0M0D6C2R6W1X6P0Y8I5P5S8L5C7'),\n",
       " (27, 'PRC_B2A0U1C0U0L6C1P7A2E9N0W0L2K0J9'),\n",
       " (1, 'PRC_I2J0Z0F7W2U8J1P1R2O8W5G4Q3P3Y3'),\n",
       " (6, 'PRC_R2B0M0D7J1D6D1K0O1K0U3O4J6E3B3'),\n",
       " (0, 'ARC_X2S0W0C7N1M4Z1Z4O1O1P3E4W6Q1V9'),\n",
       " (39, 'PRC_Q2Q0Z0Y6P1O2E1N1C4V8C1J4S0E5B9'),\n",
       " (21, 'PRC_E2T0O1A1C0Z6T1P7R4Q9W0C6B5N4W8'),\n",
       " (3, 'PRC_G2M0M0V6A1H6X1L7L3H6S2O3N4W8N0'),\n",
       " (3, 'PRC_C2S0R0B9H2I9X1A4S1A0N0C4F2U4M2'),\n",
       " (0, 'PRC_K2R0M1L0W1Y6C1A5X1B0V5R9D9D8H1'),\n",
       " (1, 'PRC_M2L0T0N7Z1B5N1L7T4J9E5X5F1B7Y7'),\n",
       " (3, 'PRC_P2P0P0U8I1F3D1T1E1W2D5F0C9R3H8'),\n",
       " (3, 'PRC_M2S0D0W7Y1Y5Q1P8P3S2X2B1F3X2Z9'),\n",
       " (19, 'ARC_Q2V0J0S7V1E6Y1V6Y4B0I5A4V0C0S9'),\n",
       " (5, 'PRC_Y2E0P0C9W1U7T1J6M1L4P4W5Z6W1V8'),\n",
       " (5, 'PRC_H2R0N0F7R0Y7T1Y4K0O8E5S4P1G2B1'),\n",
       " (0, 'PRC_Y2L0C0K6Z1N7H1X7S2R0A5W7I2A8C7'),\n",
       " (3, 'PRC_W2N0U0J7N0Z6T1L4K2O9D3P7I4L1W9'),\n",
       " (0, 'ARC_M2B0K0A7Y1A4M1B3X4L4Y5W2W3B6G3'),\n",
       " (1484, 'PRC_G2D0A1T1R1C6E1D3G4V9G0U0X1A4O6'),\n",
       " (31, 'PRC_R2X0E0H6O1Q9C1O3S3J9M3T9C4B0A7'),\n",
       " (5, 'PRC_J2P0Y0S7W0G8V1Z8F4B8K2G0A2C1R3'),\n",
       " (15, 'PRC_S2K0K0F7L2I1U1G7I4T4E5T7R2J9C8'),\n",
       " (31, 'PRC_T2T0V0Y7L2A1O1X7L0E4C4P1D5X3Z3'),\n",
       " (2, 'PRC_B2D0P0W9J0K7Y1S4T5Z7V5S4F5Z4B7'),\n",
       " (12, 'PRC_G2G0X0D8J0P4P1T6N0O5P5V4N6W4P4'),\n",
       " (3, 'PRC_X2P0L0R9T0J2I1G5I5F6L2V6F9S8A7'),\n",
       " (8, 'PRC_F2A0L0L6W2N5M1B6B1C2E0Z5H0K3M9'),\n",
       " (2, 'PRC_U2H0L0O6G0G5H1Z3I2P5P1Z8O2A3V6'),\n",
       " (9, 'PRC_C2W0B0O6Y1N8S1J4L4H9V1C8W7S5L1'),\n",
       " (7, 'PRC_N2Q0U0S6N1Y9U1W5W3Z1E3O8U5T8U1'),\n",
       " (0, 'PRC_H2W0L0X9T0W3P1C4X0S9X3C5Q8O6Z7'),\n",
       " (10, 'PRC_T2I0A0U8T3H1T1Q7J4Y9Y4S0D3P0T2'),\n",
       " (18, 'PRC_G2R0X0Q8O0C3H1I4E0O5D5C6U9W3Y0'),\n",
       " (1, 'PRC_A2Z0G0R7A1G4A1F0R5I5H1F0P6S7N2'),\n",
       " (0, 'PRC_G2Y0V0L8T1Z3E1K6X1W5K5F6T3V4C3'),\n",
       " (6, 'PRC_U2V0L0T7O0Y1T1D7B5J0D0Z5B3A5E4'),\n",
       " (3, 'PRC_W2W0Z1P2V0K2S1U5Q4M6X5D8W5Z0N5'),\n",
       " (2, 'PRC_T2K0Y0R7Z1W7V1U7L3W6B2G4P5R3C1'),\n",
       " (51, 'PRC_S2C0X0I7W0S8Q1J6G0W5V0F3T2Q6N1'),\n",
       " (31, 'PRC_M2S0Q0U8Q0S4T1G1F4G7K0W9L7V0L7'),\n",
       " (2, 'PRC_D2Z0H0M6Z1S1C1E3H2F5G3F9A9F0R1'),\n",
       " (6, 'PRC_P2R0P0G6S1G0F1S5W3R9X1V4W5U9L7'),\n",
       " (0, 'PRC_L2D0B0J6X0A1O1I8G1Z3A2Z4O3R4T4'),\n",
       " (0, 'PRC_W2G0E0V7H0H8E0O9B5L7Y3G4W9J7Z5'),\n",
       " (2, 'PRC_Q2F0C0S6T2R6N1F8U0I4W5I2B5S6F2'),\n",
       " (7, 'PRC_P2F0J0W7C0F7O1R8T0V2T5W1R5K0L8'),\n",
       " (1, 'PRC_V2B0G0X7P1F0J1B0B5E2Q0Q8K5P6V6'),\n",
       " (8, 'PRC_S2E0Q0S7S1F4K1H0X1P7P1M0U2Z7W0'),\n",
       " (4, 'PRC_V2Y0A0X6L3Y0K1L5J4R3O3Y2W1M9J0'),\n",
       " (20, 'ARC_E2I0U0E8Y0D7J1L3F3Z7M5I1D6P9W4'),\n",
       " (0, 'PRC_Q2W0H0E6Z1L9N1Y7L4I6A2R2T1G1C4'),\n",
       " (1, 'PRC_R2D0X1M2H0A7B1L0E3C4C3R9P8E8Y8'),\n",
       " (2, 'PRC_F2D0Z0U6D2L2A1B4D0C3S5J4Y8E0L1'),\n",
       " (0, 'PRC_G2E0D0H9W0Y7K1A0H1V2F1C7D4R1Z1'),\n",
       " (0, 'PRC_N2S0J0G6C0P1R1V7W2D7L3O3Q4P7P2'),\n",
       " (0, 'PRC_F2J0O0Z6N0S5I1J5Q3L0T0Y7T4U5E8'),\n",
       " (0, 'PRC_Y2L0H0O7J0G6E0H9I2B1F1D5N6P9H4'),\n",
       " (0, 'PRC_U2D0A0X7Z0T1Y1A4V4G3R3T5P9D1T6'),\n",
       " (5, 'PRC_L2Y0Q1V0W2T6A1K4M2P5L2A2P6U9Y8'),\n",
       " (3, 'PRC_S2E0F1O1Q2L5R2H1U1L1T5C0K6E3K5'),\n",
       " (4, 'PRC_Q2P0Y0Z6F0I5G1O5G3C4R4Y0D3P0U9'),\n",
       " (2, 'PRC_P2T0E0Z6K1Z6B1G8U4Y2S2Z5Q9Q4U0'),\n",
       " (0, 'PRC_C2G0I0H7E0G2I1P7T2L1P0H8K4K0F8'),\n",
       " (5, 'PRC_A2Z0Z0R7D0H2M2D0O5L5R0G5U7L0Y4'),\n",
       " (0, 'PRC_B2R0U0J8Q2T1H1I8G0O6M1P7T6D8E9'),\n",
       " (90, 'ARC_D2K0N0T8V3B1T1B3E4D1F0N4A9N3D5'),\n",
       " (1, 'PRC_Y2X0T0S9S0F9H1Q0S2T5W1W4P2F6X5'),\n",
       " (6, 'PRC_Z2T0Z1X2X0R4X1U2Z1G2Z0V9K7D1S0'),\n",
       " (0, 'PRC_P2R0T0F6Y1R9Z1M7J4R7H4S9Y9B9S8'),\n",
       " (0, 'PRC_S2B0I0A7K1O7M0L9M4J4M1M2A7U6I1'),\n",
       " (3, 'PRC_Z2D0C0W8W2G1N1X0G3K6R4V6O2N6N3'),\n",
       " (2, 'PRC_X2J0L0A7Q0M8O1F6S2L5E5Y1C3V5A5'),\n",
       " (1, 'PRC_H2S0W1S0A0B5L1T1N3U5P0R8S3O2Q3'),\n",
       " (11, 'PRC_Z2G0V0V6A0J3A1X7E4V2V1Q1T6J3H7'),\n",
       " (0, 'PRC_V2E0Z0J6P1S5V1D7D0J0B0A3P9L8A1'),\n",
       " (58, 'PRC_S2T0M0L8L1T3M1Y3K5I5C0E5L7Z0Z3'),\n",
       " (13, 'PRC_E2Y0S0E9O2M4G1C1T0M3T5W1Q4T2S5'),\n",
       " (152, 'PRC_A2K0W0Y6E0O5C1B7W5H2X2M7G8B7J6'),\n",
       " (0, 'PRC_F2H0D0F7W1R3Y1K4U3T5V5H9K3N7U8'),\n",
       " (12, 'PRC_V2Q0P0J7W2L8P1W7K3K3S0K6H5Y0Q2'),\n",
       " (3, 'PRC_W2N0I0K6U2I5V1J4J1M9U2J4D5Z0P6'),\n",
       " (0, 'PRC_J2F0O0Y9Y1R1L1A8Z1B2D4P7V3K0N2'),\n",
       " (0, 'PRC_V2U0T0C8Q2F0X1J4O3M8Q2W4S5N1V8'),\n",
       " (3, 'PRC_X2X0X0T9D1O5N1E7I5U7B4A7G7R9O4'),\n",
       " (6, 'PRC_N2M0D0W6R1Y7Q1H8R3N0V4S5L8V6G6'),\n",
       " (1, 'PRC_H2S0V0A6F1Q8J1H8U0J3L2X8R2H0T7'),\n",
       " (2, 'PRC_H2D0C0E9W2G8D1A5Y1P2R4T5J8T7P4'),\n",
       " (10, 'PRC_V2U0H0Q7B0J1A1V0L4R1B1R3D5G5I3'),\n",
       " (5, 'ARC_T2K0H0B7S1V5N1J6Z2F6Y4S3J8Z0M8'),\n",
       " (0, 'PRC_W2K0I0N6K1X9T1B0A4A7Z5D8Q5Y0W1'),\n",
       " (3, 'PRC_A2K0S0Q7Q2D3H1V1H0Q7Q4S3Y8N0U3'),\n",
       " (0, 'PRC_H2U0Y0O9K1Z1R1A7J5U6T0S3H0Z7P1'),\n",
       " (7, 'PRC_E2F0N0I7K0E8K1H1I0Y0W2J6P1D4M5'),\n",
       " (0, 'ARC_B2J0Q0R7M1D0L1W5L5Y6U1R1W7C9R9'),\n",
       " (43, 'PRC_C2M0U0V7N0L9T1V8X5B3W0J5B3V5E9'),\n",
       " (20, 'PRC_R2G0P0U7A2Q8M1U0Z2I7U3Z8O7K6K1'),\n",
       " (0, 'PRC_W2T0E0G6A2T2L1C3P5P1M5E6K5R9K0'),\n",
       " (4, 'PRC_O2K0L0F9L2I4Z1X0Z5J6C2R4M6X7P8'),\n",
       " (13, 'PRC_L2Q0W0K7M0H1S1T5Z2L0A4T2V0E4Q1'),\n",
       " (0, 'PRC_M2W0U0J9N2K9D1M5C3U9H2L5A7B4U5'),\n",
       " (22, 'PRC_W2B0S0Q7V0D2B1K4W0A3F5I6X5K7U8'),\n",
       " (2, 'ARC_D2X0L0E7T1X0U1M7V1Y1B1J6C6G7R6'),\n",
       " (2, 'PRC_U2Q0L0D6K0Z5H1A7H5D1B4F8S5K7V3'),\n",
       " (0, 'PRC_O2N0H0B6Z2Q6N1Y7E4H5D3U6U3H6I8'),\n",
       " (1, 'PRC_B2J0O0O8I2F5R1A5E0K3H0C1L8Q3J2'),\n",
       " (1, 'PRC_D2X0A0A6X1K9P1B7U4S1V4I3A8E7A6'),\n",
       " (1, 'PRC_D2J0P0S9A1B0Z1K9T3K3V1Z3V2U0T0'),\n",
       " (1, 'PRC_T2O0S0F6M1U1Z0E9L4V9J4T9E2I1T4'),\n",
       " (47, 'PRC_F2A0J0P6V2L3P1G1E0U5M3R5Z6C7U8'),\n",
       " (66, 'ARC_P2F0H0X9R2I5O1W3X4G7W1U9R8B3N8'),\n",
       " (79, 'PRC_R2Y0U0I9N1J4S1K5W0U4N3L1J1F9L1'),\n",
       " (1, 'PRC_L2M0R0B7K1I5W1R4D2C5P4I8T8E2K3'),\n",
       " (0, 'PRC_E2B0Z0J8U1Q9Z1Q1T0B0P0H1D1H7L9'),\n",
       " (4, 'PRC_Q2D0G0R6G1G1M0K9X2B8G5G7K0U8K4'),\n",
       " (1, 'PRC_H2T0O1C0B2R6E1E5H3E9J0J0S4U6T4'),\n",
       " (3, 'PRC_I2E0G0B7T1W6A1S5F0C9C1K7H7S2X7'),\n",
       " (5, 'PRC_R2G0J1F0O2C6Y1B4O4U7H1X9X1G9X2'),\n",
       " (0, 'ARC_V2Z0U0O6W2Z9X1I3A4P9Z0H5E3K7F5'),\n",
       " (3, 'PRC_A2N0E0I6O2C4S1J3A5V7S2F5W4V5D0'),\n",
       " (2, 'PRC_S2K0J0M9O1R1K1D5V5R6X0U9M5C6L1'),\n",
       " (0, 'PRC_O2W0D0C9K0B3V1F1T5N3O2V9A8E0M7'),\n",
       " (3, 'PRC_G2Q0K0F7Y2I8H1B0M3K7B5U4C0K5D9'),\n",
       " (0, 'PRC_S2V0H0R7N2M4L1R1A2G8N3X2T2W6D3'),\n",
       " (3, 'PRC_G2Q0Q0X8U2U4H1B8F0X9J3C7F0A8L6'),\n",
       " (1, 'PRC_R2D0U1H0B0C7O1D5G2S4C4C5J2Z7Q5'),\n",
       " (5, 'PRC_D2M0F0V6J0R4V0T9D4C0M2H1G0Y7K7'),\n",
       " (3, 'PRC_V2L0X0C6Y2T4O1P8Z1V0Q1O4Q0O1K3'),\n",
       " (4, 'PRC_S2C0W0A6X1F5U1T0O4J7H3V4F7V6F2'),\n",
       " (0, 'PRC_H2V0Q0G6A1X6N1O7S5C5M2R9A7K0T6'),\n",
       " (21, 'PRC_G2R0Z0W7Y0V8D1A7N5P0Z3B4L9D1P3'),\n",
       " (17, 'PRC_P2R0N0G6Q0W5N0F9X3I0U3Q6M4A5R7'),\n",
       " (2, 'PRC_G2L0K0Y9Z1E8H1P1M1M9J1P3G3S4K7'),\n",
       " (0, 'PRC_F2Z0E0P9R0O1Z1K7C5K8Z4B7W4R0J0'),\n",
       " (5, 'PRC_X2C0B0V7N2X8V1V1K1F4V3Y7V5G4G3'),\n",
       " (9, 'PRC_X2S0E0Z6T0Z4D0M9S4H3T0Y9U2L4R2'),\n",
       " (23, 'PRC_B2W0T0F7C0Y8Y1A6N5V4I3Z0Q1O1K2'),\n",
       " (0, 'PRC_N2Q0T1J1Y0C2U1H7R3Z4X1P0H5F1N4'),\n",
       " (22, 'PRC_I2U0X0U6M2D9A1Y3W4F9X2Y5C3S5N9'),\n",
       " (1, 'PRC_C2F0M0N6I1E9V1O5D5U1U5C3S4Y2L2'),\n",
       " (10, 'PRC_P2I0M0V7J1S7D1H0P1L3B0P4Q1B4K9'),\n",
       " (0, 'PRC_Q2H0Y0G7Z2W0T1B7C2U3C5F9J6I7T1'),\n",
       " (1, 'PRC_T2Y0F0C9M0Y8I1D6I4Z6K4X5W4L2K7'),\n",
       " (5, 'PRC_B2M0L0R6E0B4E0F9W3K9X4C0T7I7N6'),\n",
       " (1, 'PRC_R2L0F0Y8K2N0A1S5I1G2B0M4T9H7F6'),\n",
       " (0, 'PRC_R2D0Y1B1B0Q5G1S1P1X3X0W2P4Z6F4'),\n",
       " (29, 'PRC_J2G0I0K6K3M0X1O6X2S6L1I9W1Z2Z6'),\n",
       " (0, 'PRC_V2B0T0V7D2D0Z1G0O4O3B5H1K4E0K9'),\n",
       " (4, 'PRC_U2L0N0I8Z2D4W1Z8W1O4H5P6K6B0B6'),\n",
       " (7, 'PRC_I2T0W0D7X0X8V1B6G1F4W2L8V0B9M1'),\n",
       " (4, 'PRC_Y2M0M0B6R2Q6I1J4X3T6G5N6K2Q5S5'),\n",
       " (22, 'PRC_N2C0O0P7B2U8W1C5V5U9Y4J0U1L5M4'),\n",
       " (5, 'PRC_G2B0T0L6W0W4B0R9K4A8J0M7E7F4N3'),\n",
       " (15, 'PRC_C2E0T0J6K1P5T1T7H1W0H3P8R5W3V3'),\n",
       " (1, 'PRC_Q2M0O0L6L2P9E1M0P1U9Z0N6U2T7L9'),\n",
       " (13, 'PRC_A2O0J0L6L1A6A1K4X4D1V0O4J0M9W7'),\n",
       " (3, 'PRC_W2Y0V1Z1Z3S0S1H6Z0H2U1C1P6O9C1'),\n",
       " (51, 'PRC_X2U0C0S9W0I7C1H7B5U3O2V0L8M5U7'),\n",
       " (4, 'PRC_H2F0U1I0A1L9R1D9E1K5O2K3X9E3O5'),\n",
       " (3, 'PRC_C2X0U0O7V2B1M1F4B1A8A1D8O3W0P5'),\n",
       " (56, 'ARC_E2M0V0N8K3J1F1V4A2L1M4O1S8X4O7'),\n",
       " (14, 'PRC_J2Q0Y0M9I1P6R1G4X4R2I3C0M4J4T1'),\n",
       " (1, 'PRC_N2T0W0J8I2M5X1Z1U0Q3V0Q4G8M4A6'),\n",
       " (0, 'PRC_C2F0R0W6J1I9N1Y7L4E4M4P4V6A2N3'),\n",
       " (0, 'PRC_V2L0V0J6G0F8M1F3N5W1X1G7D0I1J3'),\n",
       " (6, 'PRC_X2C0S0P7D0R8M0A9W3L3G3Y7E9G6R2'),\n",
       " (3, 'ARC_U2I0E0S6E2A6A1D3S4V4K5B7D4N8T4'),\n",
       " (3, 'ARC_Z2T0P0J8L0O7P1S3E3V5S0G5P6D6W4'),\n",
       " (10, 'PRC_Z2P0Q0B7Q2D8N1Z6F1B8A2J3Y7M3S9'),\n",
       " (0, 'PRC_E2R0Y0Z7V1E4W1I6B4P5G1R6L7M3O5'),\n",
       " (22, 'ARC_X2R0G0L7Y1S6O1S4I3V0Y5Z6H8M4K3'),\n",
       " (0, 'PRC_K2Z0T0Z9R0Q7U1N7O1R7H0G6M7S9U1'),\n",
       " (1, 'PRC_P2S0B0L7K1K5A1V2K5F8E0O0O4A6R8'),\n",
       " (1, 'PRC_S2B0E0D7A1W4V1Z8R2V1V3H5N6H7Y8'),\n",
       " (0, 'PRC_U2I0B0W6D2R6P1X3J2P6R5W4D8G5S7'),\n",
       " (0, 'PRC_R2R0L0A7J0W7L1J3Q4F3G3I7K9N8Y6'),\n",
       " (0, 'PRC_G2V0K0X6O0W8E1Q5K1I8E1R6I5V2R9'),\n",
       " (2, 'PRC_A2S0L0Z6P1G6L1R4A1U0M1O7E6D1C1'),\n",
       " (0, 'PRC_V2D0C0G7G0P9F1C8X3Q2H1T3A4H2L2'),\n",
       " (30, 'PRC_U2H0X0P6C2O9H1D4K3H8T0I3K7V6X5'),\n",
       " (8, 'PRC_Y2W0A0M7G0R8D1P0N5U8V2V5E9U3L8'),\n",
       " (2, 'PRC_I2R0D0X7V1B6D1L6D3I1J5V5Z4K8Z3'),\n",
       " (1, 'PRC_S2L0R0Y7X3X0U1W5K3K4T2O9Q6G2U5'),\n",
       " (0, 'PRC_K2Y0Z0B7U1P5B1K7P3D4K2P6Q9O0H0'),\n",
       " (1, 'PRC_O2R0W0R7Y1D6X1B6V5D7A3S1Y3C1C2'),\n",
       " (40, 'PRC_P2B0P0M7T1I0A1A6J0E1W0A0H5Z3P3'),\n",
       " (2, 'PRC_F2B0C0T8M0X4P1B4F1P4L5Z5Q2A9V4'),\n",
       " (11, 'PRC_H2V0P0Z6F0D9W1Z5H4R5G1M7N8O6S2'),\n",
       " (2, 'PRC_V2O0K1U0G2N6V1A4M5O0E3P9T6G4Q9'),\n",
       " (2, 'PRC_A2H0L0D8X0X5M0T9L4A9L3J8W0G8I2'),\n",
       " (6, 'PRC_B2C0H0N7Z3O0I1Y5X3Q0Z3Y1D1U2L3'),\n",
       " (0, 'PRC_M2N0Z0W9C0O2D1R5K1L4T3H1G2E0W8'),\n",
       " (47, 'PRC_W2S0T0F7J1J5N1O8B1S2Z5Z5O2R9C8'),\n",
       " (2, 'PRC_M2Q0X0B8R1Q3C1K0Q3B7G4B8M9S3O7'),\n",
       " (2, 'PRC_G2U0C0F8K2K4L1N3P3Y4E1F9D4N7Y2'),\n",
       " (0, 'ARC_O2X0Q0A7R1O4C1X3Q5H4J3O2P3T0L3'),\n",
       " (13, 'ARC_J2B0U0M6F2E6P1H6C1F2I1N4O2N8U5'),\n",
       " (2, 'PRC_V2N0K0Z7Q3I0Q1H6H3E5L0A3Q0G6I9'),\n",
       " (1, 'PRC_Q2M0D0Z6D2Q4M0U9Q0M5A4I3Z0Q5J4'),\n",
       " (8, 'PRC_W2Y0W0D7F2C2M1J0N2Q9Q0R4J6C1S6'),\n",
       " (0, 'PRC_F2Z0E0Z7V3Q1C1X4R3G1O3Y9L6D7B1'),\n",
       " (0, 'PRC_T2T0B0T6A1G8V1K5I4P3H0E5V2F7O1'),\n",
       " (5, 'PRC_S2M0G1O1V1H7P1L8M2L7K2F1R2C1K4'),\n",
       " (0, 'PRC_J2G0H0Q7C2X7Y1G3H3S4X5T6H6E1N8'),\n",
       " (5, 'PRC_Q2L0L0P9L1P7Z1S3X4T7K3F8Z5Y3M6'),\n",
       " (69, 'PRC_Z2Y0A0T9P1P0A1Q4N2F2V2E5J3X9W3'),\n",
       " (19, 'ARC_B2T0K0I7D1B3B0B9O1H0S3F2Z5J2Q2'),\n",
       " (1, 'PRC_Z2V0I0I9V1K7S1K4T5F6B5I2C0Z0J7'),\n",
       " (2, 'PRC_B2K0T0U6X0E1U1U5H1Z0Z5J1F3S5Q9'),\n",
       " (0, 'PRC_M2B0Z0H6V1X7Y1G4Z4H4I0Z4H0J5X2'),\n",
       " (1, 'PRC_V2X0M1T1D1C6Z1A6K0Y5S0Y4B6E6E1'),\n",
       " (35, 'PRC_T2D0B0I6P2R5I1P4X0A2A1D3I8L4A5'),\n",
       " (2, 'PRC_V2K0J0V8V1X8W1O1E3N3S4I9Q6F1C0'),\n",
       " (25, 'PRC_S2P0F1C1O1J8Q1W7W4W3W5E1I7J5N5'),\n",
       " (1, 'PRC_J2T0L0W6L1R6U1U8Y3N1R5U3K9J6A4'),\n",
       " (9, 'PRC_M2D0N0F7E1Q7C1P0N2C2N0A2R1L8G8'),\n",
       " (0, 'PRC_J2K0A0O8N0O5W1L4O2X6U3F7R6U0T7'),\n",
       " (0, 'PRC_Q2R0M0L8M2Q4C1Y0S2X7W4Z4V6I8W4'),\n",
       " (3, 'PRC_P2I0E1L0U1S3E1P7C1B6M1I9Q7C1O8'),\n",
       " (0, 'PRC_Z2V0Y0B9I1O0V1J1Z1G0L0D9T7M6U0'),\n",
       " (1, 'PRC_Z2U0D0W8N0X6O1H7G0C9M0C8L0F2I5'),\n",
       " (8, 'PRC_R2J0N0V9V0V2B1R9P0R1I4C3S9U7K2'),\n",
       " (2, 'PRC_Q2I0T0A9F0J2F1J7D5W2G3A8A5Q2A3'),\n",
       " (4, 'PRC_Q2C0N0A6E2P9A1J0A2D2V5Z8R4D1Z4'),\n",
       " (4, 'ARC_M2V0E0P7P1Y0M1L3A3W4G4B5A0E9Z2'),\n",
       " (0, 'PRC_A2T0O0U8W2I6R1O5W1B4Z5B1W5H6I2'),\n",
       " (0, 'PRC_X2Q0G0P7S1L7J1O0P3J7K2Y3P0H4X5'),\n",
       " (24, 'PRC_Y2W0Y0L6L0Z3T1N1O1Y2R0N0K2J9D7'),\n",
       " (12, 'PRC_C2N0G0K6Z1Z0A1J4M2N2X5R0F3S6G1'),\n",
       " (0, 'PRC_X2X0U0M6P0S5Q1I7A1Y3U3O5Z2X0F1'),\n",
       " (0, 'PRC_P2S0B0G6Y2R9S1J7V3R6C5Y8I3V7T1'),\n",
       " (3, 'PRC_P2N0C0R7U0T2I1C4P1A2F2F4B7M3T4'),\n",
       " (3, 'PRC_S2E0U0I7N1Q3B1C6M5O5N0S4T9Y7U7'),\n",
       " (0, 'PRC_J2R0D0S7T0Z8R1F0Z5R2P5S4J0K1D7'),\n",
       " (0, 'PRC_W2N0D0G9Y0G3K1B7U0D6I2X2K9K0H1'),\n",
       " (6, 'PRC_Y2M0K0Q8Z2F5F1Z5C0D9N1T1Q8D5X6'),\n",
       " (0, 'PRC_Z2U0S0B7T3I0E1A5A3J2F0H5X3Q4L2'),\n",
       " (0, 'PRC_B2O0G0I8C3N1X2L0H4L9K1U9K4U9C6'),\n",
       " (3, 'PRC_C2J0X0R6W1T0D1A0U2K9U1T8Q6D8Z1'),\n",
       " (0, 'PRC_A2R0Z0F9U2B4L1B9V1E2E5C5V9T6F8'),\n",
       " (10, 'PRC_I2L0B1X1J0S6I0S9R5Y9H1R5X9C7N5'),\n",
       " (20, 'PRC_F2R0J0Z9C1U5C1S5S2P8C5D0O3J2A7'),\n",
       " (11, 'PRC_Z2T0S1A0V1R9V1Z3B3H0W1C8Q2L9F9'),\n",
       " (3, 'PRC_B2D0M0S6O2Z5T1X6Y3F1I1L5S0B4O8'),\n",
       " (0, 'PRC_X2W0A0U7O1T5J0B9D4E1P1Q4Q6W6Q0'),\n",
       " (3, 'PRC_G2S0Z0K8V0X7K1I4H4H5B5H8N3S1E9'),\n",
       " (0, 'PRC_B2Z0H0G9S0V7N0K9W4Z5M0C8I2O8R2'),\n",
       " (3, 'PRC_F2O1W0J1I0F4E1K7N1D0I0N7C2S2T1'),\n",
       " (3, 'ARC_N2O0E0Q7A1S0Y1S1O1Q4I5K0K6S0M0'),\n",
       " (0, 'PRC_I2G0T0E7D0G8L1C1Q3A3B4E5S3T4N6'),\n",
       " (2, 'PRC_F2P0B0E8J1G8W1E1W5Z1L4V6J4D2J2'),\n",
       " (3, 'PRC_J2W0R0X7M2W2H1J5Q2K3U0W1V4S5I3'),\n",
       " (0, 'PRC_R2E0R0F8R1M8V1T1J1H4K4W7K8K6B6'),\n",
       " (2, 'PRC_W2E0Q0O9N2C1G1F8S3A2G4P9U0M8K6'),\n",
       " (0, 'PRC_H2T0P0W8Q0G4K1Y4O1P6V4W1N4Z9E1'),\n",
       " (5, 'PRC_V2M0D0X6D0E3I1D3V3T9W1X3M3G4H3'),\n",
       " (22, 'PRC_X2O0S0L6L1K0N0N9V4X3X0W0D4B0Z2'),\n",
       " (20, 'PRC_Y2P0A0A6J2M6V0I9S5E8O0C0B7I4R3'),\n",
       " (0, 'PRC_D2P0J1J0B1J4A2Z0I3W8U5R2Q7D9U6'),\n",
       " (17, 'PRC_I2H0U0J7W3N0W1G4Z2E2I1Q8A4F5I5'),\n",
       " (17, 'PRC_Q2N0M0J7V1F4F1W8Q0I1R3Q4M5K6O6'),\n",
       " (73, 'PRC_O2I0V1H0S0G8Q1N9F1I8T1Y4V2O0N3'),\n",
       " (0, 'ARC_P2V0K0J7T2S0O1W4O5P7J0U1L0Y3G9'),\n",
       " (12, 'PRC_Y2P0W0Q6C3E0S1Y3Z3E6O5D4N0C9O8'),\n",
       " (4, 'PRC_Q2O0Y0Z7X0N1F1M1V2V4W3W8A1G1F3'),\n",
       " (3, 'PRC_M2N0K1D0Y1L6O1N6W3V2U1M1V0N8E8'),\n",
       " (7, 'PRC_G2J0M0J7O0F3D1S9B1K4P0U5A4A2R6'),\n",
       " (1, 'PRC_K2S0H1Q1T2V7U0T9C5J0Z2B2H4E4M3'),\n",
       " (5, 'PRC_L2A0C0Y8Z2T4Y1J5C5E8U1O8Q2P9G8'),\n",
       " (3, 'PRC_H2Y0W0E6D2D3Y1E5V5Y0N2Y5Q0S8M5'),\n",
       " (83, 'ARC_R2M0O0P7B1Q7J1H0D5N7C4Z1A0T4Y5'),\n",
       " (2, 'PRC_T2X0Z0V7R2L0M1H4W0G1J4A6Y2P9I9'),\n",
       " (9, 'PRC_T2N0B0C6S1A2K1A1Y4A0D3E6G6H3L9'),\n",
       " (3, 'PRC_H2C0O0N7L2J3U1O0U1M5H0T5N7J6O5'),\n",
       " (0, 'PRC_D2E0Y0Q8Q2R5M1H0S3H3V0L3M2Z1P2'),\n",
       " (95, 'ARC_M2G0T0Y8Y3Q1H1J4T3E4K0P8S6D8S0'),\n",
       " (152, 'PRC_E2A0A0P6F0G9W1B1U2U7P2C4B3L8O8'),\n",
       " (5, 'PRC_E2O0B0P7X0Q9F1V7A5M8R0Z1K4Q5I6'),\n",
       " (3, 'PRC_L2O0X0Q7P0O1G1I0V3D2P5O8S5Q7D8'),\n",
       " (0, 'PRC_U2L0S0G8G2V4R1V5X4V4P3Q9K3I6N7'),\n",
       " (0, 'PRC_P2T0L0C9K2A9U0K9E0M4M4W8I7Q0X6'),\n",
       " (0, 'PRC_L2Q0W0B7Y2B1D1F5U0S2L5L3L5R0H1'),\n",
       " (17, 'PRC_W2K0N0F9H2C9O1E7U2R3U2Y7E1N4J6'),\n",
       " (2, 'PRC_T2F0F0D7N3Y1P1Z7Z0T2P1H4M0Q3H9'),\n",
       " (4, 'PRC_U2J0W0C8E0K3R1K6G0J8H5N5Y0U4Y3'),\n",
       " (1, 'PRC_F2M0G0S6D2M3T1P3T2Y5C0F4N2U9N9'),\n",
       " (3, 'PRC_N2M0K1K2E0Z4T1Y2Y0Z2Q2D9C9I9H8'),\n",
       " (3, 'PRC_A2B0A0F8L2W4H1F7E0H1Q4F2Y1R0R0'),\n",
       " (0, 'PRC_C2V0I0B7R3J1V1D6P5J5B1D6H7L5G2'),\n",
       " (1, 'PRC_S2M0Y1M1I0X3N1P0C2R7N4Q6L4H2V5'),\n",
       " (0, 'PRC_L2Z0E0D6G1Y5X1F6Y4T5D3B2V8T5E4'),\n",
       " (2, 'PRC_F2P0A0E6K2L4S1O8A0F8T1I4J9J6J8'),\n",
       " (0, 'PRC_B2X0B0Q6G2T9P1L0Y0W6O3L3C1T6T3'),\n",
       " (0, 'PRC_K2I0P0B8U3Y1F1G8I2U8L1W2E0S0Q6'),\n",
       " (0, 'PRC_H2S0N0C8I0Z7F1F1O4N8G5Y0V9R4F0'),\n",
       " (1, 'PRC_J2S0H0U7E0Z8F1L1M0D4Y3K0W9Z2T7'),\n",
       " (0, 'PRC_B2N0Q0D7E1Y7L1Z6V1W0J1O0W3P2P7'),\n",
       " (3, 'PRC_G2R0S1C1P1X7J2F3P0W7R5I2C2J2G1'),\n",
       " (0, 'PRC_Y2G0D0E6I1J8U1W4B1S7S4I0N6Q2F9'),\n",
       " (8, 'PRC_B2M0S0N7R3J0U1I7Q2K7L4P3J9D9V1'),\n",
       " (12, 'PRC_M2V0Q0N9R0K8V2K0J5M2H5Q5X5C2W9'),\n",
       " (2, 'PRC_L2S0U0K6D1M5X1B0U0V1W1M4J6V8J3'),\n",
       " (1, 'PRC_F2F0H0Y7Q0M2V1N7Y4I0V4O5Q3R3J5'),\n",
       " (2, 'PRC_V2T0R0W9V2V8Z1Q5E2A3S0J1S4X9F0'),\n",
       " (4, 'ARC_H2J0M0S7W1I0R1C0M0G9K2X9X8T3X5'),\n",
       " (3, 'PRC_I2N0Y0D6U1D1I1G0R3R6T3L1P4H7K9'),\n",
       " (7, 'PRC_A2T0H1V0K1J4B1V9H2G6Z1T0D0I0C5'),\n",
       " (27, 'PRC_G2Q0Z0E9X1O1Z1U5S5A5Y4R0P2F5A7'),\n",
       " (3, 'PRC_A2W0M0F6V1Y9K1K7U4C4G3U8M5Y9T0'),\n",
       " (9, 'PRC_K2G0J0Z7N2O0U1Y5Z3P5F0B0W4B6K4'),\n",
       " (0, 'PRC_S2Z0V0S9L1N1T1A0Q2H2K3C8F6V9V7'),\n",
       " (6, 'PRC_O2F0A0K7R0K7Y2W1L3H9F0P8U9Z2H1'),\n",
       " (15, 'PRC_D2V0Z0X6I0Z3E1I1V0L3P2J3V7X7I0'),\n",
       " (2, 'PRC_C2L0V0M6L1I5R1N7D2V9E1P3W1M4Y7'),\n",
       " (30, 'PRC_F2B0L0P7O0V3D1P9C4H1P0U7R3F7H3'),\n",
       " (0, 'PRC_W2R0J0Y7Y1E0U1E3I3M0F1Z9S4K2I9'),\n",
       " (2, 'PRC_A2I0P0S9B1S7T1K5R4F1Q1I3D8Y4O8'),\n",
       " (0, 'PRC_V2S0U0D8O1I9B1D1I0Q7Q4K7U7V9F0'),\n",
       " (0, 'PRC_P2P0Y0P9W1E7S1J5C1F9J4O3X3D8V0'),\n",
       " (51, 'PRC_G2G0I1O0K2A7K1A6V5J4U3F2A3H3F5'),\n",
       " (2, 'PRC_K2A0J1A0G0V5Q1I1N0C4D0K7D9Z5J6'),\n",
       " (3, 'ARC_G2N0T0K6C2A5B1J5K5T8H0X7V3N6S5'),\n",
       " (0, 'PRC_C2S0M0W7P0O6I1S3A5I9D3J2Y9X4R4'),\n",
       " (2, 'PRC_O2P0D0J7T0Y8Z1W6F4C3M3K5U0X5O2'),\n",
       " (1, 'PRC_Z2M0P0V8P2U6Z1H5W4X3Q0J9E9V2K7'),\n",
       " (2, 'PRC_Y2T0B0W7I0H3O1M5S2Y2H0B3P8A1E9'),\n",
       " (148, 'ARC_U2S0F0U9D2J5G1E3R3S9F5V9E3X7O4'),\n",
       " (0, 'PRC_C2C0H1F1R1J2O1F5Y3S7R2T5B7P6B2'),\n",
       " (0, 'PRC_O2X0N0Y9E1R4G1G5J2U3O5Q4X6H9M8'),\n",
       " (9, 'PRC_A2D0Y1H1A0K4D1Q6F3R3O0D8X1N7J7'),\n",
       " (4, 'PRC_A2Z0G0Y9F2J4K1R0U5P7O4Y4R9K1X4'),\n",
       " (14, 'PRC_S2P0I0W6D1P7W1D4K4B4K3F8D9K4U5'),\n",
       " (0, 'PRC_S2R0E0J9O2N4V1U9C0J9Q2F3G3L6G0'),\n",
       " (0, 'PRC_Q2L0H0H9Z2I1C1N7C3N8R0P4A3W3K9'),\n",
       " (91, 'PRC_G2C0M0E9X1H6L1W6Y3K2B4K0D8L7B8'),\n",
       " (1, 'PRC_Q2A0X0J9F1Q7V1U7F2K2Q5V7P8U9S3'),\n",
       " (1, 'PRC_B2A0M0J9A1R1W1S7N4R0U2N0Y3R9Z3'),\n",
       " (13, 'PRC_L2N0G0H7Q1L3I1L0N5X0F0G1C1D5R6'),\n",
       " (1, 'PRC_X2Z0O0O8X1T2A1Z4B2G4Z4Z4J7G9C2'),\n",
       " (39, 'PRC_U2V0X0V7W0M1P1U0T5X4B3V0L3G4S6'),\n",
       " (110, 'ARC_M2G0X0U8J3H1Q1I3U3Q9B5D3X7H3S7'),\n",
       " (8, 'PRC_U2C0U0K9Z0O9U1F7A1J7O3O3F6U5F6'),\n",
       " (2, 'PRC_J2K0Z1D1W2B7I1B1E4C2Z4C6C5O4B7'),\n",
       " (0, 'PRC_A2R0J0P9M0Z3D1G1F1J9B3T3K1Q1X2'),\n",
       " (4, 'PRC_M2O0Z0D9C1L0U1F7Y0K1A5E7F8O6Z6'),\n",
       " (26, 'PRC_C2I0I1X1W1S1V1B3K3R1W1C5C9T8P9'),\n",
       " (4, 'PRC_X2R0W0F9L0C3Z1D3T1O8W4N8B6I1W3'),\n",
       " (7, 'PRC_Z2M0P0K8M1B3N1Z4C3O0O1R4V4R6S1'),\n",
       " (36, 'PRC_Z2C0C1T0E1L2C1E4N5K2B4I7T4F6G4'),\n",
       " (1, 'PRC_I2F0G0J6M1Q1X1P1R2D6E4S6E0L3I2'),\n",
       " (15, 'PRC_G2J0P1J1C0K2E1L1G0D4K1P4E4Q3O9'),\n",
       " (0, 'PRC_O2W0I0U6P1T9O1W8J1K6R4U9B9G8S9'),\n",
       " (0, 'PRC_V2P0S0Y8B0B6X1O7S1Y6M1H4N8E8Y7'),\n",
       " (6, 'PRC_I2R0B0G9I2S4H1Q0H1D1Q3L8N5R4B1'),\n",
       " (10, 'PRC_D2X0M0Y6T1U8J1G1S3L6A4G6V2O5V3'),\n",
       " (6, 'PRC_M2Y0K0M7J2W8E1J6F1E0A3G0S8E7F8'),\n",
       " (0, 'PRC_Y2K0D0A7B0Q2M1M7M0K8K2L4I3F7E5'),\n",
       " (3, 'PRC_Y2E0Z0L6V1S8N1P8S0U0B4M4Z0A9Q8'),\n",
       " (0, 'PRC_B2N0T1V0O2O0F1Z4J1K5E0T7G5C4P8'),\n",
       " (13, 'PRC_E2N0E0X6M2E5A0M9J4C0P1O0K1V9D6'),\n",
       " (3, 'PRC_E2B0Z0S7S2H8J1Q0O5O9O5R9F2P7V5'),\n",
       " (0, 'PRC_K2I0W0B8M1D3S1G6A1E9Z1M6U2H2B5'),\n",
       " (0, 'PRC_C2W0A0U8E2I4F1Z3Q4Z3S1P9S3L2X3'),\n",
       " (1, 'PRC_I2Y0F0U8N3F1S1P6C0R5T0W0A8P2T5'),\n",
       " (0, 'PRC_P2Z0X0G9E1U1M0C9I1B9M0D5R1Q0A8'),\n",
       " (21, 'PRC_V2E0I1R2H0D2K1Q8M3Y8E3M2D4S8W3'),\n",
       " (8, 'PRC_E2W0S0J6E1Y5D0Q9F5F0T3N0K1K3Q7'),\n",
       " (4, 'PRC_E2Z0C1X2K0E2C1B8K4T2H5P1L8K2V5'),\n",
       " (6, 'PRC_T2H0P0Y7T0H9F1A1R1Y0N3F2F1B8N2'),\n",
       " (72, 'PRC_H2S0I0P7U2W2R1K7O0X3H4I6I7R0I9'),\n",
       " (7, 'PRC_E2T0E0G7R0Y2P1Y6C1K8G2P5C6I6M8'),\n",
       " (1, 'PRC_C2S0D0S7T2Y1H1S0C5S3U1L3I7O1T3'),\n",
       " (0, 'PRC_A2S0A0P8C0V7Z1H6S0N3U4L5G1B7Q1'),\n",
       " (5, 'PRC_L2O0M0S8O1V0M0I9R4T6E2D0E2C8L9'),\n",
       " (62, 'PRC_D2C0N0Q9L1F0A1D8X4A4X2S0H6W7V4'),\n",
       " (27, 'PRC_A2E0L0N9J1J1W1I5D5V7K3D9S4A8B5'),\n",
       " (10, 'PRC_G2K0C0F6Q0V4S0I9J4I4H0X5S4W1D0'),\n",
       " (1796, 'PRC_S2B0A0B6W0W4N0N9Q0J7M2V5C8B5K5'),\n",
       " (7, 'PRC_B2Y0T0T7J2T1K1K0K4F9M0X1P5P9J5'),\n",
       " (30, 'PRC_Z2R0Q0I6Z1D2T1G5Q3J8I4X9Y8Z0X3'),\n",
       " (28, 'PRC_L2P0N0W6H2V5R1U6A3G3Q3C0A3S9P7'),\n",
       " (1, 'PRC_S2U0L0T7U1G5Z1Y4I0V8X3G9P7M6D1'),\n",
       " (10, 'ARC_J2W0B0D7W1Y0Y1R3R1E8J4F3L3Q3C5'),\n",
       " (7, 'PRC_Y2F0B0R6K1F5U1W7F1M0M4G7O8F3H2'),\n",
       " (3, 'PRC_M2I0G0H6O1R2N1I4A0R5I3B8M8L3H3'),\n",
       " (14, 'ARC_I2F0V0U8J0W6K1N6W2Y3V5J4T4B2G7'),\n",
       " (5, 'PRC_K2V0J0U7J1V6W1W1F0N5K0R1P9X1L2'),\n",
       " (5, 'PRC_Q2U0W0O6H0L4C0H9C4B3X3L9E1R5M6'),\n",
       " (1, 'PRC_T2C0D0T7B2N4B1O0R2G4J3J8I8Z3P0'),\n",
       " (10, 'ARC_A2C0A0I8L0Z7C1H4D0O3B0Z7X9O3H2'),\n",
       " (3, 'PRC_X2R0Y0Y7Z3X0F1F5D2W6H4L5C6L3N0'),\n",
       " (17, 'PRC_G2T0Y0A6W2J2W1N6C0X0R4A2D8R6K2'),\n",
       " (0, 'PRC_M2P0Q0Z6I1X9W1I5F0D6L3D9C0A8Q8'),\n",
       " (2, 'PRC_B2A0S0T7O0I2F1S3Q5V8V4V3P1K1T5'),\n",
       " (0, 'PRC_G2L0H0B7C0T6Y1I1Y0U7Y3H7A7R7D7'),\n",
       " (1, 'PRC_G2D0O0E6U2B5D1P8E0B4D3Q3N9F0Y8'),\n",
       " (11, 'PRC_P2J0P0X8E2D6B1Q7N4W0R0C1S6J2M5'),\n",
       " (4, 'PRC_N2P0C0Q8M0C3S1C0Q0V9Z4D2W0M4C8'),\n",
       " (11, 'PRC_W2I0B1P1G0B6T1H6R0L2Q5L4V6S0B7'),\n",
       " (6, 'PRC_G2V0O0D6B1L5H1B7W2X8B5E8Y3K1A2'),\n",
       " (29, 'PRC_T2Q0V0A6X2Y3H1E0H4T3D1X9X8C3O4'),\n",
       " (1, 'PRC_I2T0T0T6E2G3E0M9F4D4U5Y4A6A0P1'),\n",
       " (0, 'PRC_H2Z0D0J7G0L6H1U6U5R4D2B8Y5F2H0'),\n",
       " (5, 'PRC_H2V0D0U6Y2D6R1A4E0P4X2J7O0W6O7'),\n",
       " (18, 'PRC_R2M0D0G6C2B3A1U8V1U0O1U7D7K1J0'),\n",
       " (0, 'PRC_C2Q0H0P9K2W2N1E4A3I6I1O2W8K5K5'),\n",
       " (0, 'PRC_N2J0T0O7O1A5Q1I1M3H1S2L0I2O9H1'),\n",
       " (11, 'PRC_F2Y0V0G6J2S5F1Z4Z5D5X1Y3I6K3X3'),\n",
       " (9, 'PRC_P2H0V0Z7I0L2I1C8A2D3H0K7X8P2M7'),\n",
       " (1, 'PRC_C2T0D0I9D0H3Z1G4F2O9H4I8G9M5S3'),\n",
       " (34, 'PRC_I2W0H0K9K1W1N0K9V1A1Y5J2E7J6E3'),\n",
       " (0, 'ARC_D2G0X0N6Q3W0J1T3O4Q5S4B1B1W5E7'),\n",
       " (35, 'PRC_C2E0Z0E6E2M6M1K7G1G5P1M6G8S7V5'),\n",
       " (9, 'PRC_C2P0G0L7B0I2X1S1J5A2E5G6N3U3U3'),\n",
       " (14, 'ARC_Y2K0C0L8R3P1K1E1V2F4Z5B2M8M5M2'),\n",
       " (4, 'PRC_W2O0W1M2X0G2J1O8S4V6P4U6N2J4U7'),\n",
       " (9, 'PRC_U2O0F0F8F0C3D1W4C3C7U2I6N0W6J1'),\n",
       " (1, 'ARC_K2S0V0U8X1R1D1X4H2U4I1W7R5J5T9'),\n",
       " (0, 'PRC_E2B0G0K8K2F6H1K3Y3O7F2W8L5R5M5'),\n",
       " (2, 'PRC_X2J0G0L8O1N1O1M3R4T5P3V6A1X9I8'),\n",
       " (0, 'PRC_H2K0B0X9G1W5J1X6M5H5N1J8F5S3A4'),\n",
       " (0, 'PRC_L2A0C0F7E2K2Z2C1Q0M0J3R6N8O7A6'),\n",
       " (55, 'ARC_P2B0L0N8Y3W1K1H5T5J1I3S1Y9N4W1'),\n",
       " (2, 'PRC_A2S0T0G7H0X1U1L7N1H5S0Z5R5A0A9'),\n",
       " (0, 'PRC_X2I0W0I6Q1Z7A1R0F1O7B3U2A6S6I1'),\n",
       " (0, 'PRC_B2N0L0Z8L2T4V1Y3O4E4T2A0N9C9A6'),\n",
       " (0, 'PRC_Z2G0K0M6D1I7T1V7E3S4V1J3D3Z9P5'),\n",
       " (34, 'PRC_I2V0G0C9W1K1X1G4X3O0D0D4H5H1F7'),\n",
       " (3, 'PRC_Q2N0G0P8A3X1V1Q8C0M1U5D2Q9S2C6'),\n",
       " (5, 'ARC_R2C0D0J7H1R0Q1F3F5V7B5V8T3Z4K4'),\n",
       " (0, 'PRC_F2C0R0A7X0H9J1I1S2S0I1N2M0W5H0'),\n",
       " (8, 'PRC_S2C0T0Y7L2L8J1I0Z3V1M3F4A9W5N3'),\n",
       " (6, 'PRC_U2A0M0B8I0E6A1L5V1S0V1S9B7O7R8'),\n",
       " (1, 'PRC_T2V0G0N6K0I1R1H6D5L5E0Q7O3T7Z9'),\n",
       " (1, 'PRC_K2K0U0G8K2N4G1T8U4V3E2I8G6L3T3'),\n",
       " (1, 'PRC_N2Q0Y0W7K0K6L1S0K3N2Y1C1F4O9J7'),\n",
       " (0, 'PRC_R2S0M0X8L1G3C1D0P1L6U3B2K0C2K6'),\n",
       " (6, 'PRC_Y2O0Y0M9I2C2C1H4O1C3G5U9V5H6B3'),\n",
       " (0, 'PRC_D2A0P0C8G2P5V1J0A5K4G1Z9S0Z0F0'),\n",
       " (0, 'PRC_M2E0A0F6I0V9C1V0L5B2P5R5N8J1F6'),\n",
       " (4, 'PRC_J2C0U0R6J0B3M1Q5C2U9X1A7E2N7G1'),\n",
       " (15, 'PRC_N2A0G0T7R0C7R2D1C1W1Q0D3P0W8O3'),\n",
       " (6, 'PRC_E2N0R0Y7E0O7F1M4G4O1C1Q5G0F3S2'),\n",
       " (4, 'PRC_X2W0H0M6E0E1J1B1E4S1A2R6R5V1M4'),\n",
       " (5, 'PRC_H2R0Z0J8D0D5C1X4S5L6L0R5P5V7J9'),\n",
       " (3, 'PRC_S2H0B0R9S1J6E1Z7O1Q7E4X1K2N5G4'),\n",
       " (10, 'PRC_X2W0T0C7Y3J0L1Y6B1I0D2G7L5C5K2'),\n",
       " (3, 'PRC_C2X0V0Y6Q0G8Q1A0T2B4W1D3O4U6S5'),\n",
       " (178, 'PRC_B2Q0X0O9T2H3G1F0F0B7Z4O8Z6W7D2'),\n",
       " (0, 'PRC_D2R0T0P8K2Y4I1O8O0W4K4H3A4Z0M4'),\n",
       " (38, 'PRC_P2A0G0Y6D1P6O1H0N0B1N0I5K3Q9H5'),\n",
       " (3, 'PRC_X2N0I0E9U1N7E1U6E5M1C2J1K0J6J2'),\n",
       " (0, 'PRC_J2O0N0K6A0M2V1F1R1S0I3X6I5V3G6'),\n",
       " (22, 'PRC_Z2H0U0D6L0R3I1J5P4G6M2D4E6P8N6'),\n",
       " (10, 'PRC_J2P0R0G6J1H6C1T6A2U9O4P4Y2S5M3'),\n",
       " (9, 'PRC_W2H0U0Z9K0N8I1D5O0G3E5C4O7J0L7'),\n",
       " (0, 'PRC_U2A0W0N6G3V0Z1H1L0C4L5N7Y2J8Z9'),\n",
       " (11, 'PRC_H2C0Z0X7I3U0A1N7A4L1G4D8V0W7T1'),\n",
       " (0, 'PRC_S2B0M0A7V0Z9I1I7I0L5N3U1T6I3G5'),\n",
       " (158, 'ARC_E2C0Q0D8B3K1T2W0W3X0D1J4T4F1N9'),\n",
       " (15, 'PRC_D2W0C0R9K2F2L1P3H3Z2B5Q1B3Z1V3'),\n",
       " (0, 'PRC_B2B0P0V7C0E8D1N3S3B6O3N0W1U5J5'),\n",
       " (35, 'PRC_G2K0A0O6E3Y0Z1F4K3V2L3T7X2L6F8'),\n",
       " (3, 'PRC_Y2K0E0O9G2L3U1D2H5J6Q5X8Y4O0R5'),\n",
       " (1, 'PRC_W2O0X1G0M0L2O1W6P5R2V1P3S4J0L7'),\n",
       " (14, 'PRC_I2A0U0B6F0K3P1L8J2W5Z1S6C2G1J2'),\n",
       " (0, 'PRC_Q2L0L0H6F0K8K1T6V3K5M4F3J3Q3K0'),\n",
       " (2, 'PRC_A2J0E0V9I0P2E1Q1M0G5S1S0U2N3O7'),\n",
       " (3, 'PRC_C2D0L1D1A1R0B1S8E0E0A3R2S2G9R8'),\n",
       " (32, 'PRC_L2T0V0V6K1N6G1Q1G4Y6T2X9F0K0Q2'),\n",
       " (1, 'PRC_Y2Y0N0N6G2M3K1E5J0C3Z0S8E7O2M6'),\n",
       " (67, 'ARC_F2Z0G0Z7T1W7Z1F1E4V5U2H2Z8D8O3'),\n",
       " (3, 'PRC_I2F0Q0T7V2A1P1U4R4D4A2I0F1R7M1'),\n",
       " (3, 'PRC_P2Y0C1E2K0S2L1V1D5Y4S1R2H8Z6I0'),\n",
       " (38, 'PRC_W2L0P1M2K0R1U1G4O0M3S0F2P1A4E0'),\n",
       " (9, 'PRC_P2Y0J0S9N0P7X1C0D5O2E5V8X2D6H2'),\n",
       " (4, 'PRC_M2I0B1R1U3A0E1W4Y5B7X4M4R4G6T1'),\n",
       " (4, 'ARC_U2X0J0S7G0S3V2A0E0V0J4D2S4P1U0'),\n",
       " (1, 'PRC_X2K0V0B6D1E5E1P1U3A6U0O6Q9Z5E5'),\n",
       " (2, 'ARC_P2T0B0I7R1N3B1P1N2D2N3D9B4J1S6'),\n",
       " (1, 'PRC_K2C0R0A7C1B3I0O9G3J1W2I9W1S3G3'),\n",
       " (4, 'PRC_F2R0X0X6S1X0K1Q4D3Y5L1Y7X2A8T9'),\n",
       " (7, 'PRC_G2J0S0P6K2M5P1H1P2I4M1P6N1B9I9'),\n",
       " (5, 'PRC_Q2G0J0H6G0E4S0F9T4G5J4F4E2H3N3'),\n",
       " (3, 'PRC_S2L0K0N8L0I5B2G1K3B5L1R8Z3F0Z7'),\n",
       " (11, 'PRC_O2T0C0V6Q1O8M1F0V2G0P2X8F2V0H5'),\n",
       " (0, 'PRC_M2H0E1O1H2D6I1I1B5X2V5X5X7R2Q8'),\n",
       " (17, 'PRC_E2P0Q0V7U0I9Z1T8Q1C6I5E3T7W3L1'),\n",
       " (6, 'PRC_B2X0C0W6N2Y6C1U4R0G3Q3U4O3V7X2'),\n",
       " (0, 'PRC_A2R0Z0B7V1T4L1C6M5N6M4M6Y8F5J7'),\n",
       " (6, 'PRC_D2J0A0K6N0Y5B1E7T4O7Q3G8O4P6X0'),\n",
       " (2, 'PRC_M2S0N0T6Y1T6R1S3R4T1D1N4Q8Z1W9'),\n",
       " (2, 'PRC_K2T0O0U7J0E7T1B5N2V9Q2E2J2D2J4'),\n",
       " (1, 'PRC_O2U0Z0J9E2U4W1O6D4Q2N5G6B4J5U6'),\n",
       " (8, 'PRC_M2E0O0G7Z1Z3A1I4R4Q3V5O8Y7L1K8'),\n",
       " (53, 'PRC_Y2B0O0L7I1M5W1R0U3G1M1A9A5D7V2'),\n",
       " (0, 'PRC_P2T0M1U0D2C7L1D8J0D2T2C9P6M6W6'),\n",
       " (6, 'PRC_L2U0T0V7J1Z6A1M6H3H8W3W0E1N0P8'),\n",
       " (0, 'PRC_M2U0Q0U7N2J1E1E6I4G5T2V3P9F8S4'),\n",
       " (0, 'PRC_S2R0Z0O7V0H7V2B1W5J2I4E8J4G3O2'),\n",
       " (0, 'PRC_Y2U0R0W8P2B1L1H9L0M6Q3Y3H9F2K7'),\n",
       " (1, 'ARC_A2C0K0W7P0A3V1F7F0A5Z1T5C8A1C9'),\n",
       " (6, 'PRC_L2P0C0N8J1Z9P1B3U2H2T3L2M8R2A0'),\n",
       " (4, 'PRC_X2X0E1J1F2P5Q1Q5Z2Z5W4H7F6M9L7'),\n",
       " (0, 'PRC_X2O0T0Z8I1U1J1P7D0V2R3K9Y1M3B5'),\n",
       " (4, 'PRC_D2I0I0Q6L0L4B1D1F2M2L0D4K3U7F6'),\n",
       " (38, 'PRC_U2F0A0P7Q0L8P1Z5P1R2J4B1Z0T2I4'),\n",
       " (1, 'ARC_G2O0Z0N7X1S3Q0E9A5U0B0P2L2Y5W0'),\n",
       " (0, 'PRC_O2M0H0P6L0I3L1I7N2J6A3X8J5J6Q2'),\n",
       " (11, 'PRC_L2V0A0E6M0M4I1G2B1C2N0K0Z2P4X1'),\n",
       " (3, 'PRC_L2I0F0Y7C0Q6D1G7U3X6B4H3U0U2J5'),\n",
       " (0, 'PRC_B2K0G0L7P0U6Y1X5S3E6V4C1A2J2V1'),\n",
       " (0, 'PRC_C2I0Z0B7K1L3O1J7W1Z7K4Z1L7W7Y4'),\n",
       " (0, 'ARC_Y2Y0O0B7Q1C4T1Y1Z5C3N4Y3Z1M5A6'),\n",
       " (0, 'PRC_C2W0A0H8D0V5W1A4I4B9E2Z4A3Z3J3'),\n",
       " (31, 'ARC_V2I0I0D9C0D2E1X7I0K7E1J4Y4O8A1'),\n",
       " (0, 'PRC_S2Z0B0Q7V2A8K1E4Y4H2F3K8S2Y0K5'),\n",
       " (0, 'PRC_Y2I0T0O8J0C6H1Y1K0U6I5T9Q5C5R3'),\n",
       " (1, 'PRC_B2V0A1K1H2P4D1O1N1V4T4F8T1L8S7'),\n",
       " (65, 'PRC_P2Y0G1C2Y0Z8T2T2F0O8E3W0Q5C5O2'),\n",
       " (2, 'PRC_T2Z0L0Q7Y2A1B1U5Z2G8S3O0L6V2W4'),\n",
       " (1, 'PRC_B2Z1K0D1Z0H6Y1F9Z2X8W5P8Q2I3N0'),\n",
       " (0, 'PRC_N2L0Q0W8V0B6X1X4O5A5B4H3W2Z7Z1'),\n",
       " (0, 'PRC_N2Z0M0B8V2R6E1O4T3T5B5N9D4F7K2'),\n",
       " (29, 'PRC_F2A0Q1V0F0S5O1N8W1P6L2Z9T9D6K3'),\n",
       " (4, 'PRC_K2P0I1W2X0L2J1B9N2Z5I3B9K9J6E0'),\n",
       " (1, 'PRC_A2G0E0R8B3A1N1S4K4V5U2W4X7D1C8'),\n",
       " (102, 'PRC_F2D0R0F6Y1H2R1Y4L2C9J1K0X4V4L5'),\n",
       " (0, 'PRC_A2G0J0Z7T0X8N1X7T5A0X5K3E4D4F1'),\n",
       " (0, 'PRC_H2V0A0C6D1J7A1H1L3E6L4Y5H4D7S3'),\n",
       " (4, 'PRC_G2V0D0T8S1M0S1L7M2X7B1Q5F3C4V9'),\n",
       " (16, 'PRC_Y2T0Z0X6D0X3G1M6D3E2K1H4F2E4R9'),\n",
       " (0, 'PRC_Q2H0K0M9H0W1O1O1W3B0K0O3O6R3G5'),\n",
       " (0, 'PRC_R2V0C0C9Q0T1Y1Q6F0H7M1V7W2V4M3'),\n",
       " (1, 'PRC_Z2T0Z0H8R1C9J1S5Q3S0C1X8H5Z7E5'),\n",
       " (4, 'PRC_I2G0D0H7J0R3L1Y7C5Q4W3P9S7A5O4'),\n",
       " (0, 'ARC_C2M0H0Y7T1N0C1V3B3V8V1U8C4Y8I7'),\n",
       " (15, 'PRC_N2H0Z1O1N2M5J1P0B3B6D1A0Z2C8G4'),\n",
       " (0, 'PRC_T2A0D0F9X1D7O1D6U5T4W2C3D6H8X9'),\n",
       " (8, 'PRC_E2M0A0J9R0F7E1Y1Z2O0J3P5L8Z7J8'),\n",
       " (1, 'PRC_N2Y0B0A7F0W7F1R4H2G9W2A8L4Q1F8'),\n",
       " (8, 'PRC_Y2Z0W0D8F0P6M0O9I3L3T5T7L6C8S0'),\n",
       " (13, 'PRC_I2Q0V0N7M1I0A1M7D2U3G1E7I3Y5M7'),\n",
       " (0, 'PRC_L2Q0M0B6O0O4F1E3Y5Y2M5N5Z3M3I8'),\n",
       " (7, 'PRC_S2R0N0Q8M2A5T1Y5U0I4X5Y6O6E0Q7'),\n",
       " (20, 'PRC_W2E0B0U9Z0B1T1V3U2D7O5W6G5Y5B0'),\n",
       " (0, 'PRC_L2A0N0V9I2W9C1O4M4G7A3R4O1R7Y6'),\n",
       " (2, 'PRC_Y2C0B1L0G0N5Z1A0R2K2D3H0F0W8S2'),\n",
       " (6, 'PRC_U2Y0S0L6K0R3V1P5C3X2I3C4A8J9U4'),\n",
       " (0, 'PRC_C2E0J0W7O0F8U1J1F3V1C1V2C6T5R5'),\n",
       " (2, 'PRC_X2I0U0V7E2F4O0D9X4A5K3R9P4G2N0'),\n",
       " (31, 'PRC_P2P0B0V8P2O4U1R3K5F0X1A4F3Q5I1'),\n",
       " (2, 'PRC_P2D0X1U1U2K5M1L0O4A9T3S9D0S0S3'),\n",
       " (2, 'PRC_H2X0F0G6Z2P5Q1M0X1H3D1R0O7G0V6'),\n",
       " (6, 'PRC_Q2A0W0H7N0P3A1R0B0Y8G5E4H1M1C3'),\n",
       " (40, 'PRC_T2X0G0B9J0T2S1G0I2F2Q1P4G4O5O0'),\n",
       " (11, 'PRC_H2T0Y0X6D0P1V0P9A1X1G5O8N3G1X0'),\n",
       " (176, 'ARC_P2F0R0G8R3I1N1M4P1U7X1H3L6T6E6'),\n",
       " (3, 'PRC_F2C0Y0P9Q0N7G1A2D5P8N0I4V7N5Z6'),\n",
       " (5, 'PRC_I2F0Q0C7P2M8I1P5A2L6V5Y9N8V5C9'),\n",
       " (0, 'PRC_K2I0Z0V6R2Z2R1C4B3G5B5B1Z4G6B8'),\n",
       " (6, 'PRC_G2N0P0V9A1J5V1L6K4P4M2C8I5Z9V3'),\n",
       " (7, 'PRC_T2D0Q0E7Z0Q1Q1Y6E4S8D0R6N5Q2W5'),\n",
       " (6, 'PRC_G2Y0O0O9Q2W3J1I8K3I7A1F9P6P4N9'),\n",
       " (0, 'PRC_T2L0Z0E8Y2K0K1O9U1Q1O1Q4Q8L5I6'),\n",
       " (0, 'PRC_B2A0Q0T6E0M8P1F6P4W1P0X0R8H0U6'),\n",
       " (0, 'PRC_Q2O0X0Q8T1X3X1Z0G1D8G0V1R6T4W5'),\n",
       " (1, 'PRC_F2Z0D1C1R1G8Y1P8V2W3H2R3H7H0V6'),\n",
       " (13, 'PRC_W2J0M0G6J3O0H1T0M3X7X0H8Y4K5K6'),\n",
       " (5, 'PRC_O2P0C0V9F2Y2G1I4K2B1K1D7R8Q9S0'),\n",
       " (1, 'PRC_H2L0S0M9W2W4C1N9J5L0M4S7L3M0S4'),\n",
       " (0, 'PRC_U2Q0N0S9X0X9Q1K6F5L4P5X8R7H2Q4'),\n",
       " (2, 'PRC_K2T0M0D7L0Y8Q1C5X5B2D3T4X2L2M7'),\n",
       " (0, 'PRC_D2G0Z0W6A0S3P1X7Y2B2C5P2P5E5O9'),\n",
       " (4, 'PRC_L2Y0D0C6Q0D8H1U5L3F2Q4Y0T8A2Y3'),\n",
       " (3, 'PRC_K2H0D1S0A0M6Y1Q6C1R4R3O5T3L7N7'),\n",
       " (5, 'PRC_O2F0U0G6U0Z4D0P9Z4N1T2J8J0T5R5'),\n",
       " (1, 'PRC_L2X1J0C1W0P6M1Z9O2F8S0S3C7O5A4'),\n",
       " (3, 'PRC_X2A0T1R2I0C1M1B5H5A8S1R1D4Q9R4'),\n",
       " (32, 'PRC_L2V0V0D6K2B3K1R4S1N2R5B9E8Y2E3'),\n",
       " (3, 'PRC_N2C0B1A2K0V1L1U5U5B8D4M0W1C9X1'),\n",
       " (4, 'PRC_V2E0N0L8G3S1V1U4A0M2Y0X7B7U5K0'),\n",
       " (8, 'PRC_P2C0B1E1Z0L6D1Q6J2A7S4L3S4F7W8'),\n",
       " (41, 'ARC_E2N0G0F7I0C7Z1K6B1L2D3U4Y4B3Q8'),\n",
       " (0, 'PRC_X2P0K1T1C0R6W1K5B1V7W2T3T5L7J0'),\n",
       " (27, 'PRC_E2U0W0Q9K1D1K1X5S5J9L4Q8K0F3E9'),\n",
       " (3, 'PRC_M2B0A1Q0N1J9D1P7E5W3H5C0C4N5F8'),\n",
       " (3, 'PRC_J2K0F1Y1Z2T5I1V1B0I3V5I8W9J4X6'),\n",
       " (1, 'PRC_C2P0C0U8S0F6G1H4K2V0I3U0N1U1O6'),\n",
       " (10, 'PRC_P2Q0Q0G7N1Y7N1V7W5B4Z4O7X4R4Y7'),\n",
       " (0, 'PRC_P2M0M0P7Y1Q7R1Q6J5Q4O0E8B0S1X4'),\n",
       " (3, 'PRC_E2L0K0L6O2K3I0H9Y4Q0W2M3L0A3S0'),\n",
       " (3, 'PRC_F2N0D0A7O0F3U1G9P4V2A4Q4Z9E2B6'),\n",
       " (1, 'PRC_Q2I0U0L7N0G7T1X2J5U9D1P4C5I6T3'),\n",
       " (3, 'PRC_R2R0G0E7U3T0J1Z4C2K2H0H4C9J4H7'),\n",
       " (12, 'PRC_I2H0P0T7C1I0B1L7I1Y3M2Y9G1Z3P7'),\n",
       " (1, 'PRC_Q2I0G0D8C2C0M1W5A1H9G3Y6G4Q2B5'),\n",
       " (4, 'PRC_M2T0Q0Z8X2I5W1J6M0R2K3E1F5S1J4'),\n",
       " (14, 'PRC_L2C0X0V7D2F3I1E0B1E5Q1R1D3H9Y8'),\n",
       " (6, 'PRC_R2Y0U0Z7I0J3A1F4Q3R8F1G2Q1L5S3'),\n",
       " (7, 'PRC_T2Q0U0L9S0L3H1W1S0L8D2U5S8E8G7'),\n",
       " (1, 'PRC_S2T0B0A6W2D4P0D9L3C0J2Y8F2D2M2'),\n",
       " (37, 'PRC_C2N0T1S1B0G4U0E9C3T6B5N3J0V4D7'),\n",
       " (3, 'PRC_J2I0S0N6P0R9Z1S6E0G0W2T5B8C1N0'),\n",
       " (3, 'PRC_S2P0J0O7W2E0Q1U5X2Y2M3G3F8T7T5'),\n",
       " (0, 'PRC_S2F0D0G6I2F4E1C7M1G2J0M4F4W7B3'),\n",
       " (3, 'PRC_M2L0J0Q9F2G5O1K1L3C6R0X9Y8Z5M0'),\n",
       " (55, 'PRC_Z2T0Y0V7C0F6K1N8V0K3A3V3N4O4P8'),\n",
       " (0, 'PRC_S2R0Z1B0L1S2L1L6O3Q1F5O1B4S6M7'),\n",
       " (3, 'PRC_H2K0K0C7D3V1O1I7J1E3G3N1T3S3L0'),\n",
       " (0, 'PRC_V2A0Z0Z8I1W4H1W6X1R6W1R6W3B9R8'),\n",
       " (0, 'PRC_Z2E0G0U9K1Z7G1B6B0J4H5H4P5O6Z9'),\n",
       " (0, 'PRC_F2B0V0T6Q1Q6H1R6N2A9W0L2O5L8N4'),\n",
       " (3, 'PRC_G2G0U0Z7H2N9X1F7W4H0D4D1F7U4T1'),\n",
       " (1, 'PRC_J2R0Z0U9G2S5I1Y7V0H4Q1I4V9C9W3'),\n",
       " (9, 'PRC_V2R0W0C7R0V7S1N4T5Q2M3V4M6Y2Y8'),\n",
       " (12, 'PRC_F2F0X0X6Q1V1X1H0B1Z2F2X8Q7K6A0'),\n",
       " (6, 'PRC_H2L0G0G6L1O1E0H9C2U0S1U2A8M9S9'),\n",
       " (4, 'PRC_I2S0K0O7D2X0G1X4H0O2R4F4Z2U8C0'),\n",
       " (3, 'PRC_T2B0O1T0C2C9X1Y5M5F3H2W7P1T8G8'),\n",
       " (11, 'ARC_J2I0R0X9R0V8P1L7C3O1C2V2C6M9Q7'),\n",
       " (13, 'PRC_S2G0R0H7T0P1R1Z4F1T9J3L1S8L7S8'),\n",
       " (3, 'PRC_C2G0X1M0C2V2L1D5P1J0R2T5P3C5M3'),\n",
       " (17, 'PRC_B2O0N0C6T2M6S0O9N5I5Y4S0C7Q4F8'),\n",
       " (0, 'PRC_N2P0Z0I6K3N0Q1F0L3Z8Q1N1G0W3D1'),\n",
       " (0, 'PRC_D2T0T0F9Z0R2N1P4H5G8T0D8F2I8O5'),\n",
       " (0, 'PRC_W2S0E0X6H0N8O1E2S5V9G3B6E7U9A6'),\n",
       " (3, 'PRC_W2M0V1X1Y2F5M1X1N1T5H1T9U0M2M4'),\n",
       " (1, 'PRC_G2Z0U0B7X2N3F1N1N0Y9Z0G3B9O9J9'),\n",
       " (0, 'PRC_T2F0X0Y8U2P0H1K0Z1M6F1T6N5V3X7'),\n",
       " (47, 'PRC_E2C0F0C6Y1S1A1U0G4H9P3A6Z8X6B9'),\n",
       " (0, 'PRC_G2G0Y0U7L1E0G1Y6S2T1N5K7X4T1K0'),\n",
       " (1, 'PRC_A2I0T0O6N0A2M1U6Q5C9P5T0P2B8I3'),\n",
       " (0, 'PRC_S2B0Z0P6L1G9O1Q0E4G4W4F8Q4B9O7'),\n",
       " (18, 'PRC_P2K0E0Z9K1R8N1K5E4O8S3T5V9D7O9'),\n",
       " (0, 'PRC_P2G0A0J7B0Q8A1Q6K3T4D2R5W5N4Y6'),\n",
       " (3, 'PRC_W2T0O0T6B1S2F1M0C2N0B5J9U5K4I1'),\n",
       " (0, 'PRC_Q2S0C0S8K0K5K1O7Z3T4B5C1Y2O6M4'),\n",
       " (0, 'PRC_Z2P0P0Q8A1J3Y1N1H0I2D2V1K7N3L9'),\n",
       " (2, 'PRC_E2I0T0K6Y0H2F1I6L4F2N0X7Q1E3Y7'),\n",
       " (3, 'PRC_U2G0Q0W7S1P4T1O7K1N0F3U2D9B2G1'),\n",
       " (5, 'PRC_Z2O0Q1E0P2T2U2Z2B5P4V0D8U5N9K8'),\n",
       " (4, 'PRC_B2Q0S0H6E0R4G0R9J4K7L1T4T5M3I4'),\n",
       " (2, 'PRC_H2L0Z0P6L1R7B1C5G2K2P3N2X0O1J7'),\n",
       " (16, 'PRC_B2U0C0A7K1N7N1D5S0I8D3P8E5U3N1'),\n",
       " (10, 'PRC_F2B0S0N6U2G2N1K4Y4V7Y0V5V0N5B5'),\n",
       " (4, 'PRC_Z2N0K1X2U0O2N2M0X0C2Q1H6D8Q6E8'),\n",
       " (1, 'PRC_U2V0G0B6X2J2G1U7Y3B6G2N6T7G6X3'),\n",
       " (23, 'PRC_U2V0J0P6O1Z6R1U4E1K2Q0H2V5J5Z4'),\n",
       " (0, 'PRC_U2E0I0N9J1N4P1L0E3J5E1W2P0H8R3'),\n",
       " (1, 'PRC_T2O0M0P9G0G1W1L5I1T8J0Z9J9M4O1'),\n",
       " (29, 'PRC_I2I0I0P7Y1I3Z1D3E3K0L5R7C7Y3Z2'),\n",
       " (0, 'PRC_K2W0Q1H0U0H6B1L1V5P9K5K2C6G0V7'),\n",
       " (4, 'PRC_L2H0D0L7K0S8R1Y6E3J5K1T0D4N2K4'),\n",
       " (5, 'PRC_E2Q0X0Y6Z2F6Z1L5Y5Z1A2G7E1V3Q9'),\n",
       " (22, 'PRC_L2G0Y1N1R1F8H1Z7H2U3U2P9X7G1B3'),\n",
       " (1, 'PRC_Q2B0Q0F9O0V9I0Y9Z5J4X3U8Z1O2U7'),\n",
       " (34, 'PRC_M2J0Q0J6B0N4R0A9C4H8M5Q4Y7U0E7'),\n",
       " (509, 'PRC_U2P0J0C9Q1X1E0J8S5O9Q3S0J8N2K7'),\n",
       " (3, 'PRC_I2P0Q0Y7Z2K2B1P4S2U9W4K4N8F8V3'),\n",
       " (1, 'PRC_Z2X0Y0S8K0M5J1B0T1D7Q3V0E1J8F2'),\n",
       " (5, 'PRC_A2J0E0P6T0I4Z0M9P5L2I3P2Y1K1D6'),\n",
       " (14, 'PRC_A2N0N0H6G2B6B1F8L2O8T0X8Q2J8N1'),\n",
       " (41, 'PRC_U2A0H1N2W0A4B1E3G2L9N4W1M2Z8I9'),\n",
       " (11, 'PRC_F2D0T1J1K0X4Q1Z8K1U7Z4A2U7J1J7'),\n",
       " (1, 'PRC_S2D0P0J8G0R5Y1K5H2U3J0Y9J9A1K9'),\n",
       " (0, 'PRC_N2R0P0X8E1E3R1B6H3X1W0H7V4M0U5'),\n",
       " (25, 'PRC_A2W0T0W7W0K6H1T5C4Q9W5T3J8G1R0'),\n",
       " (26, 'PRC_H2M0E0I8A1K8Q1Y5N5M2L3K7B5A7V0'),\n",
       " (6, 'PRC_F2K0C0L9B1O0O1R5E4A0K4I2T6E6E0'),\n",
       " (0, 'PRC_L2N0Z1U1X2W6K1H0E4V0C1V2U9T3E7'),\n",
       " (35, 'PRC_X2O0L0T6Z1A0H1I0P5A7O4N1M0D4T0'),\n",
       " (1, 'PRC_Y2J0K0N6K1Y6I1Y5H5R7T3K6D3C9W3'),\n",
       " (19, 'ARC_L2J0D0B6I2H6Z1B7V2P2L5M4R9A0I3'),\n",
       " (0, 'PRC_I2N0K0B7D0G3B1M7K4B5C4R7H6K2U9'),\n",
       " (3, 'PRC_E2R0I1D2K0K1X2W2S4H2T3T9K7Q2S4'),\n",
       " (22, 'PRC_E2H0G1B2G0A1R1Q4K0D4U3K6R9L7M2'),\n",
       " (3, 'PRC_A2K0R0N9X2R9E1L4R3N4R1J2Q9S5O0'),\n",
       " (7, 'PRC_Q2K0R0O9E1I7W1I0B1V8K1G1C9L7T2'),\n",
       " (24, 'PRC_U2N0B0I6W1D6Q1L6F4F0W0J8J4J1V0'),\n",
       " (0, 'PRC_O2I0S0A7H0K7Z1A6M0H9U1C4V8N8D9'),\n",
       " (45, 'PRC_L2K0Q0I8Z0E5D1K7Y4V4O1X3N0W6D6'),\n",
       " (70, 'ARC_T2X0Y0R8N3M1W2B0T2Y1G1J4X3D3P1'),\n",
       " (5, 'PRC_D2B0M0D6H0J4Q0L9I5Q2B1R3A7C4F3'),\n",
       " (6, 'PRC_P2L0H0K9J2E4H1A8W1F7C1L2L7N6P1'),\n",
       " (0, 'PRC_Z2M0V0J7G1C5H0N9C4T5E2T5M0I8J0'),\n",
       " (0, 'PRC_R2K0D0A7A1D5X1N8I4L1E1M9R2C7M9'),\n",
       " (3, 'PRC_F2G0A0I9D1M1Y1E1Y1T7E5T3F9O3F2'),\n",
       " (0, 'PRC_I2F0F1X0E2V2W1H8X1L6M1K9H5R5E6'),\n",
       " (9, 'PRC_H2U0L0S8O1U9S1S5M4N4U1C2F0Z0B5'),\n",
       " (3, 'PRC_G2H0B0G6G2V3I0J9S3K6A1N4P0X7Y8'),\n",
       " (1, 'PRC_Y2H0D0I8I0L6K1V7K5B9B5E7I1Q9K3'),\n",
       " (0, 'PRC_C2C0K0H8U0G4S0O9K2K3P4W9H5K6F5'),\n",
       " (3, 'PRC_L2K0F0K9D1G0C1C9D1T8U4F4K4F5X6'),\n",
       " (0, 'PRC_W2S0V0S6E1R9L1O0P4Z1E0N7U6N5W7'),\n",
       " (44, 'PRC_L2O0M0K6M2X6U1A5P4V5N2Q3G1X2J6'),\n",
       " (3, 'PRC_S2J0C0M9G2C4J1I0W5T1S5U8E2N2I0'),\n",
       " (0, 'PRC_V2I0A0E7Y0P7F0B9B3P3B5C2R9P7S1'),\n",
       " (35, 'PRC_E2N0G0U6P2Y9R1Y1H4G3A0O3N9T5S8'),\n",
       " (1, 'PRC_F2A0A0H8L2F5C1R6M0F4N1W1P2N4G1'),\n",
       " (0, 'PRC_P2R0P0M6V3L0B0S9X5G8N4L5W6M5C2'),\n",
       " (5, 'PRC_O2V0N1V0J2G6P1A5A3V5K3Y2B7A0U2'),\n",
       " (1, 'PRC_U2E0C0Y7R0N2S1V0X5Y7A4L2Y2P4E7'),\n",
       " (8, 'PRC_U2O0B0H9M0Y7T0O9Q1P1H0N8B0T1C2'),\n",
       " (12, 'PRC_W2K0L0B7G0R8O1G4G0K2R1J3C0O5G0'),\n",
       " (8, 'PRC_K2T0R0A7Q0J7A0Q9V5O4S4I4J5L4Q8'),\n",
       " (4, 'PRC_S2Q0H0I6M0M1H1A2E0N5Z0K5S8D0H0'),\n",
       " (1, 'PRC_M2V0E0L6E1C8O1O7K3C6E3M2W9V9H7'),\n",
       " (3, 'PRC_V2V0O1T1K1S8F1W7M1O0T3O3E5Q2F9'),\n",
       " (2, 'PRC_W2I0X0U7Z3G0A0Y9B5Y0J1K9W4O9J9'),\n",
       " (8, 'PRC_W2C0Y0N7O0V8W1R4F4D4Q1H7I7F5R4'),\n",
       " (24, 'PRC_H2X0D0R7I1M5Y1Z5P1O8B5X2J1K3W8'),\n",
       " (0, 'PRC_L2I0Z0Q7P0E1S1J5B1Z8U0X7X9Q0U5'),\n",
       " (1, 'PRC_C2Y0O0N6F0O4Q1E4D4E4E0W3W7R2Z6'),\n",
       " (0, 'PRC_D2K0P0T6P1J9W1D5N1F3Z1M5C3B9L2'),\n",
       " (19, 'PRC_O2A0B0U7T2R7L1X8R0H8C4H8Z6G6T3'),\n",
       " (2, 'ARC_B2N0J0O7S1P7F1D4M4C3B3H6H9L7F7'),\n",
       " (3, 'PRC_E2A0J1P2K0L9T0M9O2E1R3R2L7F5B6'),\n",
       " (1, 'PRC_G2K0D0V9G1O4P1J8H0U4M1G7B0N6J0'),\n",
       " (5, 'PRC_U2R0M0P9Z0R2K1A9E0A9O2O0E7V2E5'),\n",
       " (11, 'PRC_R2W0P1E2A0Q7H2S1T0U5W0F4U3D6N0'),\n",
       " (3, 'PRC_G2S0G1H1K1Y9J1K5E3Y6S5Q9V6Y4T3'),\n",
       " (7, 'PRC_F2N0T0T6K0N4K0W9P4D2N4S8J1U0A7'),\n",
       " (2, 'PRC_N2L0Z0C8E2A4M1B3B2N1T2X1F3N4P3'),\n",
       " (0, 'PRC_E2F0X0Q8D2J5S1J0I3F2I0B4I5I0S2'),\n",
       " (0, 'PRC_B2T0C0I9W0W3S1X1F0G4E3X2R1M1Y4'),\n",
       " (2, 'PRC_U2Q0O0A9B0F7M1Q0O2K8Y5P1I1R8T9'),\n",
       " (5, 'PRC_Y2H0X0N9E0S1M1O7X1X4J0K9S8I8L9'),\n",
       " (53, 'PRC_A2O0R0Q6X0H1D1A8I1O7E2J5U5T5D3'),\n",
       " (3, 'PRC_G2W0P1P0H0J5Q1P3W1P9E0U9S0M6Z1'),\n",
       " (0, 'PRC_L2U0B1J0S2U1Z1X6J1Z3Z5S0A2U2X1'),\n",
       " (3, 'PRC_K2E0H0I6U0X1T1J1Y3J9R1K8R0L6P0'),\n",
       " (16, 'PRC_O2L0S0D7Z0J1G0D9M5A7E2D7H4B3I2'),\n",
       " (21, 'PRC_W2V0M0P7V2E4R1W9R5C5M0H5R8H1F5'),\n",
       " (6, 'PRC_O2Q0E0Z7B3N1H1I1R2F2N4U9J8L8H1'),\n",
       " (45, 'PRC_K2W0R0H6K0O5U1Y1V5E7M4X0W9F4C3'),\n",
       " (14, 'PRC_G2H0T0F7J1B3Y1N7R5O3S0H3E3R4W9'),\n",
       " (220, 'PRC_I2T0X0A7Q0F3W1W9G3R0G1H1J0R0K5'),\n",
       " (4, 'PRC_O2O0E0L9R1E7Q1J6G5R3J0M2W9Q3R4'),\n",
       " (4, 'PRC_G2Y0I1D2C0N2Q0N7U1I5Q1E2Q3T4Q0'),\n",
       " (1, 'PRC_V2W0C0J8P2N1P1R6V3O1D3E6B5A6L9'),\n",
       " (0, 'PRC_Y2P0N0A6W2X5U1E0P2X2B3A7F2Y4B5'),\n",
       " (3, 'PRC_E2U0T0B6Y1B6Z1D1R0M3H5I6B1Y2D6'),\n",
       " (7, 'PRC_T2W0Q0M7O1W5M1U6K1M3N3Z8L9Z8T7'),\n",
       " (17, 'PRC_H2C0J0W9P0I9X1Y4M3D4C1V5C2Y2U6'),\n",
       " (0, 'PRC_H2X0Z0S6J0Y4A1T7A2N6Y1M1W8X9Q1'),\n",
       " (0, 'PRC_R2C0P0G7P1C3Y1P4I5O0A2D1E6E4V3'),\n",
       " (22, 'PRC_S2T0P0J9R1R4C1B4S3H7O2J0P5S9H1'),\n",
       " (2, 'PRC_N2W0H0A9A2K3U1M2L5E4C2Z8G3Y3T6'),\n",
       " (5, 'PRC_I2M0V1Y1D1S3Q1P1O4S2C1R7N5Z2P7'),\n",
       " (14, 'PRC_X2G0Z0X6C2X6T1C0I5Y8Q5V5W5C4V0'),\n",
       " (0, 'PRC_B2H0A0P7D1Z3B1X7S4A1D1W5F0C7Q5'),\n",
       " (0, 'PRC_F2S0L0I7T1N4K1J5C5J9D0G9U5G3K9'),\n",
       " (7, 'PRC_H2R0G0S6C0S1H1E1Z1C7V4P7I9Y3M7'),\n",
       " (19, 'PRC_J2M0A0A7B2L2J1J7X1R3A0A2N6A0Z8'),\n",
       " (33, 'PRC_V2R0Q1L1R3O0F1C6N0S1M1M6H1M0Y1'),\n",
       " (110, 'PRC_D2G0L0Q6D1I0G1F6F4Y4N3Z5X5D7J5'),\n",
       " (28, 'PRC_I2K0H0A6Z1E0N1G0T4M9D2J8G6Y6K8'),\n",
       " (0, 'PRC_V2G0N0V7H0C7J1F1B2Y1J3N9F0F2W7'),\n",
       " (10, 'PRC_H2O0H0S9Q2X2N1S3R3A2N4U4H0M2C3'),\n",
       " (8, 'PRC_N2U0W0B9O1W6C1U3M3O5I3A2A7D8N6'),\n",
       " (15, 'PRC_O2E0R0E6V0X1Z1Q1W2V5W0Y9X1Q1S2'),\n",
       " (0, 'PRC_D2W0U0Z6R2W2I1A7N5W1N3U5P2V8P8'),\n",
       " (2, 'PRC_W2O0K0Q6O2M3M1J4M1K2T0R9W1G1K7'),\n",
       " (18, 'PRC_W2L0W0U7P2Z9Z1R6V0H0D1W7S3C4M7'),\n",
       " (2, 'PRC_A2Y0J0N8J1J3X1I0D2M7W0M2W6N8F2'),\n",
       " (0, 'PRC_O2E0A0P9P2U8X1S4H0G4R0X5R4C6N7'),\n",
       " (5, 'PRC_Z2U0U0V7E0K6O1Y7U4I1X4G5L9W1Y2'),\n",
       " (3, 'PRC_Y2F0A1N1T1M9Y1E5K3C2H5G0F3Q4J9'),\n",
       " (7, 'PRC_D2Q0L0C6F3M0R0U9Z5W5H1Y9F0K1S5'),\n",
       " (0, 'PRC_H2C0X0W9Q2L9P0C9E0P6P1R2R4S5Q5'),\n",
       " (50, 'PRC_S2Q0W0O8P1D8E1A8O0F4Q3D8I3F6D2'),\n",
       " (1, 'PRC_B2K0T0N7A0D7J0I9V4P1E0E1D6G7T1'),\n",
       " (29, 'PRC_E2C0H0S9K0E8V1P3X4M4H5Y6O7Y0W7'),\n",
       " (1, 'PRC_B2Y0T0A9P1G7O1D5K4H6W4B7Z5N6P6'),\n",
       " (0, 'PRC_H2J0B0N7P2S4I1T7N1F0W4R2H6N3S2'),\n",
       " (0, 'PRC_F2C0O0T6B1Q9P1K7R5C1V3V5G7K0J4'),\n",
       " (6, 'PRC_E2R0P0W8R1M9X1R7N4E4B5O8M6X9N8'),\n",
       " (4, 'PRC_Z2P0S0X6B0M3H1I4H5H5D0P6J5E4C6'),\n",
       " (1, 'PRC_H2O0F0P9O1U5H1S0S2Q9O0M2Q4Y5G5'),\n",
       " (6, 'PRC_T2K0M0K9G0Z7V1J0J1R0I1J3X6N8P4'),\n",
       " (0, 'PRC_D2B0W0J6H1P1D1R4D3T3P4A9R1J6F2'),\n",
       " (3, 'PRC_K2U0P1I1K0O2O1U8A1X1U3N7G1S4C4'),\n",
       " (2, 'PRC_O2O0E0N6L1Q2T1R8H1M8H1N8S3U8T6'),\n",
       " (0, 'PRC_B2G0T0O7H1N7G1X8S0C5V0H6S7H0J6'),\n",
       " (3, 'PRC_O2B0S0T6C1N1A1G0W1G2R1U9V1H1K2'),\n",
       " (6, 'PRC_A2C0V0L9C1U8H0H9Z1P4W5Q1V5H9X8'),\n",
       " ...]"
      ]
     },
     "execution_count": 78,
     "metadata": {},
     "output_type": "execute_result"
    }
   ],
   "source": [
    "data = [tuple(x) for x in bill_cnt.to_numpy()]\n",
    "data"
   ]
  },
  {
   "cell_type": "code",
   "execution_count": 45,
   "metadata": {},
   "outputs": [],
   "source": [
    "data = [tuple(x) for x in bill_cnt.to_numpy()]\n",
    "\n",
    "sql = 'UPDATE bills_2021 SET 반대당발언횟수=? WHERE billId=?'\n",
    "cursor.executemany(sql, data)\n",
    "conn.commit()\n",
    "conn.close()"
   ]
  },
  {
   "cell_type": "code",
   "execution_count": 86,
   "metadata": {},
   "outputs": [],
   "source": [
    "import sqlite3\n",
    "import pandas as pd\n",
    "conn = sqlite3.connect(\"bills_preprocessed.db\", isolation_level=None)\n",
    "cursor = conn.cursor()\n",
    "\n",
    "cursor.execute(\"select * from bills\")\n",
    "\n",
    "rows = cursor.fetchall() \n",
    "cols = [column[0] for column in cursor.description]\n",
    "\n",
    "df = pd.DataFrame.from_records(data=rows, columns=cols)"
   ]
  },
  {
   "cell_type": "code",
   "execution_count": 87,
   "metadata": {},
   "outputs": [
    {
     "data": {
      "text/plain": [
       "Index(['법안코드', '법안명', 'billNo', 'passGubn', 'procStageCd', '접수일자',\n",
       "       'proposerKind', 'summary', 'generalResult', 'procDt', 'index', '공동발의자수',\n",
       "       '공동발의평균선수', '정당다양성', 'presentDt', 'COMMITTEE', 'PROC_RESULT', '제안자',\n",
       "       'PUBL_PROPOSER', 'COMMITTEE_ID', 'polyNm', '당선횟수', '선출형태', '처리구분',\n",
       "       '특별위원회', '환경노동위원회', '여성가족위원회', '법제사법위원회', '농림축산식품해양수산위원회', '기획재정위원회',\n",
       "       '국방위원회', '과학기술정보방송통신위원회', '산업통상자원중소벤처기업위원회', '국토교통위원회', '행정안전위원회',\n",
       "       '보건복지위원회', '문화체육관광위원회', '교육위원회', '외교통일위원회', '정무위원회', '국회운영위원회', 'party',\n",
       "       'num_seats', '입법형태', 'summary_re', '국회', '정당/선거', '안보', '사법', '행정',\n",
       "       '재정', '중소기업', '에너지', '부동산', '금융', '자동차', '건설/기계/조선', '유통/무역', 'IT',\n",
       "       '농축산', '복지', '의료/보건', '도시/교통', '교육', '환경', '노동', '치안/안전', '가족', '여성',\n",
       "       '예체능', '상임위 상정 여부', '반대당발언횟수'],\n",
       "      dtype='object')"
      ]
     },
     "execution_count": 87,
     "metadata": {},
     "output_type": "execute_result"
    }
   ],
   "source": [
    "df.columns"
   ]
  },
  {
   "cell_type": "code",
   "execution_count": 60,
   "metadata": {},
   "outputs": [],
   "source": [
    "a = df[df['generalResult']=='대안반영폐기']['passGubn']"
   ]
  },
  {
   "cell_type": "code",
   "execution_count": 67,
   "metadata": {},
   "outputs": [
    {
     "data": {
      "text/plain": [
       "{None, '계류의안', '대안반영폐기', '수정가결', '원안가결', '처리의안', '철회'}"
      ]
     },
     "execution_count": 67,
     "metadata": {},
     "output_type": "execute_result"
    }
   ],
   "source": [
    "set(df['passGubn'])"
   ]
  },
  {
   "cell_type": "code",
   "execution_count": 61,
   "metadata": {},
   "outputs": [],
   "source": [
    "a = a.reset_index()"
   ]
  },
  {
   "cell_type": "code",
   "execution_count": 65,
   "metadata": {},
   "outputs": [
    {
     "data": {
      "text/plain": [
       "{'대안반영폐기', '처리의안'}"
      ]
     },
     "execution_count": 65,
     "metadata": {},
     "output_type": "execute_result"
    }
   ],
   "source": [
    "set(a['passGubn'])"
   ]
  },
  {
   "cell_type": "code",
   "execution_count": 66,
   "metadata": {},
   "outputs": [
    {
     "data": {
      "text/html": [
       "<div>\n",
       "<style scoped>\n",
       "    .dataframe tbody tr th:only-of-type {\n",
       "        vertical-align: middle;\n",
       "    }\n",
       "\n",
       "    .dataframe tbody tr th {\n",
       "        vertical-align: top;\n",
       "    }\n",
       "\n",
       "    .dataframe thead th {\n",
       "        text-align: right;\n",
       "    }\n",
       "</style>\n",
       "<table border=\"1\" class=\"dataframe\">\n",
       "  <thead>\n",
       "    <tr style=\"text-align: right;\">\n",
       "      <th></th>\n",
       "      <th>index</th>\n",
       "      <th>passGubn</th>\n",
       "    </tr>\n",
       "  </thead>\n",
       "  <tbody>\n",
       "    <tr>\n",
       "      <th>836</th>\n",
       "      <td>4926</td>\n",
       "      <td>대안반영폐기</td>\n",
       "    </tr>\n",
       "    <tr>\n",
       "      <th>837</th>\n",
       "      <td>4970</td>\n",
       "      <td>대안반영폐기</td>\n",
       "    </tr>\n",
       "    <tr>\n",
       "      <th>838</th>\n",
       "      <td>5026</td>\n",
       "      <td>대안반영폐기</td>\n",
       "    </tr>\n",
       "    <tr>\n",
       "      <th>839</th>\n",
       "      <td>5151</td>\n",
       "      <td>대안반영폐기</td>\n",
       "    </tr>\n",
       "    <tr>\n",
       "      <th>840</th>\n",
       "      <td>5282</td>\n",
       "      <td>대안반영폐기</td>\n",
       "    </tr>\n",
       "    <tr>\n",
       "      <th>...</th>\n",
       "      <td>...</td>\n",
       "      <td>...</td>\n",
       "    </tr>\n",
       "    <tr>\n",
       "      <th>895</th>\n",
       "      <td>5924</td>\n",
       "      <td>대안반영폐기</td>\n",
       "    </tr>\n",
       "    <tr>\n",
       "      <th>896</th>\n",
       "      <td>5925</td>\n",
       "      <td>대안반영폐기</td>\n",
       "    </tr>\n",
       "    <tr>\n",
       "      <th>897</th>\n",
       "      <td>5926</td>\n",
       "      <td>대안반영폐기</td>\n",
       "    </tr>\n",
       "    <tr>\n",
       "      <th>898</th>\n",
       "      <td>5950</td>\n",
       "      <td>대안반영폐기</td>\n",
       "    </tr>\n",
       "    <tr>\n",
       "      <th>899</th>\n",
       "      <td>5954</td>\n",
       "      <td>대안반영폐기</td>\n",
       "    </tr>\n",
       "  </tbody>\n",
       "</table>\n",
       "<p>64 rows × 2 columns</p>\n",
       "</div>"
      ],
      "text/plain": [
       "     index passGubn\n",
       "836   4926   대안반영폐기\n",
       "837   4970   대안반영폐기\n",
       "838   5026   대안반영폐기\n",
       "839   5151   대안반영폐기\n",
       "840   5282   대안반영폐기\n",
       "..     ...      ...\n",
       "895   5924   대안반영폐기\n",
       "896   5925   대안반영폐기\n",
       "897   5926   대안반영폐기\n",
       "898   5950   대안반영폐기\n",
       "899   5954   대안반영폐기\n",
       "\n",
       "[64 rows x 2 columns]"
      ]
     },
     "execution_count": 66,
     "metadata": {},
     "output_type": "execute_result"
    }
   ],
   "source": [
    "a[a['passGubn']=='대안반영폐기']"
   ]
  },
  {
   "cell_type": "code",
   "execution_count": 19,
   "metadata": {},
   "outputs": [
    {
     "data": {
      "text/plain": [
       "{'기타', '위원장', '의원', '의장', '정부'}"
      ]
     },
     "execution_count": 19,
     "metadata": {},
     "output_type": "execute_result"
    }
   ],
   "source": [
    "set(df['proposerKind'])"
   ]
  },
  {
   "cell_type": "code",
   "execution_count": 15,
   "metadata": {},
   "outputs": [],
   "source": [
    "set(df['proposerKind'])\n",
    "\n",
    "for i in range(len(df)):\n",
    "    if df.loc[i,'proposerKind'] == '공포' or df.loc[i,'proposerKind'] == '대안반영폐기' or df.loc[i,'proposerKind'] == '본회의의결' or df.loc[i,'proposerKind'] == '소관위심사' or df.loc[i,'proposerKind'] == '소관위접수' or df.loc[i, 'proposerKind'] == '접수' or df.loc[i, 'proposerKind'] == '철회':\n",
    "        result = df.loc[i, 'generalResult'] \n",
    "        kind = df.loc[i,'proposerKind']\n",
    "        df.loc[i, 'generalResult'] = kind\n",
    "        df.loc[i,'proposerKind'] = result"
   ]
  },
  {
   "cell_type": "code",
   "execution_count": 16,
   "metadata": {},
   "outputs": [],
   "source": [
    "data = df[['generalResult', '법안코드']]\n",
    "data = [tuple(x) for x in data.to_numpy()]\n",
    "\n",
    "conn = sqlite3.connect(\"bills_preprocessed.db\", isolation_level=None)\n",
    "cursor = conn.cursor()\n",
    "sql = 'UPDATE bills SET generalResult=? WHERE 법안코드=?'\n",
    "cursor.executemany(sql, data)\n",
    "conn.commit()\n",
    "conn.close()"
   ]
  },
  {
   "cell_type": "code",
   "execution_count": 17,
   "metadata": {},
   "outputs": [],
   "source": [
    "data = df[['proposerKind', '법안코드']]\n",
    "data = [tuple(x) for x in data.to_numpy()]\n",
    "\n",
    "conn = sqlite3.connect(\"bills_preprocessed.db\", isolation_level=None)\n",
    "cursor = conn.cursor()\n",
    "sql = 'UPDATE bills SET proposerKind=? WHERE 법안코드=?'\n",
    "cursor.executemany(sql, data)\n",
    "conn.commit()\n",
    "conn.close()"
   ]
  },
  {
   "cell_type": "code",
   "execution_count": 20,
   "metadata": {},
   "outputs": [],
   "source": [
    "for i in range(len(df)):\n",
    "    if df.loc[i, 'proposerKind'] == '위원장':\n",
    "        df.loc[i, '제안자'] = '위원장'\n",
    "        df.loc[i, 'party'] = 4\n",
    "        \n",
    "data = df[['제안자', '법안코드']]\n",
    "data = [tuple(x) for x in data.to_numpy()]\n",
    "\n",
    "conn = sqlite3.connect(\"bills_preprocessed.db\", isolation_level=None)\n",
    "cursor = conn.cursor()\n",
    "sql = 'UPDATE bills SET 제안자=? WHERE 법안코드=?'\n",
    "cursor.executemany(sql, data)\n",
    "conn.commit()\n",
    "conn.close()"
   ]
  },
  {
   "cell_type": "code",
   "execution_count": 21,
   "metadata": {},
   "outputs": [],
   "source": [
    "data = df[['party', '법안코드']]\n",
    "data = [tuple(x) for x in data.to_numpy()]\n",
    "\n",
    "conn = sqlite3.connect(\"bills_preprocessed.db\", isolation_level=None)\n",
    "cursor = conn.cursor()\n",
    "sql = 'UPDATE bills SET party=? WHERE 법안코드=?'\n",
    "cursor.executemany(sql, data)\n",
    "conn.commit()\n",
    "conn.close()"
   ]
  },
  {
   "cell_type": "code",
   "execution_count": 22,
   "metadata": {},
   "outputs": [],
   "source": [
    "test = df[df['proposerKind']=='위원장']"
   ]
  },
  {
   "cell_type": "code",
   "execution_count": 24,
   "metadata": {},
   "outputs": [
    {
     "data": {
      "text/plain": [
       "{4}"
      ]
     },
     "execution_count": 24,
     "metadata": {},
     "output_type": "execute_result"
    }
   ],
   "source": [
    "set(test['party'])"
   ]
  },
  {
   "cell_type": "code",
   "execution_count": 37,
   "metadata": {},
   "outputs": [],
   "source": [
    "bill_df = pd.merge(df, bill_cnt, how='left', on='법안코드')"
   ]
  },
  {
   "cell_type": "code",
   "execution_count": 38,
   "metadata": {},
   "outputs": [],
   "source": [
    "bill_df.to_csv('21th_bill_preprocessed.csv', encoding='utf-8-sig') #csv파일로 저장"
   ]
  },
  {
   "cell_type": "code",
   "execution_count": null,
   "metadata": {},
   "outputs": [],
   "source": []
  },
  {
   "cell_type": "code",
   "execution_count": 1,
   "metadata": {},
   "outputs": [],
   "source": [
    "import sqlite3\n",
    "import pandas as pd\n",
    "conn = sqlite3.connect(\"bills.db\")\n",
    "df = pd.read_sql(\"select * from bills_2021 where proposeDt >= '2021-01-01'\", con = conn)"
   ]
  },
  {
   "cell_type": "code",
   "execution_count": 3,
   "metadata": {},
   "outputs": [
    {
     "data": {
      "text/plain": [
       "Index(['level_0', 'billId', 'billName', 'billNo', 'passGubn', 'procStageCd',\n",
       "       'proposeDt', 'proposerKind', 'summary', 'generalResult', 'procDt',\n",
       "       'index', '공동발의자수', '공동발의평균선수', 'diversity', 'presentDt', 'COMMITTEE',\n",
       "       'PROC_RESULT', 'RST_PROPOSER', 'PUBL_PROPOSER', 'COMMITTEE_ID',\n",
       "       'polyNm', '당선횟수', '선출형태'],\n",
       "      dtype='object')"
      ]
     },
     "execution_count": 3,
     "metadata": {},
     "output_type": "execute_result"
    }
   ],
   "source": [
    "df.columns"
   ]
  },
  {
   "cell_type": "code",
   "execution_count": 4,
   "metadata": {},
   "outputs": [
    {
     "data": {
      "text/html": [
       "<div>\n",
       "<style scoped>\n",
       "    .dataframe tbody tr th:only-of-type {\n",
       "        vertical-align: middle;\n",
       "    }\n",
       "\n",
       "    .dataframe tbody tr th {\n",
       "        vertical-align: top;\n",
       "    }\n",
       "\n",
       "    .dataframe thead th {\n",
       "        text-align: right;\n",
       "    }\n",
       "</style>\n",
       "<table border=\"1\" class=\"dataframe\">\n",
       "  <thead>\n",
       "    <tr style=\"text-align: right;\">\n",
       "      <th></th>\n",
       "      <th>billId</th>\n",
       "      <th>billName</th>\n",
       "      <th>presentDt</th>\n",
       "    </tr>\n",
       "  </thead>\n",
       "  <tbody>\n",
       "    <tr>\n",
       "      <th>0</th>\n",
       "      <td>PRC_G2K1E0H1K0X5L1V1X1O3E1K0X3W7Z0</td>\n",
       "      <td>전통시장 및 상점가 육성을 위한 특별법 일부개정법률안(이동주의원등18인)</td>\n",
       "      <td>None</td>\n",
       "    </tr>\n",
       "    <tr>\n",
       "      <th>1</th>\n",
       "      <td>PRC_V2H1J0K1U0M4V1W8A2A4F1Y5A8D3E0</td>\n",
       "      <td>코로나19 감염병 피해 소상공인등 구제에 관한 특별법안(이동주의원등22인)</td>\n",
       "      <td>None</td>\n",
       "    </tr>\n",
       "    <tr>\n",
       "      <th>2</th>\n",
       "      <td>PRC_L2O1Q0C1L0F4F1R5O2O6T1N1S9D7A6</td>\n",
       "      <td>소상공인기본법 일부개정법률안(이동주의원등17인)</td>\n",
       "      <td>None</td>\n",
       "    </tr>\n",
       "    <tr>\n",
       "      <th>3</th>\n",
       "      <td>PRC_F2O1J0G1D1B1I1K7K5D0A3K3Q6R8G4</td>\n",
       "      <td>입양특례법 일부개정법률안(양경숙의원 등 10인)</td>\n",
       "      <td>None</td>\n",
       "    </tr>\n",
       "    <tr>\n",
       "      <th>4</th>\n",
       "      <td>PRC_W2P1T0Y1F1L1W1J7C4Y9G4R0W3Q1A4</td>\n",
       "      <td>아동복지법 일부개정법률안(양경숙의원 등 10인)</td>\n",
       "      <td>None</td>\n",
       "    </tr>\n",
       "    <tr>\n",
       "      <th>...</th>\n",
       "      <td>...</td>\n",
       "      <td>...</td>\n",
       "      <td>...</td>\n",
       "    </tr>\n",
       "    <tr>\n",
       "      <th>180</th>\n",
       "      <td>PRC_D2P1I0I1I0B4V1E1N5S4O3P2E0D2T8</td>\n",
       "      <td>북한이탈주민의 보호 및 정착지원에 관한 법률 일부개정법률안(지성호의원 등 10인)</td>\n",
       "      <td>None</td>\n",
       "    </tr>\n",
       "    <tr>\n",
       "      <th>181</th>\n",
       "      <td>PRC_J2Z1V0Q1W0G4C1U1K2A8T2H9P8Y5R2</td>\n",
       "      <td>기부금품의 모집 및 사용에 관한 법률 일부개정법률안(한정애의원 등 14인)</td>\n",
       "      <td>None</td>\n",
       "    </tr>\n",
       "    <tr>\n",
       "      <th>182</th>\n",
       "      <td>PRC_B2F1X0I1H0L4B1Q1R2W0E5T6K6A8R0</td>\n",
       "      <td>공직선거법 일부개정법률안(고용진의원 등 14인)</td>\n",
       "      <td>None</td>\n",
       "    </tr>\n",
       "    <tr>\n",
       "      <th>183</th>\n",
       "      <td>PRC_B2O0G1W1G2U6V1M2J5E4Z3N4C4B2P0</td>\n",
       "      <td>주민등록법 일부개정법률안(이영의원등11인)</td>\n",
       "      <td>None</td>\n",
       "    </tr>\n",
       "    <tr>\n",
       "      <th>184</th>\n",
       "      <td>PRC_T2J1P0X1I0A4G1W0M0K9O2N2R0L9X5</td>\n",
       "      <td>산업안전보건법 일부개정법률안(임오경의원 등 11인)</td>\n",
       "      <td>None</td>\n",
       "    </tr>\n",
       "  </tbody>\n",
       "</table>\n",
       "<p>185 rows × 3 columns</p>\n",
       "</div>"
      ],
      "text/plain": [
       "                                 billId  \\\n",
       "0    PRC_G2K1E0H1K0X5L1V1X1O3E1K0X3W7Z0   \n",
       "1    PRC_V2H1J0K1U0M4V1W8A2A4F1Y5A8D3E0   \n",
       "2    PRC_L2O1Q0C1L0F4F1R5O2O6T1N1S9D7A6   \n",
       "3    PRC_F2O1J0G1D1B1I1K7K5D0A3K3Q6R8G4   \n",
       "4    PRC_W2P1T0Y1F1L1W1J7C4Y9G4R0W3Q1A4   \n",
       "..                                  ...   \n",
       "180  PRC_D2P1I0I1I0B4V1E1N5S4O3P2E0D2T8   \n",
       "181  PRC_J2Z1V0Q1W0G4C1U1K2A8T2H9P8Y5R2   \n",
       "182  PRC_B2F1X0I1H0L4B1Q1R2W0E5T6K6A8R0   \n",
       "183  PRC_B2O0G1W1G2U6V1M2J5E4Z3N4C4B2P0   \n",
       "184  PRC_T2J1P0X1I0A4G1W0M0K9O2N2R0L9X5   \n",
       "\n",
       "                                          billName presentDt  \n",
       "0         전통시장 및 상점가 육성을 위한 특별법 일부개정법률안(이동주의원등18인)      None  \n",
       "1        코로나19 감염병 피해 소상공인등 구제에 관한 특별법안(이동주의원등22인)      None  \n",
       "2                       소상공인기본법 일부개정법률안(이동주의원등17인)      None  \n",
       "3                       입양특례법 일부개정법률안(양경숙의원 등 10인)      None  \n",
       "4                       아동복지법 일부개정법률안(양경숙의원 등 10인)      None  \n",
       "..                                             ...       ...  \n",
       "180  북한이탈주민의 보호 및 정착지원에 관한 법률 일부개정법률안(지성호의원 등 10인)      None  \n",
       "181      기부금품의 모집 및 사용에 관한 법률 일부개정법률안(한정애의원 등 14인)      None  \n",
       "182                     공직선거법 일부개정법률안(고용진의원 등 14인)      None  \n",
       "183                        주민등록법 일부개정법률안(이영의원등11인)      None  \n",
       "184                   산업안전보건법 일부개정법률안(임오경의원 등 11인)      None  \n",
       "\n",
       "[185 rows x 3 columns]"
      ]
     },
     "execution_count": 4,
     "metadata": {},
     "output_type": "execute_result"
    }
   ],
   "source": [
    "df[['billId', 'billName', 'presentDt']]"
   ]
  },
  {
   "cell_type": "code",
   "execution_count": 6,
   "metadata": {},
   "outputs": [
    {
     "data": {
      "text/plain": [
       "{'2020-12-03', '2021-01-08', None, 'None'}"
      ]
     },
     "execution_count": 6,
     "metadata": {},
     "output_type": "execute_result"
    }
   ],
   "source": [
    "set(df['presentDt'])"
   ]
  },
  {
   "cell_type": "code",
   "execution_count": 11,
   "metadata": {},
   "outputs": [
    {
     "ename": "TypeError",
     "evalue": "can only concatenate str (not \"type\") to str",
     "output_type": "error",
     "traceback": [
      "\u001b[1;31m---------------------------------------------------------------------------\u001b[0m",
      "\u001b[1;31mTypeError\u001b[0m                                 Traceback (most recent call last)",
      "\u001b[1;32m<ipython-input-11-6ad4b3372688>\u001b[0m in \u001b[0;36m<module>\u001b[1;34m\u001b[0m\n\u001b[0;32m      1\u001b[0m \u001b[1;32mfor\u001b[0m \u001b[0mi\u001b[0m \u001b[1;32min\u001b[0m \u001b[0mrange\u001b[0m\u001b[1;33m(\u001b[0m\u001b[0mlen\u001b[0m\u001b[1;33m(\u001b[0m\u001b[0mdf\u001b[0m\u001b[1;33m)\u001b[0m\u001b[1;33m)\u001b[0m\u001b[1;33m:\u001b[0m\u001b[1;33m\u001b[0m\u001b[1;33m\u001b[0m\u001b[0m\n\u001b[0;32m      2\u001b[0m     \u001b[1;32mif\u001b[0m \u001b[0mdf\u001b[0m\u001b[1;33m.\u001b[0m\u001b[0mloc\u001b[0m\u001b[1;33m[\u001b[0m\u001b[0mi\u001b[0m\u001b[1;33m,\u001b[0m \u001b[1;34m'presentDt'\u001b[0m\u001b[1;33m]\u001b[0m \u001b[1;33m!=\u001b[0m \u001b[1;32mNone\u001b[0m \u001b[1;32mor\u001b[0m \u001b[0mdf\u001b[0m\u001b[1;33m.\u001b[0m\u001b[0mloc\u001b[0m\u001b[1;33m[\u001b[0m\u001b[0mi\u001b[0m\u001b[1;33m,\u001b[0m \u001b[1;34m'presentDt'\u001b[0m\u001b[1;33m]\u001b[0m \u001b[1;33m!=\u001b[0m \u001b[1;34m'None'\u001b[0m\u001b[1;33m:\u001b[0m\u001b[1;33m\u001b[0m\u001b[1;33m\u001b[0m\u001b[0m\n\u001b[1;32m----> 3\u001b[1;33m         \u001b[0mprint\u001b[0m\u001b[1;33m(\u001b[0m\u001b[0mdf\u001b[0m\u001b[1;33m.\u001b[0m\u001b[0mloc\u001b[0m\u001b[1;33m[\u001b[0m\u001b[0mi\u001b[0m\u001b[1;33m,\u001b[0m \u001b[1;34m'billId'\u001b[0m\u001b[1;33m]\u001b[0m \u001b[1;33m+\u001b[0m \u001b[1;34m\":\"\u001b[0m \u001b[1;33m+\u001b[0m \u001b[0mdf\u001b[0m\u001b[1;33m.\u001b[0m\u001b[0mloc\u001b[0m\u001b[1;33m[\u001b[0m\u001b[0mi\u001b[0m\u001b[1;33m,\u001b[0m \u001b[1;34m'billName'\u001b[0m\u001b[1;33m]\u001b[0m \u001b[1;33m+\u001b[0m \u001b[1;34m\":\"\u001b[0m\u001b[1;33m+\u001b[0m  \u001b[0mdf\u001b[0m\u001b[1;33m.\u001b[0m\u001b[0mloc\u001b[0m\u001b[1;33m[\u001b[0m\u001b[0mi\u001b[0m\u001b[1;33m,\u001b[0m \u001b[1;34m'presentDt'\u001b[0m\u001b[1;33m]\u001b[0m \u001b[1;33m+\u001b[0m \u001b[0mtype\u001b[0m\u001b[1;33m(\u001b[0m\u001b[0mdf\u001b[0m\u001b[1;33m.\u001b[0m\u001b[0mloc\u001b[0m\u001b[1;33m[\u001b[0m\u001b[0mi\u001b[0m\u001b[1;33m,\u001b[0m \u001b[1;34m'presentDt'\u001b[0m\u001b[1;33m]\u001b[0m\u001b[1;33m)\u001b[0m\u001b[1;33m)\u001b[0m\u001b[1;33m\u001b[0m\u001b[1;33m\u001b[0m\u001b[0m\n\u001b[0m",
      "\u001b[1;31mTypeError\u001b[0m: can only concatenate str (not \"type\") to str"
     ]
    }
   ],
   "source": [
    "for i in range(len(df)):\n",
    "    if df.loc[i, 'presentDt'] != None or df.loc[i, 'presentDt'] != 'None':\n",
    "        print(df.loc[i, 'billId'] + \":\" + df.loc[i, 'billName']  type(df.loc[i, 'presentDt'])) "
   ]
  },
  {
   "cell_type": "code",
   "execution_count": 50,
   "metadata": {},
   "outputs": [],
   "source": [
    "committee_set.remove(None)"
   ]
  },
  {
   "cell_type": "code",
   "execution_count": 49,
   "metadata": {},
   "outputs": [
    {
     "data": {
      "text/plain": [
       "['기획재정위원회',\n",
       " '보건복지위원회',\n",
       " '환경노동위원회',\n",
       " '행정안전위원회',\n",
       " None,\n",
       " '국토교통위원회',\n",
       " '농림축산식품해양수산위원회',\n",
       " '교육위원회',\n",
       " '정무위원회',\n",
       " '국회운영위원회',\n",
       " '법제사법위원회',\n",
       " '국방위원회',\n",
       " '문화체육관광위원회',\n",
       " '외교통일위원회',\n",
       " '산업통상자원중소벤처기업위원회',\n",
       " '과학기술정보방송통신위원회',\n",
       " '여성가족위원회']"
      ]
     },
     "execution_count": 49,
     "metadata": {},
     "output_type": "execute_result"
    }
   ],
   "source": [
    "committee_set = list(set(df['COMMITTEE']))\n",
    "committee_set"
   ]
  },
  {
   "cell_type": "code",
   "execution_count": 51,
   "metadata": {},
   "outputs": [
    {
     "data": {
      "text/plain": [
       "['기획재정위원회',\n",
       " '보건복지위원회',\n",
       " '환경노동위원회',\n",
       " '행정안전위원회',\n",
       " '국토교통위원회',\n",
       " '농림축산식품해양수산위원회',\n",
       " '교육위원회',\n",
       " '정무위원회',\n",
       " '국회운영위원회',\n",
       " '법제사법위원회',\n",
       " '국방위원회',\n",
       " '문화체육관광위원회',\n",
       " '외교통일위원회',\n",
       " '산업통상자원중소벤처기업위원회',\n",
       " '과학기술정보방송통신위원회',\n",
       " '여성가족위원회']"
      ]
     },
     "execution_count": 51,
     "metadata": {},
     "output_type": "execute_result"
    }
   ],
   "source": [
    "committee_set"
   ]
  },
  {
   "cell_type": "code",
   "execution_count": 45,
   "metadata": {},
   "outputs": [
    {
     "data": {
      "text/plain": [
       "{'2021-01-04',\n",
       " '2021-01-05',\n",
       " '2021-01-06',\n",
       " '2021-01-07',\n",
       " '2021-01-08',\n",
       " '2021-01-11',\n",
       " '2021-01-12'}"
      ]
     },
     "execution_count": 45,
     "metadata": {},
     "output_type": "execute_result"
    }
   ],
   "source": [
    "set(df['proposeDt'])"
   ]
  },
  {
   "cell_type": "code",
   "execution_count": 6,
   "metadata": {},
   "outputs": [
    {
     "data": {
      "text/plain": [
       "{'공포',\n",
       " '대안반영폐기',\n",
       " '본회의부의안건',\n",
       " '본회의불부의',\n",
       " '본회의의결',\n",
       " '소관위심사',\n",
       " '소관위심사보고',\n",
       " '소관위접수',\n",
       " '접수',\n",
       " '정부이송',\n",
       " '철회',\n",
       " '체계자구심사',\n",
       " '폐기'}"
      ]
     },
     "execution_count": 6,
     "metadata": {},
     "output_type": "execute_result"
    }
   ],
   "source": [
    "set(df['procStageCd'])"
   ]
  },
  {
   "cell_type": "code",
   "execution_count": 8,
   "metadata": {},
   "outputs": [
    {
     "data": {
      "text/plain": [
       "{None, '대안반영폐기', '부결', '수정가결', '원안가결', '철회', '폐기'}"
      ]
     },
     "execution_count": 8,
     "metadata": {},
     "output_type": "execute_result"
    }
   ],
   "source": [
    "set(df['generalResult'])"
   ]
  },
  {
   "cell_type": "code",
   "execution_count": 24,
   "metadata": {},
   "outputs": [
    {
     "data": {
      "text/plain": [
       "str"
      ]
     },
     "execution_count": 24,
     "metadata": {},
     "output_type": "execute_result"
    }
   ],
   "source": [
    "type(df.loc[4000, 'presentDt'])"
   ]
  },
  {
   "cell_type": "code",
   "execution_count": 46,
   "metadata": {},
   "outputs": [
    {
     "data": {
      "text/plain": [
       "Index(['index', 'billId', 'billName', 'billNo', 'passGubn', 'procStageCd',\n",
       "       'proposeDt', 'proposerKind', 'summary', 'generalResult', 'procDt',\n",
       "       '공동발의자수', 'diversity', 'presentDt', 'COMMITTEE', 'PROC_RESULT',\n",
       "       'RST_PROPOSER', 'PUBL_PROPOSER', 'COMMITTEE_ID', 'polyNm'],\n",
       "      dtype='object')"
      ]
     },
     "execution_count": 46,
     "metadata": {},
     "output_type": "execute_result"
    }
   ],
   "source": [
    "df.columns"
   ]
  },
  {
   "cell_type": "code",
   "execution_count": 2,
   "metadata": {},
   "outputs": [],
   "source": [
    "import pandas as pd\n",
    "import sqlite3\n",
    "conn = sqlite3.connect(\"bills_preprocessed.db\")\n",
    "df = pd.read_sql(\"select * from bills\", con = conn)"
   ]
  },
  {
   "cell_type": "code",
   "execution_count": 5,
   "metadata": {},
   "outputs": [
    {
     "data": {
      "text/plain": [
       "Index(['level_0', '법안코드', '법안명', 'billNo', 'passGubn', 'procStageCd', '접수일자',\n",
       "       'proposerKind', 'summary', 'generalResult', 'procDt', 'index', '공동발의자수',\n",
       "       '공동발의평균선수', '정당다양성', 'presentDt', 'COMMITTEE', 'PROC_RESULT', '제안자',\n",
       "       'PUBL_PROPOSER', 'COMMITTEE_ID', 'polyNm', '당선횟수', '선출형태', '처리구분',\n",
       "       '특별위원회', '환경노동위원회', '여성가족위원회', '법제사법위원회', '농림축산식품해양수산위원회', '기획재정위원회',\n",
       "       '국방위원회', '과학기술정보방송통신위원회', '산업통상자원중소벤처기업위원회', '국토교통위원회', '행정안전위원회',\n",
       "       '보건복지위원회', '문화체육관광위원회', '교육위원회', '외교통일위원회', '정무위원회', '국회운영위원회', 'party',\n",
       "       'num_seats', '입법형태', 'summary_re', '국회', '정당/선거', '안보', '사법', '행정',\n",
       "       '재정', '중소기업', '에너지', '부동산', '금융', '자동차', '건설/기계/조선', '유통/무역', 'IT',\n",
       "       '농축산', '복지', '의료/보건', '도시/교통', '교육', '환경', '노동', '치안/안전', '가족', '여성',\n",
       "       '예체능', '상임위 상정 여부'],\n",
       "      dtype='object')"
      ]
     },
     "execution_count": 5,
     "metadata": {},
     "output_type": "execute_result"
    }
   ],
   "source": [
    "df.columns"
   ]
  },
  {
   "cell_type": "code",
   "execution_count": 4,
   "metadata": {},
   "outputs": [
    {
     "data": {
      "text/plain": [
       "{'기타', '위원장', '의원', '의장', '정부'}"
      ]
     },
     "execution_count": 4,
     "metadata": {},
     "output_type": "execute_result"
    }
   ],
   "source": [
    "set(df['proposerKind'])"
   ]
  },
  {
   "cell_type": "code",
   "execution_count": null,
   "metadata": {},
   "outputs": [],
   "source": [
    "df[df['propose']]"
   ]
  },
  {
   "cell_type": "code",
   "execution_count": null,
   "metadata": {},
   "outputs": [],
   "source": [
    "for i in range(len(df)):\n",
    "    if df.loc[i, 'proposerKind'] == '위원장':\n",
    "        df.loc[i, 'party'] = 4\n",
    "    elif df.loc[i, 'proposerKind'] == '정부':\n",
    "        df.loc[i, 'party'] = 5\n"
   ]
  },
  {
   "cell_type": "code",
   "execution_count": null,
   "metadata": {},
   "outputs": [],
   "source": [
    "for i in range(len(df)):\n",
    "    if df.loc[i, 'billName'].__contains__('전부개정법률안'):\n",
    "        df.loc[i, '입법형태'] = '전부개정'\n",
    "    elif df.loc[i, 'billName'].__contains__('일부개정법률안'):\n",
    "        df.loc[i, '입법형태'] = '일부개정법률안'\n",
    "    else:\n",
    "        df.loc[i, '입법형태'] = '제정'"
   ]
  },
  {
   "cell_type": "code",
   "execution_count": 12,
   "metadata": {},
   "outputs": [],
   "source": [
    "import requests\n",
    "mykey = \"f9191bcb5fc3472890a5e84347ae5ebb\"\n",
    "url3 = f\"https://open.assembly.go.kr/portal/openapi/nwvrqwxyaytdsfvhu?KEY={mykey}&Type=json&pSize=300\"\n",
    "req = requests.get(url3).json()\n",
    "congressman = pd.DataFrame(req['nwvrqwxyaytdsfvhu'][1]['row'])\n",
    "\n",
    "for i in range(len(congressman)):\n",
    "    congressman.loc[i, '당선횟수'] = len(congressman.loc[i, 'UNITS'].split(', '))"
   ]
  },
  {
   "cell_type": "code",
   "execution_count": 14,
   "metadata": {},
   "outputs": [
    {
     "data": {
      "text/plain": [
       "0       지역구\n",
       "1       지역구\n",
       "2       지역구\n",
       "3       지역구\n",
       "4      비례대표\n",
       "       ... \n",
       "295     지역구\n",
       "296     지역구\n",
       "297     지역구\n",
       "298     지역구\n",
       "299     지역구\n",
       "Name: ELECT_GBN_NM, Length: 300, dtype: object"
      ]
     },
     "execution_count": 14,
     "metadata": {},
     "output_type": "execute_result"
    }
   ],
   "source": [
    "congressman['ELECT_GBN_NM']"
   ]
  },
  {
   "cell_type": "code",
   "execution_count": 70,
   "metadata": {},
   "outputs": [],
   "source": [
    "a = '?,?,?,?,?,?,?,?,?,?,?,?,?,?,?,?,?,?,?,?,?,?,?,?,?,?,?,?,?,?,?,?,?,?,?,?,?,?,?,?,?,?,?,?,?,?,?,?,?,?,?,?,?,?,?,?,?,?,?,?,?,?,?,?,?,?,?,?,?,?,?'"
   ]
  },
  {
   "cell_type": "code",
   "execution_count": 73,
   "metadata": {},
   "outputs": [
    {
     "data": {
      "text/plain": [
       "71"
      ]
     },
     "execution_count": 73,
     "metadata": {},
     "output_type": "execute_result"
    }
   ],
   "source": [
    "b = a.split(',')\n",
    "len(b)"
   ]
  },
  {
   "cell_type": "code",
   "execution_count": 85,
   "metadata": {},
   "outputs": [
    {
     "data": {
      "text/plain": [
       "71"
      ]
     },
     "execution_count": 85,
     "metadata": {},
     "output_type": "execute_result"
    }
   ],
   "source": [
    "a = ['법안코드', '법안명', 'billNo', 'passGubn', 'procStageCd', '접수일자',\n",
    "       'proposerKind', 'summary', 'generalResult', 'procDt', 'index', '공동발의자수',\n",
    "       '공동발의평균선수', '정당다양성', 'presentDt', 'COMMITTEE', 'PROC_RESULT', '제안자',\n",
    "       'PUBL_PROPOSER', 'COMMITTEE_ID', 'polyNm', '당선횟수', '선출형태', '처리구분',\n",
    "       '특별위원회', '환경노동위원회', '여성가족위원회', '법제사법위원회', '농림축산식품해양수산위원회', '기획재정위원회',\n",
    "       '국방위원회', '과학기술정보방송통신위원회', '산업통상자원중소벤처기업위원회', '국토교통위원회', '행정안전위원회',\n",
    "       '보건복지위원회', '문화체육관광위원회', '교육위원회', '외교통일위원회', '정무위원회', '국회운영위원회', 'party',\n",
    "       'num_seats', '입법형태', 'summary_re', '국회', '정당/선거', '안보', '사법', '행정',\n",
    "       '재정', '중소기업', '에너지', '부동산', '금융', '자동차', '건설/기계/조선', '유통/무역', 'IT',\n",
    "       '농축산', '복지', '의료/보건', '도시/교통', '교육', '환경', '노동', '치안/안전', '가족', '여성',\n",
    "       '예체능', '상임위 상정 여부']\n",
    "\n",
    "len(a)"
   ]
  },
  {
   "cell_type": "code",
   "execution_count": 82,
   "metadata": {},
   "outputs": [
    {
     "data": {
      "text/plain": [
       "'?'"
      ]
     },
     "execution_count": 82,
     "metadata": {},
     "output_type": "execute_result"
    }
   ],
   "source": [
    "b[70]"
   ]
  }
 ],
 "metadata": {
  "kernelspec": {
   "display_name": "Python 3",
   "language": "python",
   "name": "python3"
  },
  "language_info": {
   "codemirror_mode": {
    "name": "ipython",
    "version": 3
   },
   "file_extension": ".py",
   "mimetype": "text/x-python",
   "name": "python",
   "nbconvert_exporter": "python",
   "pygments_lexer": "ipython3",
   "version": "3.8.3"
  }
 },
 "nbformat": 4,
 "nbformat_minor": 4
}
