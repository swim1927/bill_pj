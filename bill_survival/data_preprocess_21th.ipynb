{
 "cells": [
  {
   "cell_type": "code",
   "execution_count": 20,
   "metadata": {},
   "outputs": [],
   "source": [
    "import re\n",
    "import numpy as np\n",
    "import pandas as pd\n",
    "import pickle\n",
    "from eunjeon import Mecab\n",
    "from gensim.models import Word2Vec as w2v\n",
    "from sklearn.feature_extraction.text import CountVectorizer\n",
    "from xgboost import XGBClassifier\n",
    "from xgboost import XGBRegressor\n",
    "from sklearn.model_selection import cross_val_score\n",
    "from sklearn.model_selection import GridSearchCV"
   ]
  },
  {
   "cell_type": "code",
   "execution_count": 21,
   "metadata": {},
   "outputs": [],
   "source": [
    "#21대 국회 법안 데이터 전처리\n",
    "\n",
    "df = pd.read_excel('21th_history.xlsx')"
   ]
  },
  {
   "cell_type": "code",
   "execution_count": 22,
   "metadata": {},
   "outputs": [],
   "source": [
    "#가결/부결 코딩\n",
    "\n",
    "for i in range(len(df)):\n",
    "    if df.loc[i, '처리구분'] == 1 or df.loc[i, '처리구분'] == 2 or df.loc[i, '처리구분'] == 3 or df.loc[i, '처리구분'] == 4:\n",
    "        df.loc[i, '처리구분'] = 1\n",
    "    elif df.loc[i, '처리구분'] == 5 or df.loc[i, '처리구분'] == 9:\n",
    "        df.loc[i, '처리구분'] = 1\n",
    "    elif df.loc[i, '처리구분'] == 6 or df.loc[i, '처리구분'] == 7 or df.loc[i, '처리구분'] == 8:\n",
    "        df.loc[i, '처리구분'] = 0\n",
    "    elif df.loc[i, '처리구분'] == 10:\n",
    "        df.loc[i, '처리구분'] = 0"
   ]
  },
  {
   "cell_type": "code",
   "execution_count": 23,
   "metadata": {},
   "outputs": [],
   "source": [
    "#소관위 원-핫코딩\n",
    "committee_set = list(set(df['소관위']))\n",
    "committee = []\n",
    "for com in committee_set:\n",
    "    coms = com.split(\", \")\n",
    "    for c in coms:\n",
    "        committee.append(c)\n",
    "        \n",
    "committee = list(set(committee))\n",
    "\n",
    "for i in range(len(df)):\n",
    "    if df['소관위'][i].__contains__('특별위원회'):\n",
    "            df.loc[i, '특별위원회'] = 1\n",
    "    for com in committee:\n",
    "        if df['소관위'][i].__contains__(com):\n",
    "            df.loc[i, com] = 1\n",
    "        else:\n",
    "            df.loc[i, com] = 0"
   ]
  },
  {
   "cell_type": "code",
   "execution_count": 24,
   "metadata": {},
   "outputs": [],
   "source": [
    "for i in range(len(df)):\n",
    "    if df.loc[i, '소속정당 구분'] == '더불어민주당' or df.loc[i, '소속정당 구분'] == '열린민주당':\n",
    "        df.loc[i, 'party'] = 0\n",
    "    elif df.loc[i, '소속정당 구분'] == '국민의힘' or df.loc[i, '소속정당 구분'] == '미래통합당' :\n",
    "        df.loc[i, 'party'] = 1\n",
    "    elif df.loc[i, '소속정당 구분'] == '국민의당' or df.loc[i, '소속정당 구분'] == '기본소득당' or df.loc[i, '소속정당 구분'] == '시대전환' or df.loc[i, '소속정당 구분'] == '정의당':\n",
    "        df.loc[i, 'party'] = 2\n",
    "    elif df.loc[i, '제안자'] == '위원장':\n",
    "        df.loc[i, 'party'] = 4\n",
    "    elif df.loc[i, '제안자'] == '정부':\n",
    "        df.loc[i, 'party'] = 5\n",
    "    else:\n",
    "        df.loc[i, 'party'] = 3"
   ]
  },
  {
   "cell_type": "code",
   "execution_count": 25,
   "metadata": {},
   "outputs": [],
   "source": [
    "for i in range(len(df)):\n",
    "    if df.loc[i, '소속정당 구분'] == '더불어민주당' or df.loc[i, '소속정당 구분'] == '열린민주당' :\n",
    "        df.loc[i, 'num_seats'] = 185\n",
    "    elif df.loc[i, '소속정당 구분'] == '국민의힘' :\n",
    "        df.loc[i, 'num_seats'] = 103\n",
    "    elif df.loc[i, '소속정당 구분'] == '미래통합당' :\n",
    "        df.loc[i, 'num_seats'] = 84\n",
    "    elif df.loc[i, '소속정당 구분'] == '정의당' or df.loc[i, '소속정당 구분'] == '기본소득당' or df.loc[i, '소속정당 구분'] == '시대전환':\n",
    "        df.loc[i, 'num_seats'] = 185\n",
    "    elif df.loc[i, '소속정당 구분'] == '국민의당':\n",
    "        df.loc[i, 'num_seats'] = 3\n",
    "    elif df.loc[i, '소속정당 구분'] == '무소속':\n",
    "        df.loc[i, 'num_seats'] = 9"
   ]
  },
  {
   "cell_type": "code",
   "execution_count": 26,
   "metadata": {},
   "outputs": [],
   "source": [
    "#법안별 주요내용이 26개 카테고리 주제와 얼마나 유사한지 유사도 계산\n",
    "\n",
    "model = w2v.load('word2vec.model') #모델 불러오기\n",
    "\n",
    "tagger = Mecab()\n",
    "\n",
    "summary_re=[]\n",
    "for text in df['제안내용']:\n",
    "    try:\n",
    "        summary_re.append(re.sub('[^가-힣ㄱ-ㅎㅏ-ㅣa-zA-Z]', ' ', text))\n",
    "    except:\n",
    "        summary_re.append('NaN')\n",
    "    \n",
    "cnt_words = []\n",
    "summary_re3 = []\n",
    "\n",
    "for text in summary_re:\n",
    "    pos_text = tagger.pos(text)\n",
    "    word_list = []\n",
    "    for word in pos_text:\n",
    "        word_list.append(word[0])\n",
    "    cnt_words.append(len(word_list)+1)\n",
    "    summary_re3.append(' '.join(word_list))\n",
    "    \n",
    "df['제안내용_re']=summary_re3"
   ]
  },
  {
   "cell_type": "code",
   "execution_count": 27,
   "metadata": {},
   "outputs": [],
   "source": [
    "words = list()\n",
    "for word in model.wv.vocab:\n",
    "    words.append(word)\n",
    "\n",
    "#주제 카테고리 dic\n",
    "category = {'국회': ['의회', '국회'],\n",
    "            '정당/선거': ['정당', '선거'] ,\n",
    "            '안보': ['군사', '안보', '북한'], \n",
    "            '사법': ['사법', '법원', '검찰', '소송'],\n",
    "            '행정' : ['행정', '지자체', '자치', '경찰', '공무원'],\n",
    "            '재정' : ['재정', '예산', '회계'], \n",
    "            '중소기업' : ['중소기업', '창업', '벤처', '스타트업'],\n",
    "            '에너지' : ['에너지', '수소', '전기', '가스'], \n",
    "            '부동산' : ['주택', '부동산', '주거', '임대차'], \n",
    "            '금융' : ['금융', '투자', '자본', '보험업'], \n",
    "            '자동차' : ['자동차', '승합자동차', '이륜자동차', '승용차'],\n",
    "            '건설/기계/조선' : ['기계', '건설업', '건설사', '건축', '조선업', '해운업', '발주'],\n",
    "            '유통/무역' : ['유통', '물류', '무역', '쇼핑몰', '마트', '백화점'], \n",
    "            'IT' : ['IT', '통신', '게임', '데이터', '인공지능', '블록체인', '클라우드'], \n",
    "            '농축산' : ['농업', '축산', '수산'],\n",
    "            '복지':['복지', '연금', '빈곤', '수당'],\n",
    "            '의료/보건' : ['의료', '보건', '병원', '질병', '의약품'] , \n",
    "            '도시/교통':['도시', '교통', '운전', '도로'],\n",
    "            '교육' : ['교육', '학교', '대학', '유치원', '입시'], \n",
    "            '환경' : ['친환경', '오염', '저탄소', '온실가스', '기후', '수자원'], \n",
    "            '노동' : ['노동', '임금', '노동조합', '퇴직', '채용', '근로'], \n",
    "            '치안/안전' : ['치안', '범죄', '안전', '사고', '소방', '형사'],  \n",
    "            '가족' : ['가족', '아동', '청소년'],\n",
    "            '여성' : ['여성', '출산', '육아', '성범죄', '성희롱'], \n",
    "            '예체능' : ['예술', '영화', '음악', '전시','공연', '문화재', '체육', '방송', '언론', '스포츠', '콘텐츠']\n",
    "            }\n",
    "\n",
    "\n",
    "for key in category.keys():\n",
    "    keyword_similar = np.zeros(shape=(len(words), ))\n",
    "    \n",
    "    for keyword in category[key]:\n",
    "        keyword_similar_2 = []\n",
    "        for word in words:\n",
    "            sm = model.wv.similarity(keyword, word)\n",
    "            if sm >= 0.8:\n",
    "                keyword_similar_2.append(sm)\n",
    "            else:\n",
    "                keyword_similar_2.append(0)\n",
    "\n",
    "        keyword_similar_2 = np.asarray(keyword_similar_2)\n",
    "        keyword_similar += keyword_similar_2\n",
    "    \n",
    "    keyword_similar = list(keyword_similar)\n",
    "    keyword_similar_df = pd.DataFrame({'words': words, 'similar' : keyword_similar})\n",
    "    keyword_similar_df = keyword_similar_df.sort_values(by=['words'], axis=0)\n",
    "    keyword_similar_df = keyword_similar_df.set_index('words')\n",
    "    keyword_similar_df = keyword_similar_df.T\n",
    "\n",
    "    vectorizer = CountVectorizer(vocabulary = keyword_similar_df.columns, binary=False)\n",
    "    X = vectorizer.fit_transform(summary_re3)\n",
    "    words_df = pd.DataFrame(X.toarray(), columns = vectorizer.get_feature_names())\n",
    "    words_df = words_df.T\n",
    "\n",
    "    tdm = np.dot(keyword_similar_df, words_df)\n",
    "    tdm = tdm.T\n",
    "    tdm = np.ravel(tdm) #2차원 배열을 1차원으로 평평하게 만듬\n",
    "    df[key] = list(tdm / cnt_words)"
   ]
  },
  {
   "cell_type": "code",
   "execution_count": 28,
   "metadata": {},
   "outputs": [],
   "source": [
    "#공동발의데이터 전처리\n",
    "spon = pd.read_csv('21th_sponsorship_0104.csv')\n",
    "spon = spon.loc[ spon['의안번호'].isin(df['법안코드']) ].reset_index().drop(['index'],axis=1)\n",
    "spon = spon[spon['구분']!='대표'].fillna(0)\n",
    "spon = spon[spon['당선횟수']!=0]"
   ]
  },
  {
   "cell_type": "code",
   "execution_count": 29,
   "metadata": {},
   "outputs": [],
   "source": [
    "#공동발의 의원들의 평균 선수\n",
    "avg_elected = spon.pivot_table(index=['의안번호'], values=['당선횟수'], aggfunc=np.mean)\n",
    "avg_elected = avg_elected.reset_index()"
   ]
  },
  {
   "cell_type": "code",
   "execution_count": 30,
   "metadata": {},
   "outputs": [],
   "source": [
    "#정당다양성 변수: 공동발의 의원이 모두 같은 당 소속이면 0, 아니면 1\n",
    "\n",
    "party_set = []\n",
    "\n",
    "bill_no = list(set(spon['의안번호']))\n",
    "\n",
    "for no in bill_no:\n",
    "    bill = spon[spon['의안번호']==no]\n",
    "    parties = set(bill['정당'])\n",
    "    if len(parties) >= 2:\n",
    "        party_set.append(1)\n",
    "    else:\n",
    "        party_set.append(0)\n",
    "        \n",
    "diversity = pd.DataFrame({'의안번호': bill_no, '정당다양성':party_set})"
   ]
  },
  {
   "cell_type": "code",
   "execution_count": 31,
   "metadata": {},
   "outputs": [],
   "source": [
    "extra_var = pd.merge(avg_elected, diversity, how='left', on='의안번호')\n",
    "extra_var = extra_var.rename(columns={\"당선횟수\": \"공동발의평균선수\"})\n",
    "extra_var = extra_var.rename(columns={\"의안번호\": \"법안코드\"})\n",
    "\n",
    "df = pd.merge(df, extra_var, how='left', on='법안코드')"
   ]
  },
  {
   "cell_type": "code",
   "execution_count": 32,
   "metadata": {},
   "outputs": [],
   "source": [
    "#상임위 상정 여부 변수\n",
    "\n",
    "for i in range(len(df)):\n",
    "    if type(df.loc[i, '위원회 상정일']) == pd._libs.tslibs.timestamps.Timestamp:\n",
    "        df.loc[i, '상임위 상정 여부'] = 1\n",
    "    else:\n",
    "        df.loc[i, '상임위 상정 여부'] = 0"
   ]
  },
  {
   "cell_type": "code",
   "execution_count": 33,
   "metadata": {},
   "outputs": [],
   "source": [
    "#소관위에서 대표발의자와 다른 정당 의원이 발언한 횟수 변수화하기\n",
    "\n",
    "hearings = pd.read_excel('hearings_count.xlsx') #회의록 데이터\n",
    "hearings = hearings.rename(columns={\"법안번호\": \"법안코드\"})\n",
    "hearings = hearings.loc[ hearings['법안코드'].isin(df['법안코드']) ].reset_index().drop(['index'],axis=1)\n",
    "hearings_df = pd.merge(hearings, df, how='left', on='법안코드')"
   ]
  },
  {
   "cell_type": "code",
   "execution_count": 34,
   "metadata": {},
   "outputs": [],
   "source": [
    "from datetime import datetime\n",
    "\n",
    "party_21th = pd.read_csv('party_21th.csv')\n",
    "party_21th = party_21th[['emp_nm', 'poly_nm']]\n",
    "party_21th = party_21th.rename(columns={'emp_nm':'화자'})\n",
    "df_merged = pd.merge(hearings_df, party_21th, how='left', on='화자')\n",
    "df_merged = df_merged.rename(columns={'정당':'제안자 정당'}).reset_index()\n",
    "df_merged = df_merged.rename(columns={'poly_nm':'화자 정당'})"
   ]
  },
  {
   "cell_type": "code",
   "execution_count": 35,
   "metadata": {},
   "outputs": [],
   "source": [
    "df_merged['상임위원장 정당'] = '더불어민주당'\n",
    "\n",
    "for i in range(len(df_merged)):\n",
    "    if df_merged.loc[i, '제안자'] == '위원장': #위원장이 발의한 경우 상임위원장 정당을 제안자 정당으로 본다\n",
    "        df_merged.loc[i, '제안자 정당'] = df_merged.loc[i, '상임위원장 정당']\n",
    "        \n",
    "for i in range(len(df_merged)):\n",
    "    if df_merged.loc[i, '제안자'] == '정부':   #정부가 발의한 경우 더불어민주당(20대 국회 하반기: 문재인 정부)을 제안자 정당으로 본다\n",
    "        df_merged.loc[i, '제안자 정당'] = '더불어민주당'"
   ]
  },
  {
   "cell_type": "code",
   "execution_count": 36,
   "metadata": {},
   "outputs": [],
   "source": [
    "bill_no = list(set(df_merged['법안코드']))\n",
    "\n",
    "cnt_list = []\n",
    "\n",
    "for no in bill_no:\n",
    "    bill_df = df_merged[df_merged['법안코드']==no].reset_index()\n",
    "    cnt = 0\n",
    "    for i in range(len(bill_df)):\n",
    "        if bill_df['제안자 정당'][0] != bill_df.loc[i, '화자 정당'] and type(bill_df.loc[i, '화자 정당']) == str:\n",
    "            cnt+=bill_df.loc[i, '횟수']\n",
    "    cnt_list.append(cnt)\n",
    "\n",
    "bill_cnt = pd.DataFrame({'법안코드':bill_no, '반대당발언횟수': cnt_list})"
   ]
  },
  {
   "cell_type": "code",
   "execution_count": 37,
   "metadata": {},
   "outputs": [],
   "source": [
    "bill_df = pd.merge(df, bill_cnt, how='left', on='법안코드')"
   ]
  },
  {
   "cell_type": "code",
   "execution_count": 38,
   "metadata": {},
   "outputs": [],
   "source": [
    "bill_df.to_csv('21th_bill_preprocessed.csv', encoding='utf-8-sig') #csv파일로 저장"
   ]
  },
  {
   "cell_type": "code",
   "execution_count": null,
   "metadata": {},
   "outputs": [],
   "source": []
  },
  {
   "cell_type": "code",
   "execution_count": 1,
   "metadata": {},
   "outputs": [],
   "source": [
    "import sqlite3\n",
    "import pandas as pd\n",
    "conn = sqlite3.connect(\"bills.db\")\n",
    "df = pd.read_sql(\"select * from bills_2021 where proposeDt >= '2021-01-01'\", con = conn)"
   ]
  },
  {
   "cell_type": "code",
   "execution_count": 3,
   "metadata": {},
   "outputs": [
    {
     "data": {
      "text/plain": [
       "Index(['level_0', 'billId', 'billName', 'billNo', 'passGubn', 'procStageCd',\n",
       "       'proposeDt', 'proposerKind', 'summary', 'generalResult', 'procDt',\n",
       "       'index', '공동발의자수', '공동발의평균선수', 'diversity', 'presentDt', 'COMMITTEE',\n",
       "       'PROC_RESULT', 'RST_PROPOSER', 'PUBL_PROPOSER', 'COMMITTEE_ID',\n",
       "       'polyNm', '당선횟수', '선출형태'],\n",
       "      dtype='object')"
      ]
     },
     "execution_count": 3,
     "metadata": {},
     "output_type": "execute_result"
    }
   ],
   "source": [
    "df.columns"
   ]
  },
  {
   "cell_type": "code",
   "execution_count": 4,
   "metadata": {},
   "outputs": [
    {
     "data": {
      "text/html": [
       "<div>\n",
       "<style scoped>\n",
       "    .dataframe tbody tr th:only-of-type {\n",
       "        vertical-align: middle;\n",
       "    }\n",
       "\n",
       "    .dataframe tbody tr th {\n",
       "        vertical-align: top;\n",
       "    }\n",
       "\n",
       "    .dataframe thead th {\n",
       "        text-align: right;\n",
       "    }\n",
       "</style>\n",
       "<table border=\"1\" class=\"dataframe\">\n",
       "  <thead>\n",
       "    <tr style=\"text-align: right;\">\n",
       "      <th></th>\n",
       "      <th>billId</th>\n",
       "      <th>billName</th>\n",
       "      <th>presentDt</th>\n",
       "    </tr>\n",
       "  </thead>\n",
       "  <tbody>\n",
       "    <tr>\n",
       "      <th>0</th>\n",
       "      <td>PRC_G2K1E0H1K0X5L1V1X1O3E1K0X3W7Z0</td>\n",
       "      <td>전통시장 및 상점가 육성을 위한 특별법 일부개정법률안(이동주의원등18인)</td>\n",
       "      <td>None</td>\n",
       "    </tr>\n",
       "    <tr>\n",
       "      <th>1</th>\n",
       "      <td>PRC_V2H1J0K1U0M4V1W8A2A4F1Y5A8D3E0</td>\n",
       "      <td>코로나19 감염병 피해 소상공인등 구제에 관한 특별법안(이동주의원등22인)</td>\n",
       "      <td>None</td>\n",
       "    </tr>\n",
       "    <tr>\n",
       "      <th>2</th>\n",
       "      <td>PRC_L2O1Q0C1L0F4F1R5O2O6T1N1S9D7A6</td>\n",
       "      <td>소상공인기본법 일부개정법률안(이동주의원등17인)</td>\n",
       "      <td>None</td>\n",
       "    </tr>\n",
       "    <tr>\n",
       "      <th>3</th>\n",
       "      <td>PRC_F2O1J0G1D1B1I1K7K5D0A3K3Q6R8G4</td>\n",
       "      <td>입양특례법 일부개정법률안(양경숙의원 등 10인)</td>\n",
       "      <td>None</td>\n",
       "    </tr>\n",
       "    <tr>\n",
       "      <th>4</th>\n",
       "      <td>PRC_W2P1T0Y1F1L1W1J7C4Y9G4R0W3Q1A4</td>\n",
       "      <td>아동복지법 일부개정법률안(양경숙의원 등 10인)</td>\n",
       "      <td>None</td>\n",
       "    </tr>\n",
       "    <tr>\n",
       "      <th>...</th>\n",
       "      <td>...</td>\n",
       "      <td>...</td>\n",
       "      <td>...</td>\n",
       "    </tr>\n",
       "    <tr>\n",
       "      <th>180</th>\n",
       "      <td>PRC_D2P1I0I1I0B4V1E1N5S4O3P2E0D2T8</td>\n",
       "      <td>북한이탈주민의 보호 및 정착지원에 관한 법률 일부개정법률안(지성호의원 등 10인)</td>\n",
       "      <td>None</td>\n",
       "    </tr>\n",
       "    <tr>\n",
       "      <th>181</th>\n",
       "      <td>PRC_J2Z1V0Q1W0G4C1U1K2A8T2H9P8Y5R2</td>\n",
       "      <td>기부금품의 모집 및 사용에 관한 법률 일부개정법률안(한정애의원 등 14인)</td>\n",
       "      <td>None</td>\n",
       "    </tr>\n",
       "    <tr>\n",
       "      <th>182</th>\n",
       "      <td>PRC_B2F1X0I1H0L4B1Q1R2W0E5T6K6A8R0</td>\n",
       "      <td>공직선거법 일부개정법률안(고용진의원 등 14인)</td>\n",
       "      <td>None</td>\n",
       "    </tr>\n",
       "    <tr>\n",
       "      <th>183</th>\n",
       "      <td>PRC_B2O0G1W1G2U6V1M2J5E4Z3N4C4B2P0</td>\n",
       "      <td>주민등록법 일부개정법률안(이영의원등11인)</td>\n",
       "      <td>None</td>\n",
       "    </tr>\n",
       "    <tr>\n",
       "      <th>184</th>\n",
       "      <td>PRC_T2J1P0X1I0A4G1W0M0K9O2N2R0L9X5</td>\n",
       "      <td>산업안전보건법 일부개정법률안(임오경의원 등 11인)</td>\n",
       "      <td>None</td>\n",
       "    </tr>\n",
       "  </tbody>\n",
       "</table>\n",
       "<p>185 rows × 3 columns</p>\n",
       "</div>"
      ],
      "text/plain": [
       "                                 billId  \\\n",
       "0    PRC_G2K1E0H1K0X5L1V1X1O3E1K0X3W7Z0   \n",
       "1    PRC_V2H1J0K1U0M4V1W8A2A4F1Y5A8D3E0   \n",
       "2    PRC_L2O1Q0C1L0F4F1R5O2O6T1N1S9D7A6   \n",
       "3    PRC_F2O1J0G1D1B1I1K7K5D0A3K3Q6R8G4   \n",
       "4    PRC_W2P1T0Y1F1L1W1J7C4Y9G4R0W3Q1A4   \n",
       "..                                  ...   \n",
       "180  PRC_D2P1I0I1I0B4V1E1N5S4O3P2E0D2T8   \n",
       "181  PRC_J2Z1V0Q1W0G4C1U1K2A8T2H9P8Y5R2   \n",
       "182  PRC_B2F1X0I1H0L4B1Q1R2W0E5T6K6A8R0   \n",
       "183  PRC_B2O0G1W1G2U6V1M2J5E4Z3N4C4B2P0   \n",
       "184  PRC_T2J1P0X1I0A4G1W0M0K9O2N2R0L9X5   \n",
       "\n",
       "                                          billName presentDt  \n",
       "0         전통시장 및 상점가 육성을 위한 특별법 일부개정법률안(이동주의원등18인)      None  \n",
       "1        코로나19 감염병 피해 소상공인등 구제에 관한 특별법안(이동주의원등22인)      None  \n",
       "2                       소상공인기본법 일부개정법률안(이동주의원등17인)      None  \n",
       "3                       입양특례법 일부개정법률안(양경숙의원 등 10인)      None  \n",
       "4                       아동복지법 일부개정법률안(양경숙의원 등 10인)      None  \n",
       "..                                             ...       ...  \n",
       "180  북한이탈주민의 보호 및 정착지원에 관한 법률 일부개정법률안(지성호의원 등 10인)      None  \n",
       "181      기부금품의 모집 및 사용에 관한 법률 일부개정법률안(한정애의원 등 14인)      None  \n",
       "182                     공직선거법 일부개정법률안(고용진의원 등 14인)      None  \n",
       "183                        주민등록법 일부개정법률안(이영의원등11인)      None  \n",
       "184                   산업안전보건법 일부개정법률안(임오경의원 등 11인)      None  \n",
       "\n",
       "[185 rows x 3 columns]"
      ]
     },
     "execution_count": 4,
     "metadata": {},
     "output_type": "execute_result"
    }
   ],
   "source": [
    "df[['billId', 'billName', 'presentDt']]"
   ]
  },
  {
   "cell_type": "code",
   "execution_count": 6,
   "metadata": {},
   "outputs": [
    {
     "data": {
      "text/plain": [
       "{'2020-12-03', '2021-01-08', None, 'None'}"
      ]
     },
     "execution_count": 6,
     "metadata": {},
     "output_type": "execute_result"
    }
   ],
   "source": [
    "set(df['presentDt'])"
   ]
  },
  {
   "cell_type": "code",
   "execution_count": 11,
   "metadata": {},
   "outputs": [
    {
     "ename": "TypeError",
     "evalue": "can only concatenate str (not \"type\") to str",
     "output_type": "error",
     "traceback": [
      "\u001b[1;31m---------------------------------------------------------------------------\u001b[0m",
      "\u001b[1;31mTypeError\u001b[0m                                 Traceback (most recent call last)",
      "\u001b[1;32m<ipython-input-11-6ad4b3372688>\u001b[0m in \u001b[0;36m<module>\u001b[1;34m\u001b[0m\n\u001b[0;32m      1\u001b[0m \u001b[1;32mfor\u001b[0m \u001b[0mi\u001b[0m \u001b[1;32min\u001b[0m \u001b[0mrange\u001b[0m\u001b[1;33m(\u001b[0m\u001b[0mlen\u001b[0m\u001b[1;33m(\u001b[0m\u001b[0mdf\u001b[0m\u001b[1;33m)\u001b[0m\u001b[1;33m)\u001b[0m\u001b[1;33m:\u001b[0m\u001b[1;33m\u001b[0m\u001b[1;33m\u001b[0m\u001b[0m\n\u001b[0;32m      2\u001b[0m     \u001b[1;32mif\u001b[0m \u001b[0mdf\u001b[0m\u001b[1;33m.\u001b[0m\u001b[0mloc\u001b[0m\u001b[1;33m[\u001b[0m\u001b[0mi\u001b[0m\u001b[1;33m,\u001b[0m \u001b[1;34m'presentDt'\u001b[0m\u001b[1;33m]\u001b[0m \u001b[1;33m!=\u001b[0m \u001b[1;32mNone\u001b[0m \u001b[1;32mor\u001b[0m \u001b[0mdf\u001b[0m\u001b[1;33m.\u001b[0m\u001b[0mloc\u001b[0m\u001b[1;33m[\u001b[0m\u001b[0mi\u001b[0m\u001b[1;33m,\u001b[0m \u001b[1;34m'presentDt'\u001b[0m\u001b[1;33m]\u001b[0m \u001b[1;33m!=\u001b[0m \u001b[1;34m'None'\u001b[0m\u001b[1;33m:\u001b[0m\u001b[1;33m\u001b[0m\u001b[1;33m\u001b[0m\u001b[0m\n\u001b[1;32m----> 3\u001b[1;33m         \u001b[0mprint\u001b[0m\u001b[1;33m(\u001b[0m\u001b[0mdf\u001b[0m\u001b[1;33m.\u001b[0m\u001b[0mloc\u001b[0m\u001b[1;33m[\u001b[0m\u001b[0mi\u001b[0m\u001b[1;33m,\u001b[0m \u001b[1;34m'billId'\u001b[0m\u001b[1;33m]\u001b[0m \u001b[1;33m+\u001b[0m \u001b[1;34m\":\"\u001b[0m \u001b[1;33m+\u001b[0m \u001b[0mdf\u001b[0m\u001b[1;33m.\u001b[0m\u001b[0mloc\u001b[0m\u001b[1;33m[\u001b[0m\u001b[0mi\u001b[0m\u001b[1;33m,\u001b[0m \u001b[1;34m'billName'\u001b[0m\u001b[1;33m]\u001b[0m \u001b[1;33m+\u001b[0m \u001b[1;34m\":\"\u001b[0m\u001b[1;33m+\u001b[0m  \u001b[0mdf\u001b[0m\u001b[1;33m.\u001b[0m\u001b[0mloc\u001b[0m\u001b[1;33m[\u001b[0m\u001b[0mi\u001b[0m\u001b[1;33m,\u001b[0m \u001b[1;34m'presentDt'\u001b[0m\u001b[1;33m]\u001b[0m \u001b[1;33m+\u001b[0m \u001b[0mtype\u001b[0m\u001b[1;33m(\u001b[0m\u001b[0mdf\u001b[0m\u001b[1;33m.\u001b[0m\u001b[0mloc\u001b[0m\u001b[1;33m[\u001b[0m\u001b[0mi\u001b[0m\u001b[1;33m,\u001b[0m \u001b[1;34m'presentDt'\u001b[0m\u001b[1;33m]\u001b[0m\u001b[1;33m)\u001b[0m\u001b[1;33m)\u001b[0m\u001b[1;33m\u001b[0m\u001b[1;33m\u001b[0m\u001b[0m\n\u001b[0m",
      "\u001b[1;31mTypeError\u001b[0m: can only concatenate str (not \"type\") to str"
     ]
    }
   ],
   "source": [
    "for i in range(len(df)):\n",
    "    if df.loc[i, 'presentDt'] != None or df.loc[i, 'presentDt'] != 'None':\n",
    "        print(df.loc[i, 'billId'] + \":\" + df.loc[i, 'billName']  type(df.loc[i, 'presentDt'])) "
   ]
  },
  {
   "cell_type": "code",
   "execution_count": 50,
   "metadata": {},
   "outputs": [],
   "source": [
    "committee_set.remove(None)"
   ]
  },
  {
   "cell_type": "code",
   "execution_count": 49,
   "metadata": {},
   "outputs": [
    {
     "data": {
      "text/plain": [
       "['기획재정위원회',\n",
       " '보건복지위원회',\n",
       " '환경노동위원회',\n",
       " '행정안전위원회',\n",
       " None,\n",
       " '국토교통위원회',\n",
       " '농림축산식품해양수산위원회',\n",
       " '교육위원회',\n",
       " '정무위원회',\n",
       " '국회운영위원회',\n",
       " '법제사법위원회',\n",
       " '국방위원회',\n",
       " '문화체육관광위원회',\n",
       " '외교통일위원회',\n",
       " '산업통상자원중소벤처기업위원회',\n",
       " '과학기술정보방송통신위원회',\n",
       " '여성가족위원회']"
      ]
     },
     "execution_count": 49,
     "metadata": {},
     "output_type": "execute_result"
    }
   ],
   "source": [
    "committee_set = list(set(df['COMMITTEE']))\n",
    "committee_set"
   ]
  },
  {
   "cell_type": "code",
   "execution_count": 51,
   "metadata": {},
   "outputs": [
    {
     "data": {
      "text/plain": [
       "['기획재정위원회',\n",
       " '보건복지위원회',\n",
       " '환경노동위원회',\n",
       " '행정안전위원회',\n",
       " '국토교통위원회',\n",
       " '농림축산식품해양수산위원회',\n",
       " '교육위원회',\n",
       " '정무위원회',\n",
       " '국회운영위원회',\n",
       " '법제사법위원회',\n",
       " '국방위원회',\n",
       " '문화체육관광위원회',\n",
       " '외교통일위원회',\n",
       " '산업통상자원중소벤처기업위원회',\n",
       " '과학기술정보방송통신위원회',\n",
       " '여성가족위원회']"
      ]
     },
     "execution_count": 51,
     "metadata": {},
     "output_type": "execute_result"
    }
   ],
   "source": [
    "committee_set"
   ]
  },
  {
   "cell_type": "code",
   "execution_count": 45,
   "metadata": {},
   "outputs": [
    {
     "data": {
      "text/plain": [
       "{'2021-01-04',\n",
       " '2021-01-05',\n",
       " '2021-01-06',\n",
       " '2021-01-07',\n",
       " '2021-01-08',\n",
       " '2021-01-11',\n",
       " '2021-01-12'}"
      ]
     },
     "execution_count": 45,
     "metadata": {},
     "output_type": "execute_result"
    }
   ],
   "source": [
    "set(df['proposeDt'])"
   ]
  },
  {
   "cell_type": "code",
   "execution_count": 6,
   "metadata": {},
   "outputs": [
    {
     "data": {
      "text/plain": [
       "{'공포',\n",
       " '대안반영폐기',\n",
       " '본회의부의안건',\n",
       " '본회의불부의',\n",
       " '본회의의결',\n",
       " '소관위심사',\n",
       " '소관위심사보고',\n",
       " '소관위접수',\n",
       " '접수',\n",
       " '정부이송',\n",
       " '철회',\n",
       " '체계자구심사',\n",
       " '폐기'}"
      ]
     },
     "execution_count": 6,
     "metadata": {},
     "output_type": "execute_result"
    }
   ],
   "source": [
    "set(df['procStageCd'])"
   ]
  },
  {
   "cell_type": "code",
   "execution_count": 8,
   "metadata": {},
   "outputs": [
    {
     "data": {
      "text/plain": [
       "{None, '대안반영폐기', '부결', '수정가결', '원안가결', '철회', '폐기'}"
      ]
     },
     "execution_count": 8,
     "metadata": {},
     "output_type": "execute_result"
    }
   ],
   "source": [
    "set(df['generalResult'])"
   ]
  },
  {
   "cell_type": "code",
   "execution_count": 24,
   "metadata": {},
   "outputs": [
    {
     "data": {
      "text/plain": [
       "str"
      ]
     },
     "execution_count": 24,
     "metadata": {},
     "output_type": "execute_result"
    }
   ],
   "source": [
    "type(df.loc[4000, 'presentDt'])"
   ]
  },
  {
   "cell_type": "code",
   "execution_count": 46,
   "metadata": {},
   "outputs": [
    {
     "data": {
      "text/plain": [
       "Index(['index', 'billId', 'billName', 'billNo', 'passGubn', 'procStageCd',\n",
       "       'proposeDt', 'proposerKind', 'summary', 'generalResult', 'procDt',\n",
       "       '공동발의자수', 'diversity', 'presentDt', 'COMMITTEE', 'PROC_RESULT',\n",
       "       'RST_PROPOSER', 'PUBL_PROPOSER', 'COMMITTEE_ID', 'polyNm'],\n",
       "      dtype='object')"
      ]
     },
     "execution_count": 46,
     "metadata": {},
     "output_type": "execute_result"
    }
   ],
   "source": [
    "df.columns"
   ]
  },
  {
   "cell_type": "code",
   "execution_count": 7,
   "metadata": {},
   "outputs": [],
   "source": [
    "import pandas as pd\n",
    "import sqlite3\n",
    "conn = sqlite3.connect(\"bills_preprocessed.db\")\n",
    "df = pd.read_sql(\"select * from bills\", con = conn)"
   ]
  },
  {
   "cell_type": "code",
   "execution_count": 8,
   "metadata": {},
   "outputs": [
    {
     "data": {
      "text/plain": [
       "Index(['level_0', '의안번호', '법안명', 'billNo', 'passGubn', 'procStageCd', '접수일자',\n",
       "       'proposerKind', 'summary', 'generalResult', 'procDt', 'index', '공동발의자수',\n",
       "       '공동발의평균선수', '정당다양성', 'presentDt', 'COMMITTEE', 'PROC_RESULT', '제안자',\n",
       "       'PUBL_PROPOSER', 'COMMITTEE_ID', 'polyNm', '당선횟수', '처리구분', '특별위원회',\n",
       "       '환경노동위원회', '국방위원회', '여성가족위원회', '국토교통위원회', '행정안전위원회', '기획재정위원회',\n",
       "       '문화체육관광위원회', '교육위원회', '국회운영위원회', '산업통상자원중소벤처기업위원회', '외교통일위원회', '정무위원회',\n",
       "       '과학기술정보방송통신위원회', '보건복지위원회', '농림축산식품해양수산위원회', '법제사법위원회', 'party',\n",
       "       'num_seats', '입법형태', 'summary_re', '국회', '정당/선거', '안보', '사법', '행정',\n",
       "       '재정', '중소기업', '에너지', '부동산', '금융', '자동차', '건설/기계/조선', '유통/무역', 'IT',\n",
       "       '농축산', '복지', '의료/보건', '도시/교통', '교육', '환경', '노동', '치안/안전', '가족', '여성',\n",
       "       '예체능', '상임위 상정 여부'],\n",
       "      dtype='object')"
      ]
     },
     "execution_count": 8,
     "metadata": {},
     "output_type": "execute_result"
    }
   ],
   "source": [
    "df.columns"
   ]
  },
  {
   "cell_type": "code",
   "execution_count": null,
   "metadata": {},
   "outputs": [],
   "source": [
    "for i in range(len(df)):\n",
    "    if df.loc[i, 'billName'].__contains__('전부개정법률안'):\n",
    "        df.loc[i, '입법형태'] = '전부개정'\n",
    "    elif df.loc[i, 'billName'].__contains__('일부개정법률안'):\n",
    "        df.loc[i, '입법형태'] = '일부개정법률안'\n",
    "    else:\n",
    "        df.loc[i, '입법형태'] = '제정'"
   ]
  },
  {
   "cell_type": "code",
   "execution_count": 12,
   "metadata": {},
   "outputs": [],
   "source": [
    "import requests\n",
    "mykey = \"f9191bcb5fc3472890a5e84347ae5ebb\"\n",
    "url3 = f\"https://open.assembly.go.kr/portal/openapi/nwvrqwxyaytdsfvhu?KEY={mykey}&Type=json&pSize=300\"\n",
    "req = requests.get(url3).json()\n",
    "congressman = pd.DataFrame(req['nwvrqwxyaytdsfvhu'][1]['row'])\n",
    "\n",
    "for i in range(len(congressman)):\n",
    "    congressman.loc[i, '당선횟수'] = len(congressman.loc[i, 'UNITS'].split(', '))"
   ]
  },
  {
   "cell_type": "code",
   "execution_count": 14,
   "metadata": {},
   "outputs": [
    {
     "data": {
      "text/plain": [
       "0       지역구\n",
       "1       지역구\n",
       "2       지역구\n",
       "3       지역구\n",
       "4      비례대표\n",
       "       ... \n",
       "295     지역구\n",
       "296     지역구\n",
       "297     지역구\n",
       "298     지역구\n",
       "299     지역구\n",
       "Name: ELECT_GBN_NM, Length: 300, dtype: object"
      ]
     },
     "execution_count": 14,
     "metadata": {},
     "output_type": "execute_result"
    }
   ],
   "source": [
    "congressman['ELECT_GBN_NM']"
   ]
  },
  {
   "cell_type": "code",
   "execution_count": null,
   "metadata": {},
   "outputs": [],
   "source": []
  }
 ],
 "metadata": {
  "kernelspec": {
   "display_name": "Python 3",
   "language": "python",
   "name": "python3"
  },
  "language_info": {
   "codemirror_mode": {
    "name": "ipython",
    "version": 3
   },
   "file_extension": ".py",
   "mimetype": "text/x-python",
   "name": "python",
   "nbconvert_exporter": "python",
   "pygments_lexer": "ipython3",
   "version": "3.8.3"
  }
 },
 "nbformat": 4,
 "nbformat_minor": 4
}
