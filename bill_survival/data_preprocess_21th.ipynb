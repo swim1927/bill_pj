{
 "cells": [
  {
   "cell_type": "code",
   "execution_count": 1,
   "metadata": {},
   "outputs": [],
   "source": [
    "import re\n",
    "import numpy as np\n",
    "import pandas as pd\n",
    "import pickle\n",
    "from eunjeon import Mecab\n",
    "from gensim.models import Word2Vec as w2v\n",
    "from sklearn.feature_extraction.text import CountVectorizer\n",
    "from xgboost import XGBClassifier\n",
    "from xgboost import XGBRegressor\n",
    "from sklearn.model_selection import cross_val_score\n",
    "from sklearn.model_selection import GridSearchCV"
   ]
  },
  {
   "cell_type": "code",
   "execution_count": 2,
   "metadata": {},
   "outputs": [],
   "source": [
    "#21대 국회 법안 데이터 전처리\n",
    "\n",
    "df = pd.read_excel('21th_history.xlsx')"
   ]
  },
  {
   "cell_type": "code",
   "execution_count": 3,
   "metadata": {},
   "outputs": [],
   "source": [
    "#가결/부결 코딩\n",
    "\n",
    "for i in range(len(df)):\n",
    "    if df.loc[i, '처리구분'] == 1 or df.loc[i, '처리구분'] == 2 or df.loc[i, '처리구분'] == 3 or df.loc[i, '처리구분'] == 4:\n",
    "        df.loc[i, '처리구분'] = 1\n",
    "    elif df.loc[i, '처리구분'] == 5 or df.loc[i, '처리구분'] == 9:\n",
    "        df.loc[i, '처리구분'] = 1\n",
    "    elif df.loc[i, '처리구분'] == 6 or df.loc[i, '처리구분'] == 7 or df.loc[i, '처리구분'] == 8:\n",
    "        df.loc[i, '처리구분'] = 0\n",
    "    elif df.loc[i, '처리구분'] == 10:\n",
    "        df.loc[i, '처리구분'] = 0"
   ]
  },
  {
   "cell_type": "code",
   "execution_count": 4,
   "metadata": {},
   "outputs": [],
   "source": [
    "#소관위 원-핫코딩\n",
    "committee_set = list(set(df['소관위']))\n",
    "committee = []\n",
    "for com in committee_set:\n",
    "    coms = com.split(\", \")\n",
    "    for c in coms:\n",
    "        committee.append(c)\n",
    "        \n",
    "committee = list(set(committee))\n",
    "\n",
    "for i in range(len(df)):\n",
    "    for com in committee:\n",
    "        if df['소관위'][i].__contains__(com):\n",
    "            df.loc[i, com] = 1\n",
    "        else:\n",
    "            df.loc[i, com] = 0"
   ]
  },
  {
   "cell_type": "code",
   "execution_count": 6,
   "metadata": {},
   "outputs": [],
   "source": [
    "for i in range(len(df)):\n",
    "    if df.loc[i, '소속정당 구분'] == '더불어민주당' or df.loc[i, '소속정당 구분'] == '열린민주당':\n",
    "        df.loc[i, 'party'] = 0\n",
    "    elif df.loc[i, '소속정당 구분'] == '국민의힘' or df.loc[i, '소속정당 구분'] == '미래통합당' :\n",
    "        df.loc[i, 'party'] = 1\n",
    "    elif df.loc[i, '소속정당 구분'] == '국민의당' or df.loc[i, '소속정당 구분'] == '기본소득당' or df.loc[i, '소속정당 구분'] == '시대전환' or df.loc[i, '소속정당 구분'] == '정의당':\n",
    "        df.loc[i, 'party'] = 2\n",
    "    else:\n",
    "        df.loc[i, 'party'] = 3"
   ]
  },
  {
   "cell_type": "code",
   "execution_count": 7,
   "metadata": {},
   "outputs": [],
   "source": [
    "for i in range(len(df)):\n",
    "    if df.loc[i, '소속정당 구분'] == '더불어민주당' or df.loc[i, '소속정당 구분'] == '열린민주당' :\n",
    "        df.loc[i, 'num_seats'] = 185\n",
    "    elif df.loc[i, '소속정당 구분'] == '국민의힘' :\n",
    "        df.loc[i, 'num_seats'] = 103\n",
    "    elif df.loc[i, '소속정당 구분'] == '미래통합당' :\n",
    "        df.loc[i, 'num_seats'] = 84\n",
    "    elif df.loc[i, '소속정당 구분'] == '정의당' or df.loc[i, '소속정당 구분'] == '기본소득당' or df.loc[i, '소속정당 구분'] == '시대전환':\n",
    "        df.loc[i, 'num_seats'] = 185\n",
    "    elif df.loc[i, '소속정당 구분'] == '국민의당':\n",
    "        df.loc[i, 'num_seats'] = 3\n",
    "    elif df.loc[i, '소속정당 구분'] == '무소속':\n",
    "        df.loc[i, 'num_seats'] = 9"
   ]
  },
  {
   "cell_type": "code",
   "execution_count": 8,
   "metadata": {},
   "outputs": [],
   "source": [
    "#법안별 주요내용이 26개 카테고리 주제와 얼마나 유사한지 유사도 계산\n",
    "\n",
    "model = w2v.load('word2vec.model') #모델 불러오기\n",
    "\n",
    "tagger = Mecab()\n",
    "\n",
    "summary_re=[]\n",
    "for text in df['제안내용']:\n",
    "    try:\n",
    "        summary_re.append(re.sub('[^가-힣ㄱ-ㅎㅏ-ㅣa-zA-Z]', ' ', text))\n",
    "    except:\n",
    "        summary_re.append('NaN')\n",
    "    \n",
    "cnt_words = []\n",
    "summary_re3 = []\n",
    "\n",
    "for text in summary_re:\n",
    "    pos_text = tagger.pos(text)\n",
    "    word_list = []\n",
    "    for word in pos_text:\n",
    "        word_list.append(word[0])\n",
    "    cnt_words.append(len(word_list)+1)\n",
    "    summary_re3.append(' '.join(word_list))\n",
    "    \n",
    "df['제안내용_re']=summary_re3"
   ]
  },
  {
   "cell_type": "code",
   "execution_count": 9,
   "metadata": {},
   "outputs": [],
   "source": [
    "words = list()\n",
    "for word in model.wv.vocab:\n",
    "    words.append(word)\n",
    "\n",
    "#주제 카테고리 dic\n",
    "category = {'국회': ['의회', '국회'],\n",
    "            '정당/선거': ['정당', '선거'] ,\n",
    "            '안보': ['군사', '안보', '북한'], \n",
    "            '사법': ['사법', '법원', '검찰', '소송'],\n",
    "            '행정' : ['행정', '지자체', '자치', '경찰', '공무원'],\n",
    "            '재정' : ['재정', '예산', '회계'], \n",
    "            '중소기업' : ['중소기업', '창업', '벤처', '스타트업'],\n",
    "            '에너지' : ['에너지', '수소', '전기', '가스'], \n",
    "            '부동산' : ['주택', '부동산', '주거', '임대차'], \n",
    "            '금융' : ['금융', '투자', '자본', '보험업'], \n",
    "            '자동차' : ['자동차', '승합자동차', '이륜자동차', '승용차'],\n",
    "            '건설/기계/조선' : ['기계', '건설업', '건설사', '건축', '조선업', '해운업', '발주'],\n",
    "            '유통/무역' : ['유통', '물류', '무역', '쇼핑몰', '마트', '백화점'], \n",
    "            'IT' : ['IT', '통신', '게임', '데이터', '인공지능', '블록체인', '클라우드'], \n",
    "            '농축산' : ['농업', '축산', '수산'],\n",
    "            '복지':['복지', '연금', '빈곤', '수당'],\n",
    "            '의료/보건' : ['의료', '보건', '병원', '질병', '의약품'] , \n",
    "            '도시/교통':['도시', '교통', '운전', '도로'],\n",
    "            '교육' : ['교육', '학교', '대학', '유치원', '입시'], \n",
    "            '환경' : ['친환경', '오염', '저탄소', '온실가스', '기후', '수자원'], \n",
    "            '노동' : ['노동', '임금', '노동조합', '퇴직', '채용', '근로'], \n",
    "            '치안/안전' : ['치안', '범죄', '안전', '사고', '소방', '형사'],  \n",
    "            '가족' : ['가족', '아동', '청소년'],\n",
    "            '여성' : ['여성', '출산', '육아', '성범죄', '성희롱'], \n",
    "            '예체능' : ['예술', '영화', '음악', '전시','공연', '문화재', '체육', '방송', '언론', '스포츠', '콘텐츠']\n",
    "            }\n",
    "\n",
    "\n",
    "for key in category.keys():\n",
    "    keyword_similar = np.zeros(shape=(len(words), ))\n",
    "    \n",
    "    for keyword in category[key]:\n",
    "        keyword_similar_2 = []\n",
    "        for word in words:\n",
    "            sm = model.wv.similarity(keyword, word)\n",
    "            if sm >= 0.8:\n",
    "                keyword_similar_2.append(sm)\n",
    "            else:\n",
    "                keyword_similar_2.append(0)\n",
    "\n",
    "        keyword_similar_2 = np.asarray(keyword_similar_2)\n",
    "        keyword_similar += keyword_similar_2\n",
    "    \n",
    "    keyword_similar = list(keyword_similar)\n",
    "    keyword_similar_df = pd.DataFrame({'words': words, 'similar' : keyword_similar})\n",
    "    keyword_similar_df = keyword_similar_df.sort_values(by=['words'], axis=0)\n",
    "    keyword_similar_df = keyword_similar_df.set_index('words')\n",
    "    keyword_similar_df = keyword_similar_df.T\n",
    "\n",
    "    vectorizer = CountVectorizer(vocabulary = keyword_similar_df.columns, binary=False)\n",
    "    X = vectorizer.fit_transform(summary_re3)\n",
    "    words_df = pd.DataFrame(X.toarray(), columns = vectorizer.get_feature_names())\n",
    "    words_df = words_df.T\n",
    "\n",
    "    tdm = np.dot(keyword_similar_df, words_df)\n",
    "    tdm = tdm.T\n",
    "    tdm = np.ravel(tdm) #2차원 배열을 1차원으로 평평하게 만듬\n",
    "    df[key] = list(tdm / cnt_words)"
   ]
  },
  {
   "cell_type": "code",
   "execution_count": 10,
   "metadata": {},
   "outputs": [],
   "source": [
    "#공동발의데이터 전처리\n",
    "spon = pd.read_csv('21th_sponsorship_0104.csv')\n",
    "spon = spon.loc[ spon['의안번호'].isin(df['법안코드']) ].reset_index().drop(['index'],axis=1)\n",
    "spon = spon[spon['구분']!='대표'].fillna(0)\n",
    "spon = spon[spon['당선횟수']!=0]"
   ]
  },
  {
   "cell_type": "code",
   "execution_count": 11,
   "metadata": {},
   "outputs": [],
   "source": [
    "#공동발의 의원들의 평균 선수\n",
    "avg_elected = spon.pivot_table(index=['의안번호'], values=['당선횟수'], aggfunc=np.mean)\n",
    "avg_elected = avg_elected.reset_index()"
   ]
  },
  {
   "cell_type": "code",
   "execution_count": 12,
   "metadata": {},
   "outputs": [],
   "source": [
    "#정당다양성 변수: 공동발의 의원이 모두 같은 당 소속이면 0, 아니면 1\n",
    "\n",
    "party_set = []\n",
    "\n",
    "bill_no = list(set(spon['의안번호']))\n",
    "\n",
    "for no in bill_no:\n",
    "    bill = spon[spon['의안번호']==no]\n",
    "    parties = set(bill['정당'])\n",
    "    if len(parties) >= 2:\n",
    "        party_set.append(1)\n",
    "    else:\n",
    "        party_set.append(0)\n",
    "        \n",
    "diversity = pd.DataFrame({'의안번호': bill_no, '정당다양성':party_set})"
   ]
  },
  {
   "cell_type": "code",
   "execution_count": 13,
   "metadata": {},
   "outputs": [],
   "source": [
    "extra_var = pd.merge(avg_elected, diversity, how='left', on='의안번호')\n",
    "extra_var = extra_var.rename(columns={\"당선횟수\": \"공동발의평균선수\"})\n",
    "extra_var = extra_var.rename(columns={\"의안번호\": \"법안코드\"})\n",
    "\n",
    "df = pd.merge(df, extra_var, how='left', on='법안코드')"
   ]
  },
  {
   "cell_type": "code",
   "execution_count": 14,
   "metadata": {},
   "outputs": [],
   "source": [
    "#상임위 상정 여부 변수\n",
    "\n",
    "for i in range(len(df)):\n",
    "    if type(df.loc[i, '위원회 상정일']) == pd._libs.tslibs.timestamps.Timestamp:\n",
    "        df.loc[i, '상임위 상정 여부'] = 1\n",
    "    else:\n",
    "        df.loc[i, '상임위 상정 여부'] = 0"
   ]
  },
  {
   "cell_type": "code",
   "execution_count": 34,
   "metadata": {},
   "outputs": [],
   "source": [
    "#소관위에서 대표발의자와 다른 정당 의원이 발언한 횟수 변수화하기\n",
    "\n",
    "hearings = pd.read_excel('hearings_count.xlsx') #회의록 데이터\n",
    "hearings = hearings.rename(columns={\"법안번호\": \"법안코드\"})\n",
    "hearings = hearings.loc[ hearings['법안코드'].isin(df['법안코드']) ].reset_index().drop(['index'],axis=1)\n",
    "hearings_df = pd.merge(hearings, df, how='left', on='법안코드')"
   ]
  },
  {
   "cell_type": "code",
   "execution_count": 35,
   "metadata": {},
   "outputs": [],
   "source": [
    "from datetime import datetime\n",
    "\n",
    "party_21th = pd.read_csv('party_21th.csv')\n",
    "party_21th = party_21th[['emp_nm', 'poly_nm']]\n",
    "party_21th = party_21th.rename(columns={'emp_nm':'화자'})\n",
    "df_merged = pd.merge(hearings_df, party_21th, how='left', on='화자')\n",
    "df_merged = df_merged.rename(columns={'정당':'제안자 정당'}).reset_index()\n",
    "df_merged = df_merged.rename(columns={'poly_nm':'화자 정당'})"
   ]
  },
  {
   "cell_type": "code",
   "execution_count": 36,
   "metadata": {},
   "outputs": [],
   "source": [
    "df_merged['상임위원장 정당'] = '더불어민주당'\n",
    "\n",
    "for i in range(len(df_merged)):\n",
    "    if df_merged.loc[i, '제안자'] == '위원장': #위원장이 발의한 경우 상임위원장 정당을 제안자 정당으로 본다\n",
    "        df_merged.loc[i, '제안자 정당'] = df_merged.loc[i, '상임위원장 정당']\n",
    "        \n",
    "for i in range(len(df_merged)):\n",
    "    if df_merged.loc[i, '제안자'] == '정부':   #정부가 발의한 경우 더불어민주당(20대 국회 하반기: 문재인 정부)을 제안자 정당으로 본다\n",
    "        df_merged.loc[i, '제안자 정당'] = '더불어민주당'"
   ]
  },
  {
   "cell_type": "code",
   "execution_count": 37,
   "metadata": {},
   "outputs": [],
   "source": [
    "bill_no = list(set(df_merged['법안코드']))\n",
    "\n",
    "cnt_list = []\n",
    "\n",
    "for no in bill_no:\n",
    "    bill_df = df_merged[df_merged['법안코드']==no].reset_index()\n",
    "    cnt = 0\n",
    "    for i in range(len(bill_df)):\n",
    "        if bill_df['제안자 정당'][0] != bill_df.loc[i, '화자 정당'] and type(bill_df.loc[i, '화자 정당']) == str:\n",
    "            cnt+=bill_df.loc[i, '횟수']\n",
    "    cnt_list.append(cnt)\n",
    "\n",
    "bill_cnt = pd.DataFrame({'법안코드':bill_no, '반대당발언횟수': cnt_list})"
   ]
  },
  {
   "cell_type": "code",
   "execution_count": 38,
   "metadata": {},
   "outputs": [],
   "source": [
    "bill_df = pd.merge(df, bill_cnt, how='left', on='법안코드')"
   ]
  },
  {
   "cell_type": "code",
   "execution_count": 41,
   "metadata": {},
   "outputs": [],
   "source": [
    "bill_df.to_csv('21th_bill_preprocessed.csv', encoding='utf-8-sig') #csv파일로 저장"
   ]
  },
  {
   "cell_type": "code",
   "execution_count": null,
   "metadata": {},
   "outputs": [],
   "source": []
  },
  {
   "cell_type": "code",
   "execution_count": null,
   "metadata": {},
   "outputs": [],
   "source": []
  },
  {
   "cell_type": "code",
   "execution_count": null,
   "metadata": {},
   "outputs": [],
   "source": []
  }
 ],
 "metadata": {
  "kernelspec": {
   "display_name": "Python 3",
   "language": "python",
   "name": "python3"
  },
  "language_info": {
   "codemirror_mode": {
    "name": "ipython",
    "version": 3
   },
   "file_extension": ".py",
   "mimetype": "text/x-python",
   "name": "python",
   "nbconvert_exporter": "python",
   "pygments_lexer": "ipython3",
   "version": "3.8.3"
  }
 },
 "nbformat": 4,
 "nbformat_minor": 4
}
