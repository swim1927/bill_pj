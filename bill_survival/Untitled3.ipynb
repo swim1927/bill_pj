{
 "cells": [
  {
   "cell_type": "code",
   "execution_count": 240,
   "metadata": {},
   "outputs": [],
   "source": [
    "import pandas as pd\n",
    "\n",
    "hearings = pd.read_excel('hearings_count.xlsx')"
   ]
  },
  {
   "cell_type": "code",
   "execution_count": 241,
   "metadata": {},
   "outputs": [
    {
     "data": {
      "text/plain": [
       "23126"
      ]
     },
     "execution_count": 241,
     "metadata": {},
     "output_type": "execute_result"
    }
   ],
   "source": [
    "len(hearings)"
   ]
  },
  {
   "cell_type": "code",
   "execution_count": 277,
   "metadata": {},
   "outputs": [],
   "source": [
    "df = pd.read_excel('20th_bills_history.xlsx')"
   ]
  },
  {
   "cell_type": "code",
   "execution_count": 243,
   "metadata": {},
   "outputs": [
    {
     "data": {
      "text/plain": [
       "Index(['의안번호', '임기대수', '법안코드', '법안명', '제안자', '소속정당', '당선횟수', '소속위1', '소속위2',\n",
       "       '소속위3', '소속위4', '소속위원회', '직책', '공동발의자수', '소관위1', '소관위2', '소관위3', '소관위4',\n",
       "       '소관위5', '소관위', '처리구분', '대안법안', '총소요일', '접수일자', '위원회 회부일', '위원회 상정일',\n",
       "       '위원회 처리일', '체계자구 회부일', '체계자구 상정일', '체계자구 처리일', '본회의 상정일', '본회의 의결일',\n",
       "       '정부이송', '공포', '소속정당명', '소속정당 구분', '소요개월', '접수_위원회회부', '접수_위원회상정',\n",
       "       '접수_위원회처리', '접수_체계회부', '접수_체계상정', '접수_체계처리', '접수_본회의상정', '접수_본회의의결',\n",
       "       '접수_정부이송', '접수_공포', '최종처리일', '현재일자', '총소요일수', '년도_접수일', '년도_처리일',\n",
       "       '월_접수일', '월_처리일', '제안', '위원회 회부', '위원회 상정', '위원회 처리', '체계자구 회부',\n",
       "       '체계자구 상정', '체계자구 처리', '본회의 상정', '본회의 의결', '정부이송.1', '공포.1', '처리단계',\n",
       "       '법안명 구분', '입법형태', '대안여부', '총 발의자 수', '총 발의자 수 구간', '선출형태', '지역구명',\n",
       "       '처리구분_8유형', '처리구분_3유형', '소관위 구분', '제안방식', '여야구분', '당선수구분', '의원입법',\n",
       "       '의원입법성과지수_구간', '차기국회당선', '제안자한자명', '법안수_가중치', '제안내용', 'Unnamed: 85',\n",
       "       'Unnamed: 86'],\n",
       "      dtype='object')"
      ]
     },
     "execution_count": 243,
     "metadata": {},
     "output_type": "execute_result"
    }
   ],
   "source": [
    "df.columns"
   ]
  },
  {
   "cell_type": "code",
   "execution_count": 278,
   "metadata": {},
   "outputs": [],
   "source": [
    "df = df[df['접수일자'] >= '2018-07-13'].reset_index()"
   ]
  },
  {
   "cell_type": "code",
   "execution_count": 279,
   "metadata": {},
   "outputs": [],
   "source": [
    "for i in range(len(df)):\n",
    "    if type(df.loc[i, '위원회 상정일']) == pd._libs.tslibs.timestamps.Timestamp:\n",
    "        df.loc[i, '상임위 상정 여부'] = 1\n",
    "    else:\n",
    "        df.loc[i, '상임위 상정 여부'] = 0"
   ]
  },
  {
   "cell_type": "code",
   "execution_count": 280,
   "metadata": {},
   "outputs": [],
   "source": [
    "df_re = df[['법안코드', '접수일자', '소관위', '제안자', '소속정당 구분', '상임위 상정 여부']]"
   ]
  },
  {
   "cell_type": "code",
   "execution_count": 281,
   "metadata": {},
   "outputs": [],
   "source": [
    "df_re = df_re.rename(columns={'법안코드': '법안번호', '소속정당 구분':'정당'})"
   ]
  },
  {
   "cell_type": "code",
   "execution_count": 282,
   "metadata": {},
   "outputs": [
    {
     "data": {
      "text/html": [
       "<div>\n",
       "<style scoped>\n",
       "    .dataframe tbody tr th:only-of-type {\n",
       "        vertical-align: middle;\n",
       "    }\n",
       "\n",
       "    .dataframe tbody tr th {\n",
       "        vertical-align: top;\n",
       "    }\n",
       "\n",
       "    .dataframe thead th {\n",
       "        text-align: right;\n",
       "    }\n",
       "</style>\n",
       "<table border=\"1\" class=\"dataframe\">\n",
       "  <thead>\n",
       "    <tr style=\"text-align: right;\">\n",
       "      <th></th>\n",
       "      <th>index</th>\n",
       "      <th>법안번호</th>\n",
       "      <th>접수일자</th>\n",
       "      <th>소관위</th>\n",
       "      <th>제안자</th>\n",
       "      <th>정당</th>\n",
       "      <th>상임위 상정 여부</th>\n",
       "    </tr>\n",
       "  </thead>\n",
       "  <tbody>\n",
       "    <tr>\n",
       "      <th>0</th>\n",
       "      <td>0</td>\n",
       "      <td>PRC_W1Z8Q0C7U1W3Y1R9A0W7O4Z8C7I1B9</td>\n",
       "      <td>2018-07-13</td>\n",
       "      <td>정무위원회</td>\n",
       "      <td>백혜련</td>\n",
       "      <td>더불어민주당</td>\n",
       "      <td>1.0</td>\n",
       "    </tr>\n",
       "    <tr>\n",
       "      <th>1</th>\n",
       "      <td>1</td>\n",
       "      <td>PRC_W1P8H0U7O1P3T1D9C0U4U1O3I3P4S1</td>\n",
       "      <td>2018-07-13</td>\n",
       "      <td>정무위원회</td>\n",
       "      <td>박정</td>\n",
       "      <td>더불어민주당</td>\n",
       "      <td>1.0</td>\n",
       "    </tr>\n",
       "    <tr>\n",
       "      <th>2</th>\n",
       "      <td>2</td>\n",
       "      <td>PRC_B1D8D0L7N1U3Z1B8O4G1K1M8C2A7Q7</td>\n",
       "      <td>2018-07-13</td>\n",
       "      <td>정무위원회</td>\n",
       "      <td>이인영</td>\n",
       "      <td>더불어민주당</td>\n",
       "      <td>1.0</td>\n",
       "    </tr>\n",
       "    <tr>\n",
       "      <th>3</th>\n",
       "      <td>3</td>\n",
       "      <td>PRC_B1L8S0W7D1P3O1H9G0J1D0M8G8C3K2</td>\n",
       "      <td>2018-07-13</td>\n",
       "      <td>기획재정위원회</td>\n",
       "      <td>김광수</td>\n",
       "      <td>민주평화당</td>\n",
       "      <td>1.0</td>\n",
       "    </tr>\n",
       "    <tr>\n",
       "      <th>4</th>\n",
       "      <td>4</td>\n",
       "      <td>PRC_R1T8S0N7Y1R3W1C8Q5V2J3D7Y1I9Q8</td>\n",
       "      <td>2018-07-13</td>\n",
       "      <td>기획재정위원회</td>\n",
       "      <td>김상훈</td>\n",
       "      <td>자유한국당</td>\n",
       "      <td>1.0</td>\n",
       "    </tr>\n",
       "    <tr>\n",
       "      <th>...</th>\n",
       "      <td>...</td>\n",
       "      <td>...</td>\n",
       "      <td>...</td>\n",
       "      <td>...</td>\n",
       "      <td>...</td>\n",
       "      <td>...</td>\n",
       "      <td>...</td>\n",
       "    </tr>\n",
       "    <tr>\n",
       "      <th>10227</th>\n",
       "      <td>10227</td>\n",
       "      <td>PRC_Q2Q0Q0K5Z0J6P1S5D3W2C2J1H5L3B1</td>\n",
       "      <td>2020-05-20</td>\n",
       "      <td>여성가족위원회</td>\n",
       "      <td>위원장</td>\n",
       "      <td>NaN</td>\n",
       "      <td>1.0</td>\n",
       "    </tr>\n",
       "    <tr>\n",
       "      <th>10228</th>\n",
       "      <td>10228</td>\n",
       "      <td>PRC_S2M0L0K5L0Y6Y1S5Z3S1B4J2N0F8J8</td>\n",
       "      <td>2020-05-20</td>\n",
       "      <td>여성가족위원회</td>\n",
       "      <td>위원장</td>\n",
       "      <td>NaN</td>\n",
       "      <td>1.0</td>\n",
       "    </tr>\n",
       "    <tr>\n",
       "      <th>10229</th>\n",
       "      <td>10229</td>\n",
       "      <td>PRC_V2N0M0H5D0B6G1L5N3I0O3W8F5B6C5</td>\n",
       "      <td>2020-05-20</td>\n",
       "      <td>여성가족위원회</td>\n",
       "      <td>위원장</td>\n",
       "      <td>NaN</td>\n",
       "      <td>1.0</td>\n",
       "    </tr>\n",
       "    <tr>\n",
       "      <th>10230</th>\n",
       "      <td>10230</td>\n",
       "      <td>PRC_K2F0C0Y5B2D2C1Z5B2F6T4S2K9N8V8</td>\n",
       "      <td>2020-05-22</td>\n",
       "      <td>법제사법위원회</td>\n",
       "      <td>김병관</td>\n",
       "      <td>더불어민주당</td>\n",
       "      <td>0.0</td>\n",
       "    </tr>\n",
       "    <tr>\n",
       "      <th>10231</th>\n",
       "      <td>10231</td>\n",
       "      <td>PRC_R2A0X0T5I2I2R1I4B5A6P3G2S7W8P0</td>\n",
       "      <td>2020-05-22</td>\n",
       "      <td>행정안전위원회</td>\n",
       "      <td>김병관</td>\n",
       "      <td>더불어민주당</td>\n",
       "      <td>0.0</td>\n",
       "    </tr>\n",
       "  </tbody>\n",
       "</table>\n",
       "<p>10232 rows × 7 columns</p>\n",
       "</div>"
      ],
      "text/plain": [
       "       index                                법안번호       접수일자      소관위  제안자  \\\n",
       "0          0  PRC_W1Z8Q0C7U1W3Y1R9A0W7O4Z8C7I1B9 2018-07-13    정무위원회  백혜련   \n",
       "1          1  PRC_W1P8H0U7O1P3T1D9C0U4U1O3I3P4S1 2018-07-13    정무위원회   박정   \n",
       "2          2  PRC_B1D8D0L7N1U3Z1B8O4G1K1M8C2A7Q7 2018-07-13    정무위원회  이인영   \n",
       "3          3  PRC_B1L8S0W7D1P3O1H9G0J1D0M8G8C3K2 2018-07-13  기획재정위원회  김광수   \n",
       "4          4  PRC_R1T8S0N7Y1R3W1C8Q5V2J3D7Y1I9Q8 2018-07-13  기획재정위원회  김상훈   \n",
       "...      ...                                 ...        ...      ...  ...   \n",
       "10227  10227  PRC_Q2Q0Q0K5Z0J6P1S5D3W2C2J1H5L3B1 2020-05-20  여성가족위원회  위원장   \n",
       "10228  10228  PRC_S2M0L0K5L0Y6Y1S5Z3S1B4J2N0F8J8 2020-05-20  여성가족위원회  위원장   \n",
       "10229  10229  PRC_V2N0M0H5D0B6G1L5N3I0O3W8F5B6C5 2020-05-20  여성가족위원회  위원장   \n",
       "10230  10230  PRC_K2F0C0Y5B2D2C1Z5B2F6T4S2K9N8V8 2020-05-22  법제사법위원회  김병관   \n",
       "10231  10231  PRC_R2A0X0T5I2I2R1I4B5A6P3G2S7W8P0 2020-05-22  행정안전위원회  김병관   \n",
       "\n",
       "           정당  상임위 상정 여부  \n",
       "0      더불어민주당        1.0  \n",
       "1      더불어민주당        1.0  \n",
       "2      더불어민주당        1.0  \n",
       "3       민주평화당        1.0  \n",
       "4       자유한국당        1.0  \n",
       "...       ...        ...  \n",
       "10227     NaN        1.0  \n",
       "10228     NaN        1.0  \n",
       "10229     NaN        1.0  \n",
       "10230  더불어민주당        0.0  \n",
       "10231  더불어민주당        0.0  \n",
       "\n",
       "[10232 rows x 7 columns]"
      ]
     },
     "execution_count": 282,
     "metadata": {},
     "output_type": "execute_result"
    }
   ],
   "source": [
    "df_re=df_re.reset_index()\n",
    "df_re"
   ]
  },
  {
   "cell_type": "code",
   "execution_count": 283,
   "metadata": {},
   "outputs": [],
   "source": [
    "df2 = pd.read_excel('21th_history.xlsx')\n",
    "\n",
    "for i in range(len(df2)):\n",
    "    if type(df2.loc[i, '위원회 상정일']) == pd._libs.tslibs.timestamps.Timestamp:\n",
    "        df2.loc[i, '상임위 상정 여부'] = 1\n",
    "    else:\n",
    "        df2.loc[i, '상임위 상정 여부'] = 0\n",
    "        \n",
    "        \n",
    "df_re2 = df2[['법안코드', '접수일자', '소관위', '제안자', '소속정당 구분', '상임위 상정 여부']]\n",
    "df_re2 = df_re2.rename(columns={'법안코드': '법안번호', '소속정당 구분':'정당'})"
   ]
  },
  {
   "cell_type": "code",
   "execution_count": 284,
   "metadata": {},
   "outputs": [],
   "source": [
    "bills = pd.concat([df_re, df_re2]).reset_index()\n",
    "del bills['index']\n",
    "del bills['level_0']"
   ]
  },
  {
   "cell_type": "code",
   "execution_count": 285,
   "metadata": {},
   "outputs": [],
   "source": [
    "df = pd.merge(hearings, bills, how='left', on='법안번호')"
   ]
  },
  {
   "cell_type": "code",
   "execution_count": 286,
   "metadata": {},
   "outputs": [],
   "source": [
    "party = pd.read_excel('party_20th.xlsx')"
   ]
  },
  {
   "cell_type": "code",
   "execution_count": 287,
   "metadata": {},
   "outputs": [],
   "source": [
    "from datetime import datetime\n",
    "period8 = party[['name', 'period 8']].rename(columns={'name':'화자'})\n",
    "df8 = df[df['접수일자'] <= datetime.fromisoformat('2018-12-18') ]\n",
    "df_merged8 = pd.merge(df8, period8, how='left', on='화자')"
   ]
  },
  {
   "cell_type": "code",
   "execution_count": 288,
   "metadata": {},
   "outputs": [],
   "source": [
    "period9 = party[['name', 'period 9']].rename(columns={'name':'화자'})\n",
    "df0 = df[df['접수일자'] > datetime.fromisoformat('2018-12-18')]\n",
    "df9 = df0[df0['접수일자'] <= datetime.fromisoformat('2019-08-16') ]\n",
    "df_merged9 = pd.merge(df9, period9, how='left', on='화자')"
   ]
  },
  {
   "cell_type": "code",
   "execution_count": 289,
   "metadata": {},
   "outputs": [],
   "source": [
    "period10 = party[['name', 'period 10']].rename(columns={'name':'화자'})\n",
    "df0 = df[df['접수일자'] > datetime.fromisoformat('2019-08-16')]\n",
    "df10 = df0[df0['접수일자'] <= datetime.fromisoformat('2020-05-29') ]\n",
    "df_merged10 = pd.merge(df10, period10, how='left', on='화자')"
   ]
  },
  {
   "cell_type": "code",
   "execution_count": 290,
   "metadata": {},
   "outputs": [],
   "source": [
    "party_21th = pd.read_csv('party_21th.csv')"
   ]
  },
  {
   "cell_type": "code",
   "execution_count": 291,
   "metadata": {},
   "outputs": [],
   "source": [
    "party_21th = party_21th[['emp_nm', 'poly_nm']]"
   ]
  },
  {
   "cell_type": "code",
   "execution_count": 292,
   "metadata": {},
   "outputs": [],
   "source": [
    "party_21th = party_21th.rename(columns={'emp_nm':'화자'})"
   ]
  },
  {
   "cell_type": "code",
   "execution_count": 293,
   "metadata": {},
   "outputs": [],
   "source": [
    "df11 = df[df['접수일자'] > datetime.fromisoformat('2020-05-29')]\n",
    "df_merged11 = pd.merge(df11, party_21th, how='left', on='화자')"
   ]
  },
  {
   "cell_type": "code",
   "execution_count": 294,
   "metadata": {},
   "outputs": [],
   "source": [
    "df_merged8 = df_merged8.rename(columns={'period 8':'화자 정당'})\n",
    "df_merged9 = df_merged9.rename(columns={'period 9':'화자 정당'})\n",
    "df_merged10 = df_merged10.rename(columns={'period 10':'화자 정당'})\n",
    "df_merged11 = df_merged11.rename(columns={'poly_nm':'화자 정당'})"
   ]
  },
  {
   "cell_type": "code",
   "execution_count": 295,
   "metadata": {},
   "outputs": [],
   "source": [
    "df_re = pd.concat([df_merged8, df_merged9, df_merged10, df_merged11])"
   ]
  },
  {
   "cell_type": "code",
   "execution_count": 296,
   "metadata": {},
   "outputs": [],
   "source": [
    "df_re = df_re.rename(columns={'정당':'제안자 정당'})"
   ]
  },
  {
   "cell_type": "code",
   "execution_count": 297,
   "metadata": {},
   "outputs": [],
   "source": [
    "df_re = df_re.reset_index()"
   ]
  },
  {
   "cell_type": "code",
   "execution_count": 298,
   "metadata": {},
   "outputs": [],
   "source": [
    "bill_no = list(set(df_re['법안번호']))"
   ]
  },
  {
   "cell_type": "code",
   "execution_count": 299,
   "metadata": {},
   "outputs": [],
   "source": [
    "for i in range(len(df_re)):\n",
    "    if df_re.loc[i, '접수일자'] < datetime.fromisoformat('2020-05-29'): #20대 국회 하반기인 경우\n",
    "        if df_re.loc[i, '소관위'] == '법제사법위원회' or df_re.loc[i, '소관위'] == '국토교통위원회' or df_re.loc[i, '소관위'] == '보건복지위원회':\n",
    "            df_re.loc[i, '상임위원장 정당'] = '자유한국당'\n",
    "        elif df_re.loc[i, '소관위'] == '외교통일위원회' or df_re.loc[i, '소관위'] == '환경노동위원회' or df_re.loc[i, '소관위'] == '산업통상자원중소벤처기업위원회':\n",
    "            df_re.loc[i, '상임위원장 정당'] = '자유한국당'\n",
    "        elif df_re.loc[i, '소관위'] == '교육위원회':\n",
    "            df_re.loc[i, '상임위원장 정당'] = '자유한국당'\n",
    "        elif df_re.loc[i, '소관위'] == '과학기술정보방송통신위원회' or df_re.loc[i, '소관위'] == '국방위원회' or df_re.loc[i, '소관위'] == '국회운영위원회':\n",
    "            df_re.loc[i, '상임위원장 정당'] = '더불어민주당'\n",
    "        elif df_re.loc[i, '소관위'] == '기획재정위원회' or df_re.loc[i, '소관위'] == '정무위원회' or df_re.loc[i, '소관위'] == '행정안전위원회':\n",
    "            df_re.loc[i, '상임위원장 정당'] = '더불어민주당'\n",
    "        elif df_re.loc[i, '소관위'] == '여성가족위원회' or df_re.loc[i, '소관위'] == '문화체육관광위원회':\n",
    "            df_re.loc[i, '상임위원장 정당'] = '더불어민주당'\n",
    "        elif df_re.loc[i, '소관위'] == '농림축산식품해양수산위원회' or df_re.loc[i, '소관위'] == '정보위원회':\n",
    "            df_re.loc[i, '상임위원장 정당'] = '민생당'\n",
    "    else:\n",
    "        df_re.loc[i, '상임위원장 정당'] = '더불어민주당'\n"
   ]
  },
  {
   "cell_type": "code",
   "execution_count": 300,
   "metadata": {},
   "outputs": [],
   "source": [
    "for i in range(len(df_re)):\n",
    "    if df_re.loc[i, '제안자'] == '위원장':\n",
    "        df_re.loc[i, '제안자 정당'] = df_re.loc[i, '상임위원장 정당']"
   ]
  },
  {
   "cell_type": "code",
   "execution_count": 301,
   "metadata": {},
   "outputs": [],
   "source": [
    "for i in range(len(df_re)):\n",
    "    if df_re.loc[i, '제안자'] == '정부':\n",
    "        df_re.loc[i, '제안자 정당'] = '더불어민주당'"
   ]
  },
  {
   "cell_type": "code",
   "execution_count": 302,
   "metadata": {},
   "outputs": [],
   "source": [
    "bill_no = list(set(df_re['법안번호']))\n",
    "\n",
    "cnt_list = []\n",
    "\n",
    "for no in bill_no:\n",
    "    bill_df = df_re[df_re['법안번호']==no].reset_index()\n",
    "    cnt = 0\n",
    "    for i in range(len(bill_df)):\n",
    "        if bill_df['제안자 정당'][0] != bill_df.loc[i, '화자 정당'] and type(bill_df.loc[i, '화자 정당']) == str:\n",
    "            cnt+=bill_df.loc[i, '횟수']\n",
    "    cnt_list.append(cnt)\n",
    "\n",
    "bill_cnt = pd.DataFrame({'법안번호':bill_no, '반대당발언횟수': cnt_list})"
   ]
  },
  {
   "cell_type": "code",
   "execution_count": 303,
   "metadata": {},
   "outputs": [],
   "source": [
    "bill_df_fin = pd.merge(bills, bill_cnt, how='left', on='법안번호')"
   ]
  },
  {
   "cell_type": "code",
   "execution_count": 304,
   "metadata": {},
   "outputs": [
    {
     "data": {
      "text/html": [
       "<div>\n",
       "<style scoped>\n",
       "    .dataframe tbody tr th:only-of-type {\n",
       "        vertical-align: middle;\n",
       "    }\n",
       "\n",
       "    .dataframe tbody tr th {\n",
       "        vertical-align: top;\n",
       "    }\n",
       "\n",
       "    .dataframe thead th {\n",
       "        text-align: right;\n",
       "    }\n",
       "</style>\n",
       "<table border=\"1\" class=\"dataframe\">\n",
       "  <thead>\n",
       "    <tr style=\"text-align: right;\">\n",
       "      <th></th>\n",
       "      <th>법안번호</th>\n",
       "      <th>접수일자</th>\n",
       "      <th>소관위</th>\n",
       "      <th>제안자</th>\n",
       "      <th>정당</th>\n",
       "      <th>상임위 상정 여부</th>\n",
       "      <th>반대당발언횟수</th>\n",
       "    </tr>\n",
       "  </thead>\n",
       "  <tbody>\n",
       "    <tr>\n",
       "      <th>0</th>\n",
       "      <td>PRC_W1Z8Q0C7U1W3Y1R9A0W7O4Z8C7I1B9</td>\n",
       "      <td>2018-07-13</td>\n",
       "      <td>정무위원회</td>\n",
       "      <td>백혜련</td>\n",
       "      <td>더불어민주당</td>\n",
       "      <td>1.0</td>\n",
       "      <td>NaN</td>\n",
       "    </tr>\n",
       "    <tr>\n",
       "      <th>1</th>\n",
       "      <td>PRC_W1P8H0U7O1P3T1D9C0U4U1O3I3P4S1</td>\n",
       "      <td>2018-07-13</td>\n",
       "      <td>정무위원회</td>\n",
       "      <td>박정</td>\n",
       "      <td>더불어민주당</td>\n",
       "      <td>1.0</td>\n",
       "      <td>NaN</td>\n",
       "    </tr>\n",
       "    <tr>\n",
       "      <th>2</th>\n",
       "      <td>PRC_B1D8D0L7N1U3Z1B8O4G1K1M8C2A7Q7</td>\n",
       "      <td>2018-07-13</td>\n",
       "      <td>정무위원회</td>\n",
       "      <td>이인영</td>\n",
       "      <td>더불어민주당</td>\n",
       "      <td>1.0</td>\n",
       "      <td>NaN</td>\n",
       "    </tr>\n",
       "    <tr>\n",
       "      <th>3</th>\n",
       "      <td>PRC_B1L8S0W7D1P3O1H9G0J1D0M8G8C3K2</td>\n",
       "      <td>2018-07-13</td>\n",
       "      <td>기획재정위원회</td>\n",
       "      <td>김광수</td>\n",
       "      <td>민주평화당</td>\n",
       "      <td>1.0</td>\n",
       "      <td>NaN</td>\n",
       "    </tr>\n",
       "    <tr>\n",
       "      <th>4</th>\n",
       "      <td>PRC_R1T8S0N7Y1R3W1C8Q5V2J3D7Y1I9Q8</td>\n",
       "      <td>2018-07-13</td>\n",
       "      <td>기획재정위원회</td>\n",
       "      <td>김상훈</td>\n",
       "      <td>자유한국당</td>\n",
       "      <td>1.0</td>\n",
       "      <td>NaN</td>\n",
       "    </tr>\n",
       "    <tr>\n",
       "      <th>...</th>\n",
       "      <td>...</td>\n",
       "      <td>...</td>\n",
       "      <td>...</td>\n",
       "      <td>...</td>\n",
       "      <td>...</td>\n",
       "      <td>...</td>\n",
       "      <td>...</td>\n",
       "    </tr>\n",
       "    <tr>\n",
       "      <th>16553</th>\n",
       "      <td>PRC_K2G0C1V2I1L0E1F0Y5L2I0Y7R4H7T3</td>\n",
       "      <td>2020-12-15</td>\n",
       "      <td>국토교통위원회</td>\n",
       "      <td>이주환</td>\n",
       "      <td>국민의힘</td>\n",
       "      <td>0.0</td>\n",
       "      <td>NaN</td>\n",
       "    </tr>\n",
       "    <tr>\n",
       "      <th>16554</th>\n",
       "      <td>PRC_M2M0O1F2C1F5Q1R0Z2L6Q3O0B7H7R8</td>\n",
       "      <td>2020-12-15</td>\n",
       "      <td>국토교통위원회</td>\n",
       "      <td>윤재갑</td>\n",
       "      <td>더불어민주당</td>\n",
       "      <td>0.0</td>\n",
       "      <td>NaN</td>\n",
       "    </tr>\n",
       "    <tr>\n",
       "      <th>16555</th>\n",
       "      <td>PRC_R2I0U1U2Z1O5F1I0W1G0R4K9F5O7K2</td>\n",
       "      <td>2020-12-15</td>\n",
       "      <td>정무위원회</td>\n",
       "      <td>윤창현</td>\n",
       "      <td>국민의힘</td>\n",
       "      <td>0.0</td>\n",
       "      <td>NaN</td>\n",
       "    </tr>\n",
       "    <tr>\n",
       "      <th>16556</th>\n",
       "      <td>PRC_O2A0R1C2R1L5B1T0M0H8S3C8B5K2D8</td>\n",
       "      <td>2020-12-15</td>\n",
       "      <td>행정안전위원회</td>\n",
       "      <td>박대출</td>\n",
       "      <td>국민의힘</td>\n",
       "      <td>0.0</td>\n",
       "      <td>NaN</td>\n",
       "    </tr>\n",
       "    <tr>\n",
       "      <th>16557</th>\n",
       "      <td>PRC_I2Z0A1T2Q1S5G1O0G0B3O5Q4J5A0W6</td>\n",
       "      <td>2020-12-15</td>\n",
       "      <td>과학기술정보방송통신위원회</td>\n",
       "      <td>홍석준</td>\n",
       "      <td>국민의힘</td>\n",
       "      <td>0.0</td>\n",
       "      <td>NaN</td>\n",
       "    </tr>\n",
       "  </tbody>\n",
       "</table>\n",
       "<p>16558 rows × 7 columns</p>\n",
       "</div>"
      ],
      "text/plain": [
       "                                     법안번호       접수일자            소관위  제안자  \\\n",
       "0      PRC_W1Z8Q0C7U1W3Y1R9A0W7O4Z8C7I1B9 2018-07-13          정무위원회  백혜련   \n",
       "1      PRC_W1P8H0U7O1P3T1D9C0U4U1O3I3P4S1 2018-07-13          정무위원회   박정   \n",
       "2      PRC_B1D8D0L7N1U3Z1B8O4G1K1M8C2A7Q7 2018-07-13          정무위원회  이인영   \n",
       "3      PRC_B1L8S0W7D1P3O1H9G0J1D0M8G8C3K2 2018-07-13        기획재정위원회  김광수   \n",
       "4      PRC_R1T8S0N7Y1R3W1C8Q5V2J3D7Y1I9Q8 2018-07-13        기획재정위원회  김상훈   \n",
       "...                                   ...        ...            ...  ...   \n",
       "16553  PRC_K2G0C1V2I1L0E1F0Y5L2I0Y7R4H7T3 2020-12-15        국토교통위원회  이주환   \n",
       "16554  PRC_M2M0O1F2C1F5Q1R0Z2L6Q3O0B7H7R8 2020-12-15        국토교통위원회  윤재갑   \n",
       "16555  PRC_R2I0U1U2Z1O5F1I0W1G0R4K9F5O7K2 2020-12-15          정무위원회  윤창현   \n",
       "16556  PRC_O2A0R1C2R1L5B1T0M0H8S3C8B5K2D8 2020-12-15        행정안전위원회  박대출   \n",
       "16557  PRC_I2Z0A1T2Q1S5G1O0G0B3O5Q4J5A0W6 2020-12-15  과학기술정보방송통신위원회  홍석준   \n",
       "\n",
       "           정당  상임위 상정 여부  반대당발언횟수  \n",
       "0      더불어민주당        1.0      NaN  \n",
       "1      더불어민주당        1.0      NaN  \n",
       "2      더불어민주당        1.0      NaN  \n",
       "3       민주평화당        1.0      NaN  \n",
       "4       자유한국당        1.0      NaN  \n",
       "...       ...        ...      ...  \n",
       "16553    국민의힘        0.0      NaN  \n",
       "16554  더불어민주당        0.0      NaN  \n",
       "16555    국민의힘        0.0      NaN  \n",
       "16556    국민의힘        0.0      NaN  \n",
       "16557    국민의힘        0.0      NaN  \n",
       "\n",
       "[16558 rows x 7 columns]"
      ]
     },
     "execution_count": 304,
     "metadata": {},
     "output_type": "execute_result"
    }
   ],
   "source": [
    "bill_df_fin"
   ]
  },
  {
   "cell_type": "code",
   "execution_count": 305,
   "metadata": {},
   "outputs": [],
   "source": [
    "bill_df_fin.to_csv('df_bills_w_remarks_cnt_re2.csv', encoding='utf-8-sig')"
   ]
  },
  {
   "cell_type": "code",
   "execution_count": null,
   "metadata": {},
   "outputs": [],
   "source": []
  },
  {
   "cell_type": "code",
   "execution_count": 5,
   "metadata": {},
   "outputs": [],
   "source": [
    "import pandas as pd\n",
    "\n",
    "df20 = pd.read_excel('20th_sponsorship_0104.xlsx')"
   ]
  },
  {
   "cell_type": "code",
   "execution_count": 17,
   "metadata": {},
   "outputs": [
    {
     "data": {
      "text/plain": [
       "Index(['의안번호', '의안명', '제안일자', '처리결과', '제안자직급', '대수', '의안종류', '대표발의자',\n",
       "       '대표발의자 정당', '의안제안 코드', '당선횟수', '당선지역', '한자이름', '발의자', '발의자 정당', '구분',\n",
       "       '발의자당선횟수', '발의자당선지역', '발의자한자이름'],\n",
       "      dtype='object')"
      ]
     },
     "execution_count": 17,
     "metadata": {},
     "output_type": "execute_result"
    }
   ],
   "source": [
    "df20.columns"
   ]
  },
  {
   "cell_type": "code",
   "execution_count": 8,
   "metadata": {},
   "outputs": [],
   "source": [
    "for i in range(len(df20)):\n",
    "    if df20.loc[i, '발의자당선횟수'] == '초선':\n",
    "        df20.loc[i, '발의자당선횟수'] = 1\n",
    "    elif df20.loc[i, '발의자당선횟수'] == '재선':\n",
    "        df20.loc[i, '발의자당선횟수'] = 2\n",
    "    elif df20.loc[i, '발의자당선횟수'] == '3선':\n",
    "        df20.loc[i, '발의자당선횟수'] = 3\n",
    "    elif df20.loc[i, '발의자당선횟수'] == '4선':\n",
    "        df20.loc[i, '발의자당선횟수'] = 4\n",
    "    elif df20.loc[i, '발의자당선횟수'] == '5선':\n",
    "        df20.loc[i, '발의자당선횟수'] = 5\n",
    "    elif df20.loc[i, '발의자당선횟수'] == '6선':\n",
    "        df20.loc[i, '발의자당선횟수'] = 6\n",
    "    elif df20.loc[i, '발의자당선횟수'] == '7선':\n",
    "        df20.loc[i, '발의자당선횟수'] = 7\n",
    "    elif df20.loc[i, '발의자당선횟수'] == '8선':\n",
    "        df20.loc[i, '발의자당선횟수'] = 8"
   ]
  },
  {
   "cell_type": "code",
   "execution_count": 9,
   "metadata": {},
   "outputs": [],
   "source": [
    "df20.to_csv('20th_sponsorship_0104.csv', encoding='utf-8-sig')"
   ]
  },
  {
   "cell_type": "code",
   "execution_count": 10,
   "metadata": {},
   "outputs": [],
   "source": [
    "df20_re = df20[df20['구분']!='대표']  #대표발의자 제외하기"
   ]
  },
  {
   "cell_type": "code",
   "execution_count": 14,
   "metadata": {},
   "outputs": [],
   "source": [
    "df20_re = df20_re.fillna(0)"
   ]
  },
  {
   "cell_type": "code",
   "execution_count": 16,
   "metadata": {},
   "outputs": [],
   "source": [
    "import numpy as np\n",
    "extra_var1 = df20_re.pivot_table(index=['의안번호'], values=['발의자당선횟수'], aggfunc=np.mean)"
   ]
  },
  {
   "cell_type": "code",
   "execution_count": 18,
   "metadata": {},
   "outputs": [],
   "source": [
    "df20_re = df20_re[df20_re['발의자당선횟수']!=0]"
   ]
  },
  {
   "cell_type": "code",
   "execution_count": 25,
   "metadata": {},
   "outputs": [
    {
     "name": "stderr",
     "output_type": "stream",
     "text": [
      "100%|█████████████████████████████████████████| 21913/21913 [04:38<00:00, 78.79it/s]\n"
     ]
    }
   ],
   "source": [
    "from tqdm import tqdm\n",
    "\n",
    "party_set = []\n",
    "\n",
    "bill_no = list(set(df20_re['의안번호']))\n",
    "\n",
    "for no in tqdm(bill_no):\n",
    "    bill = df20_re[df20_re['의안번호']==no]\n",
    "    parties = set(bill['발의자 정당'])\n",
    "    if len(parties) >= 2:\n",
    "        party_set.append(1)\n",
    "    else:\n",
    "        party_set.append(0)"
   ]
  },
  {
   "cell_type": "code",
   "execution_count": 26,
   "metadata": {},
   "outputs": [],
   "source": [
    "extra_var2 = pd.DataFrame({'의안번호': bill_no, '정당다양성':party_set})"
   ]
  },
  {
   "cell_type": "code",
   "execution_count": 29,
   "metadata": {},
   "outputs": [],
   "source": [
    "extra_var1 = extra_var1.reset_index()"
   ]
  },
  {
   "cell_type": "code",
   "execution_count": 31,
   "metadata": {},
   "outputs": [],
   "source": [
    "df_extra = pd.merge(extra_var1, extra_var2, how='left', on='의안번호')"
   ]
  },
  {
   "cell_type": "code",
   "execution_count": 67,
   "metadata": {},
   "outputs": [],
   "source": [
    "df_extra.to_csv('20th_bill_extra.csv', encoding='utf-8-sig')"
   ]
  },
  {
   "cell_type": "code",
   "execution_count": null,
   "metadata": {},
   "outputs": [],
   "source": []
  },
  {
   "cell_type": "code",
   "execution_count": 34,
   "metadata": {},
   "outputs": [],
   "source": [
    "df21 = pd.read_excel('21th_sponsorship_0104.xlsx')"
   ]
  },
  {
   "cell_type": "code",
   "execution_count": 37,
   "metadata": {},
   "outputs": [],
   "source": [
    "for i in range(len(df21)):\n",
    "    if df21.loc[i, '당선횟수'] == '초선':\n",
    "        df21.loc[i, '당선횟수'] = 1\n",
    "    elif df21.loc[i, '당선횟수'] == '재선':\n",
    "        df21.loc[i, '당선횟수'] = 2\n",
    "    elif df21.loc[i, '당선횟수'] == '3선':\n",
    "        df21.loc[i, '당선횟수'] = 3\n",
    "    elif df21.loc[i, '당선횟수'] == '4선':\n",
    "        df21.loc[i, '당선횟수'] = 4\n",
    "    elif df21.loc[i, '당선횟수'] == '5선':\n",
    "        df21.loc[i, '당선횟수'] = 5\n",
    "    elif df21.loc[i, '당선횟수'] == '6선':\n",
    "        df21.loc[i, '당선횟수'] = 6\n",
    "    elif df21.loc[i, '당선횟수'] == '7선':\n",
    "        df21.loc[i, '당선횟수'] = 7\n",
    "    elif df21.loc[i, '당선횟수'] == '8선':\n",
    "        df21.loc[i, '당선횟수'] = 8"
   ]
  },
  {
   "cell_type": "code",
   "execution_count": 38,
   "metadata": {},
   "outputs": [],
   "source": [
    "df21.to_csv('21th_sponsorship_0104.csv', encoding='utf-8-sig')"
   ]
  },
  {
   "cell_type": "code",
   "execution_count": 39,
   "metadata": {},
   "outputs": [],
   "source": [
    "df21_re = df21[df21['구분']!='대표']  #대표발의자 제외하기\n",
    "df21_re = df21_re.fillna(0)"
   ]
  },
  {
   "cell_type": "code",
   "execution_count": 41,
   "metadata": {},
   "outputs": [],
   "source": [
    "extra_var1_1 = df21_re.pivot_table(index=['의안번호'], values=['당선횟수'], aggfunc=np.mean)\n",
    "extra_var1_1 = extra_var1_1.reset_index()"
   ]
  },
  {
   "cell_type": "code",
   "execution_count": 86,
   "metadata": {},
   "outputs": [
    {
     "data": {
      "text/html": [
       "<div>\n",
       "<style scoped>\n",
       "    .dataframe tbody tr th:only-of-type {\n",
       "        vertical-align: middle;\n",
       "    }\n",
       "\n",
       "    .dataframe tbody tr th {\n",
       "        vertical-align: top;\n",
       "    }\n",
       "\n",
       "    .dataframe thead th {\n",
       "        text-align: right;\n",
       "    }\n",
       "</style>\n",
       "<table border=\"1\" class=\"dataframe\">\n",
       "  <thead>\n",
       "    <tr style=\"text-align: right;\">\n",
       "      <th></th>\n",
       "      <th>의안번호</th>\n",
       "      <th>당선횟수</th>\n",
       "    </tr>\n",
       "  </thead>\n",
       "  <tbody>\n",
       "    <tr>\n",
       "      <th>0</th>\n",
       "      <td>PRC_A2A0D1P2T1X6K1X5T4Y4T2H5A8S2G6</td>\n",
       "      <td>1.555556</td>\n",
       "    </tr>\n",
       "    <tr>\n",
       "      <th>1</th>\n",
       "      <td>PRC_A2A0J0O6W0A8F1Z5U0P9X0O3F0E4R3</td>\n",
       "      <td>2.166667</td>\n",
       "    </tr>\n",
       "    <tr>\n",
       "      <th>2</th>\n",
       "      <td>PRC_A2A0K1E2K1H5T0S9R3B6G1M0J3V1T0</td>\n",
       "      <td>1.125000</td>\n",
       "    </tr>\n",
       "    <tr>\n",
       "      <th>3</th>\n",
       "      <td>PRC_A2A0O0N6D2X3A1B3N3V7V1R8T9Z6N3</td>\n",
       "      <td>1.333333</td>\n",
       "    </tr>\n",
       "    <tr>\n",
       "      <th>4</th>\n",
       "      <td>PRC_A2A0T0R9F1S4W1Q5N2G5I3Q0J4F9H2</td>\n",
       "      <td>1.818182</td>\n",
       "    </tr>\n",
       "    <tr>\n",
       "      <th>...</th>\n",
       "      <td>...</td>\n",
       "      <td>...</td>\n",
       "    </tr>\n",
       "    <tr>\n",
       "      <th>6519</th>\n",
       "      <td>PRC_Z2Z0B0G7Y1S4J1Y7H4L5S4W5I9C8E8</td>\n",
       "      <td>1.333333</td>\n",
       "    </tr>\n",
       "    <tr>\n",
       "      <th>6520</th>\n",
       "      <td>PRC_Z2Z0H1Q1E2F6T1K2L0C2T1F2D1M1O5</td>\n",
       "      <td>1.444444</td>\n",
       "    </tr>\n",
       "    <tr>\n",
       "      <th>6521</th>\n",
       "      <td>PRC_Z2Z0I0M9X1D4N1H0Z5L4J4I2X3U8A3</td>\n",
       "      <td>1.300000</td>\n",
       "    </tr>\n",
       "    <tr>\n",
       "      <th>6522</th>\n",
       "      <td>PRC_Z2Z0K0U9V1D1Z1Z7Y3E1R3I1O9F4D9</td>\n",
       "      <td>1.300000</td>\n",
       "    </tr>\n",
       "    <tr>\n",
       "      <th>6523</th>\n",
       "      <td>PRC_Z2Z0R0Q7N1E0N1B7C1T2S1D4C7Y7I5</td>\n",
       "      <td>1.454545</td>\n",
       "    </tr>\n",
       "  </tbody>\n",
       "</table>\n",
       "<p>6524 rows × 2 columns</p>\n",
       "</div>"
      ],
      "text/plain": [
       "                                    의안번호      당선횟수\n",
       "0     PRC_A2A0D1P2T1X6K1X5T4Y4T2H5A8S2G6  1.555556\n",
       "1     PRC_A2A0J0O6W0A8F1Z5U0P9X0O3F0E4R3  2.166667\n",
       "2     PRC_A2A0K1E2K1H5T0S9R3B6G1M0J3V1T0  1.125000\n",
       "3     PRC_A2A0O0N6D2X3A1B3N3V7V1R8T9Z6N3  1.333333\n",
       "4     PRC_A2A0T0R9F1S4W1Q5N2G5I3Q0J4F9H2  1.818182\n",
       "...                                  ...       ...\n",
       "6519  PRC_Z2Z0B0G7Y1S4J1Y7H4L5S4W5I9C8E8  1.333333\n",
       "6520  PRC_Z2Z0H1Q1E2F6T1K2L0C2T1F2D1M1O5  1.444444\n",
       "6521  PRC_Z2Z0I0M9X1D4N1H0Z5L4J4I2X3U8A3  1.300000\n",
       "6522  PRC_Z2Z0K0U9V1D1Z1Z7Y3E1R3I1O9F4D9  1.300000\n",
       "6523  PRC_Z2Z0R0Q7N1E0N1B7C1T2S1D4C7Y7I5  1.454545\n",
       "\n",
       "[6524 rows x 2 columns]"
      ]
     },
     "execution_count": 86,
     "metadata": {},
     "output_type": "execute_result"
    }
   ],
   "source": [
    "extra_var1_1"
   ]
  },
  {
   "cell_type": "code",
   "execution_count": 42,
   "metadata": {},
   "outputs": [],
   "source": [
    "df21_re = df21_re[df21_re['당선횟수']!=0]"
   ]
  },
  {
   "cell_type": "code",
   "execution_count": 44,
   "metadata": {},
   "outputs": [
    {
     "name": "stderr",
     "output_type": "stream",
     "text": [
      "100%|██████████████████████████████████████████| 6494/6494 [00:26<00:00, 247.40it/s]\n"
     ]
    }
   ],
   "source": [
    "party_set_re = []\n",
    "\n",
    "bill_no_re = list(set(df21_re['의안번호']))\n",
    "\n",
    "for no in tqdm(bill_no_re):\n",
    "    bill = df21_re[df21_re['의안번호']==no]\n",
    "    parties = set(bill['정당'])\n",
    "    party_set_re.append(len(parties))\n",
    "    if len(parties) >= 2:\n",
    "        party_set_re.append(1)\n",
    "    else:\n",
    "        party_set_re.append(0)"
   ]
  },
  {
   "cell_type": "code",
   "execution_count": 45,
   "metadata": {},
   "outputs": [],
   "source": [
    "extra_var2_1 = pd.DataFrame({'의안번호': bill_no_re, '정당다양성':party_set_re})"
   ]
  },
  {
   "cell_type": "code",
   "execution_count": 68,
   "metadata": {},
   "outputs": [],
   "source": [
    "df_extra_re = pd.merge(extra_var1_1, extra_var2_1, how='left', on='의안번호')"
   ]
  },
  {
   "cell_type": "code",
   "execution_count": 69,
   "metadata": {},
   "outputs": [
    {
     "data": {
      "text/html": [
       "<div>\n",
       "<style scoped>\n",
       "    .dataframe tbody tr th:only-of-type {\n",
       "        vertical-align: middle;\n",
       "    }\n",
       "\n",
       "    .dataframe tbody tr th {\n",
       "        vertical-align: top;\n",
       "    }\n",
       "\n",
       "    .dataframe thead th {\n",
       "        text-align: right;\n",
       "    }\n",
       "</style>\n",
       "<table border=\"1\" class=\"dataframe\">\n",
       "  <thead>\n",
       "    <tr style=\"text-align: right;\">\n",
       "      <th></th>\n",
       "      <th>의안번호</th>\n",
       "      <th>당선횟수</th>\n",
       "      <th>정당다양성</th>\n",
       "    </tr>\n",
       "  </thead>\n",
       "  <tbody>\n",
       "    <tr>\n",
       "      <th>0</th>\n",
       "      <td>PRC_A2A0D1P2T1X6K1X5T4Y4T2H5A8S2G6</td>\n",
       "      <td>1.555556</td>\n",
       "      <td>0.0</td>\n",
       "    </tr>\n",
       "    <tr>\n",
       "      <th>1</th>\n",
       "      <td>PRC_A2A0J0O6W0A8F1Z5U0P9X0O3F0E4R3</td>\n",
       "      <td>2.166667</td>\n",
       "      <td>0.0</td>\n",
       "    </tr>\n",
       "    <tr>\n",
       "      <th>2</th>\n",
       "      <td>PRC_A2A0K1E2K1H5T0S9R3B6G1M0J3V1T0</td>\n",
       "      <td>1.125000</td>\n",
       "      <td>0.0</td>\n",
       "    </tr>\n",
       "    <tr>\n",
       "      <th>3</th>\n",
       "      <td>PRC_A2A0O0N6D2X3A1B3N3V7V1R8T9Z6N3</td>\n",
       "      <td>1.333333</td>\n",
       "      <td>0.0</td>\n",
       "    </tr>\n",
       "    <tr>\n",
       "      <th>4</th>\n",
       "      <td>PRC_A2A0T0R9F1S4W1Q5N2G5I3Q0J4F9H2</td>\n",
       "      <td>1.818182</td>\n",
       "      <td>0.0</td>\n",
       "    </tr>\n",
       "    <tr>\n",
       "      <th>...</th>\n",
       "      <td>...</td>\n",
       "      <td>...</td>\n",
       "      <td>...</td>\n",
       "    </tr>\n",
       "    <tr>\n",
       "      <th>6519</th>\n",
       "      <td>PRC_Z2Z0B0G7Y1S4J1Y7H4L5S4W5I9C8E8</td>\n",
       "      <td>1.333333</td>\n",
       "      <td>0.0</td>\n",
       "    </tr>\n",
       "    <tr>\n",
       "      <th>6520</th>\n",
       "      <td>PRC_Z2Z0H1Q1E2F6T1K2L0C2T1F2D1M1O5</td>\n",
       "      <td>1.444444</td>\n",
       "      <td>0.0</td>\n",
       "    </tr>\n",
       "    <tr>\n",
       "      <th>6521</th>\n",
       "      <td>PRC_Z2Z0I0M9X1D4N1H0Z5L4J4I2X3U8A3</td>\n",
       "      <td>1.300000</td>\n",
       "      <td>1.0</td>\n",
       "    </tr>\n",
       "    <tr>\n",
       "      <th>6522</th>\n",
       "      <td>PRC_Z2Z0K0U9V1D1Z1Z7Y3E1R3I1O9F4D9</td>\n",
       "      <td>1.300000</td>\n",
       "      <td>0.0</td>\n",
       "    </tr>\n",
       "    <tr>\n",
       "      <th>6523</th>\n",
       "      <td>PRC_Z2Z0R0Q7N1E0N1B7C1T2S1D4C7Y7I5</td>\n",
       "      <td>1.454545</td>\n",
       "      <td>0.0</td>\n",
       "    </tr>\n",
       "  </tbody>\n",
       "</table>\n",
       "<p>6524 rows × 3 columns</p>\n",
       "</div>"
      ],
      "text/plain": [
       "                                    의안번호      당선횟수  정당다양성\n",
       "0     PRC_A2A0D1P2T1X6K1X5T4Y4T2H5A8S2G6  1.555556    0.0\n",
       "1     PRC_A2A0J0O6W0A8F1Z5U0P9X0O3F0E4R3  2.166667    0.0\n",
       "2     PRC_A2A0K1E2K1H5T0S9R3B6G1M0J3V1T0  1.125000    0.0\n",
       "3     PRC_A2A0O0N6D2X3A1B3N3V7V1R8T9Z6N3  1.333333    0.0\n",
       "4     PRC_A2A0T0R9F1S4W1Q5N2G5I3Q0J4F9H2  1.818182    0.0\n",
       "...                                  ...       ...    ...\n",
       "6519  PRC_Z2Z0B0G7Y1S4J1Y7H4L5S4W5I9C8E8  1.333333    0.0\n",
       "6520  PRC_Z2Z0H1Q1E2F6T1K2L0C2T1F2D1M1O5  1.444444    0.0\n",
       "6521  PRC_Z2Z0I0M9X1D4N1H0Z5L4J4I2X3U8A3  1.300000    1.0\n",
       "6522  PRC_Z2Z0K0U9V1D1Z1Z7Y3E1R3I1O9F4D9  1.300000    0.0\n",
       "6523  PRC_Z2Z0R0Q7N1E0N1B7C1T2S1D4C7Y7I5  1.454545    0.0\n",
       "\n",
       "[6524 rows x 3 columns]"
      ]
     },
     "execution_count": 69,
     "metadata": {},
     "output_type": "execute_result"
    }
   ],
   "source": [
    "df_extra_re"
   ]
  },
  {
   "cell_type": "code",
   "execution_count": 70,
   "metadata": {},
   "outputs": [],
   "source": [
    "df_extra_re = df_extra_re.rename(columns={\"당선횟수\": \"공동발의평균선수\"})"
   ]
  },
  {
   "cell_type": "code",
   "execution_count": 71,
   "metadata": {},
   "outputs": [],
   "source": [
    "df_extra = df_extra.rename(columns={\"발의자당선횟수\": \"공동발의평균선수\"})"
   ]
  },
  {
   "cell_type": "code",
   "execution_count": 72,
   "metadata": {},
   "outputs": [],
   "source": [
    "df_extra_re.to_csv('21th_bill_extra.csv', encoding='utf-8-sig')"
   ]
  },
  {
   "cell_type": "code",
   "execution_count": 73,
   "metadata": {},
   "outputs": [],
   "source": [
    "df_extra_cc = pd.concat([df_extra, df_extra_re])"
   ]
  },
  {
   "cell_type": "code",
   "execution_count": 74,
   "metadata": {},
   "outputs": [],
   "source": [
    "df_extra_cc.to_csv('bill_extra_var.csv', encoding='utf-8-sig')"
   ]
  },
  {
   "cell_type": "code",
   "execution_count": 53,
   "metadata": {},
   "outputs": [],
   "source": [
    "bill_df = pd.read_csv('12월31일예측/bills_1231.csv')"
   ]
  },
  {
   "cell_type": "code",
   "execution_count": 76,
   "metadata": {},
   "outputs": [],
   "source": [
    "df_extra_cc = df_extra_cc.rename(columns = {'의안번호':'법안코드'})"
   ]
  },
  {
   "cell_type": "code",
   "execution_count": 78,
   "metadata": {},
   "outputs": [],
   "source": [
    "df_fin = pd.merge(bill_df, df_extra_cc, how='left', on='법안코드')\n",
    "df_fin.to_csv('bills_df_0104.csv', encoding='utf-8-sig')"
   ]
  },
  {
   "cell_type": "code",
   "execution_count": 80,
   "metadata": {},
   "outputs": [
    {
     "data": {
      "text/plain": [
       "Index(['Unnamed: 0', 'Unnamed: 0.1', 'Unnamed: 0.1.1', '의안번호', '법안코드', '법안명',\n",
       "       '제안자', '접수일자', '당선횟수', '공동발의자수', '입법형태', '선출형태', '처리구분', 'num_seats',\n",
       "       'party', '상임위원장 소속', '보건복지위원회', '행정안전위원회', '산업통상자원중소벤처기업위원회',\n",
       "       '문화체육관광위원회', '국회운영위원회', '법제사법위원회', '국방위원회', '국토교통위원회', '기획재정위원회',\n",
       "       '특별위원회', '여성가족위원회', '농림축산식품해양수산위원회', '외교통일위원회', '정보위원회',\n",
       "       '과학기술정보방송통신위원회', '환경노동위원회', '교육위원회', '정무위원회', '제안내용', '제안내용_re', '국회',\n",
       "       '정당/선거', '안보', '사법', '행정', '재정', '중소기업', '에너지', '부동산', '금융', '자동차',\n",
       "       '건설/기계/조선', '유통/무역', 'IT', '농축산', '복지', '의료/보건', '도시/교통', '교육', '환경',\n",
       "       '노동', '치안/안전', '가족', '여성', '예체능', '분류', '분류값', '상임위 상정 여부', '반대당발언횟수',\n",
       "       '당직여부', '의원_성별', '공동발의평균선수', '정당다양성'],\n",
       "      dtype='object')"
      ]
     },
     "execution_count": 80,
     "metadata": {},
     "output_type": "execute_result"
    }
   ],
   "source": [
    "df_fin.columns"
   ]
  },
  {
   "cell_type": "code",
   "execution_count": 109,
   "metadata": {},
   "outputs": [],
   "source": [
    "data = df_fin[['의안번호', '법안코드', '법안명', '제안자', '접수일자', '당선횟수', '공동발의자수', \n",
    "       '입법형태', '선출형태', '처리구분', 'num_seats', 'party', '보건복지위원회',\n",
    "       '행정안전위원회', '산업통상자원중소벤처기업위원회', '문화체육관광위원회', '국회운영위원회', '법제사법위원회',\n",
    "       '국방위원회', '국토교통위원회', '기획재정위원회', '특별위원회', '여성가족위원회', '농림축산식품해양수산위원회',\n",
    "       '외교통일위원회', '정보위원회', '과학기술정보방송통신위원회', '환경노동위원회', '교육위원회', '정무위원회',\n",
    "       '국회', '정당/선거', '안보', '사법', '행정', '재정', '중소기업', '에너지',\n",
    "       '부동산', '금융', '자동차', '건설/기계/조선', '유통/무역', 'IT', '농축산', '복지', '의료/보건',\n",
    "       '도시/교통', '교육', '환경', '노동', '치안/안전', '가족', '여성', '예체능','상임위 상정 여부', '반대당발언횟수', '공동발의평균선수',  '정당다양성']]\n",
    "\n",
    "data = pd.get_dummies(data,columns=['입법형태','선출형태', 'party','상임위 상정 여부', '정당다양성'])\n",
    "data['id']=range(len(data))\n",
    "\n",
    "train = data.sample(13246,replace=False,random_state=2020).reset_index().drop(['index'],axis=1)\n",
    "test = data.loc[ ~data['id'].isin(train['id']) ].reset_index().drop(['index'],axis=1)\n",
    "\n",
    "col = list(data.columns)\n",
    "col.remove('처리구분')\n",
    "col.remove('id')\n",
    "col.remove('접수일자')\n",
    "col.remove('의안번호')\n",
    "col.remove('제안자')\n",
    "col.remove('법안명')\n",
    "col.remove('법안코드')"
   ]
  },
  {
   "cell_type": "code",
   "execution_count": 157,
   "metadata": {},
   "outputs": [
    {
     "data": {
      "text/plain": [
       "GridSearchCV(cv=5,\n",
       "             estimator=XGBClassifier(base_score=None, booster=None,\n",
       "                                     colsample_bylevel=None,\n",
       "                                     colsample_bynode=None,\n",
       "                                     colsample_bytree=None, gamma=None,\n",
       "                                     gpu_id=None, importance_type='gain',\n",
       "                                     interaction_constraints=None,\n",
       "                                     learning_rate=None, max_delta_step=None,\n",
       "                                     max_depth=None, min_child_weight=None,\n",
       "                                     missing=nan, monotone_constraints=None,\n",
       "                                     n_estimators=100, n_jobs=None,\n",
       "                                     num_parallel_tree=None, random_state=None,\n",
       "                                     reg_alpha=None, reg_lambda=None,\n",
       "                                     scale_pos_weight=None, subsample=None,\n",
       "                                     tree_method=None, validate_parameters=None,\n",
       "                                     verbosity=None),\n",
       "             param_grid=[{'learning_rate': [0.05], 'max_depth': [6, 7],\n",
       "                          'n_estimators': [200, 300, 400],\n",
       "                          'reg_alpha': [0, 1, 2],\n",
       "                          'scale_pos_weight': [1.2, 2.6]}],\n",
       "             return_train_score=True, scoring='accuracy')"
      ]
     },
     "execution_count": 157,
     "metadata": {},
     "output_type": "execute_result"
    }
   ],
   "source": [
    "from sklearn.model_selection import GridSearchCV\n",
    "from xgboost import XGBClassifier\n",
    "\n",
    "params = [\n",
    "    {'n_estimators': [200, 300, 400],\n",
    "    'learning_rate': [0.05],\n",
    "    'max_depth':[6,7],\n",
    "    'scale_pos_weight':[1.2, 2.6],\n",
    "    'reg_alpha': [0, 1, 2]}    \n",
    "]\n",
    "\n",
    "xgb = XGBClassifier()\n",
    "\n",
    "grid_search = GridSearchCV(xgb, params, cv=5, scoring='accuracy', return_train_score=True)\n",
    "grid_search.fit(train[col], train['처리구분'])"
   ]
  },
  {
   "cell_type": "code",
   "execution_count": 158,
   "metadata": {},
   "outputs": [
    {
     "data": {
      "text/plain": [
       "{'learning_rate': 0.05,\n",
       " 'max_depth': 7,\n",
       " 'n_estimators': 400,\n",
       " 'reg_alpha': 2,\n",
       " 'scale_pos_weight': 1.2}"
      ]
     },
     "execution_count": 158,
     "metadata": {},
     "output_type": "execute_result"
    }
   ],
   "source": [
    "grid_search.best_params_"
   ]
  },
  {
   "cell_type": "code",
   "execution_count": 161,
   "metadata": {},
   "outputs": [
    {
     "data": {
      "text/plain": [
       "0.8544685990338164"
      ]
     },
     "execution_count": 161,
     "metadata": {},
     "output_type": "execute_result"
    }
   ],
   "source": [
    "from xgboost import XGBClassifier\n",
    "xgb = XGBClassifier( n_estimators = 400, learning_rate = 0.05, max_depth = 7, \n",
    "                    random_state=2020, verbosity =0, scale_pos_weight =1.2, reg_alpha=1,\n",
    "                   num_parallel_tree=1, tree_method='exact')\n",
    "xgb.fit(train[col], train['처리구분'])\n",
    "predictions = xgb.predict(test[col])\n",
    "(pd.Series(predictions)==test['처리구분']).mean()"
   ]
  },
  {
   "cell_type": "code",
   "execution_count": 156,
   "metadata": {},
   "outputs": [
    {
     "name": "stdout",
     "output_type": "stream",
     "text": [
      "0.8438777751661359\n",
      "0.00706018092176811\n"
     ]
    }
   ],
   "source": [
    "from sklearn.model_selection import cross_val_score\n",
    "xgb = XGBClassifier(n_estimators = 400, learning_rate = 0.05, max_depth = 7, \n",
    "                    random_state=2020, verbosity =0, scale_pos_weight =1.2, reg_alpha=1,\n",
    "                   num_parallel_tree=1, tree_method='exact')\n",
    "\n",
    "scores = cross_val_score(xgb, train[col], train['처리구분'], scoring='accuracy', cv=5)\n",
    "print(scores.mean())\n",
    "print(scores.std())"
   ]
  },
  {
   "cell_type": "code",
   "execution_count": 162,
   "metadata": {},
   "outputs": [],
   "source": [
    "from xgboost import XGBRegressor\n",
    "xgb = XGBRegressor( n_estimators = 400, learning_rate = 0.05, max_depth = 6,  objective='binary:logistic', \n",
    "                    random_state=2020, verbosity =0, scale_pos_weight =1.2, reg_alpha=1,\n",
    "                   num_parallel_tree=1, tree_method='exact' )\n",
    "xgb.fit(train[col], train['처리구분'])\n",
    "test['predictions'] = xgb.predict(test[col])\n",
    "\n",
    "\n",
    "import pickle\n",
    "file_name = \"bill_prediction_10104.pkl\"\n",
    "\n",
    "# save\n",
    "pickle.dump(xgb, open(file_name, \"wb\"))\n",
    "\n",
    "# load\n",
    "xgb_model_loaded = pickle.load(open(file_name, \"rb\"))\n",
    "test.to_csv('test_0104.csv', encoding='utf-8-sig')"
   ]
  },
  {
   "cell_type": "code",
   "execution_count": 111,
   "metadata": {},
   "outputs": [],
   "source": [
    "feature_imp = xgb.feature_importances_\n",
    "imp_df = pd.DataFrame({'var':col,\n",
    "                        'imp':feature_imp})\n",
    "\n",
    "imp_df.sort_values(['imp'],ascending=False)\n",
    "imp_df = imp_df.sort_values(['imp'],ascending=False)\n",
    "imp_df.to_csv('feature_importances_0104.csv', encoding='utf-8-sig')"
   ]
  },
  {
   "cell_type": "code",
   "execution_count": null,
   "metadata": {},
   "outputs": [],
   "source": [
    "feature_imp = xgb.feature_importances_\n",
    "imp_df = pd.DataFrame({'var':col,\n",
    "                        'imp':feature_imp})\n",
    "\n",
    "imp_df.sort_values(['imp'],ascending=False)"
   ]
  },
  {
   "cell_type": "code",
   "execution_count": 102,
   "metadata": {},
   "outputs": [
    {
     "data": {
      "image/png": "[encoded data removed]",
      "text/plain": [
       "<Figure size 576x684 with 1 Axes>"
      ]
     },
     "metadata": {
      "needs_background": "light"
     },
     "output_type": "display_data"
    }
   ],
   "source": [
    "import shap\n",
    "\n",
    "from matplotlib import font_manager, rc\n",
    "import platform \n",
    "import matplotlib.pyplot as plt\n",
    "%matplotlib inline\n",
    "\n",
    "# 한글 폰트 사용\n",
    "if platform.system() == 'Windows': \n",
    "    path = 'C:/Users/user/AppData/Local/Microsoft/Windows/Fonts/NanumBarunGothic.ttf'\n",
    "    font_name = font_manager.FontProperties(fname=path).get_name()\n",
    "    rc('font', family=font_name)\n",
    "elif platform.system() == 'Darwin':\n",
    "    rc('font', family='AppleGothic')\n",
    "    \n",
    "    \n",
    "    \n",
    "explainer = shap.TreeExplainer(xgb)\n",
    "shap_values = explainer.shap_values( data[col] )\n",
    "shap.summary_plot( shap_values , data[col] , plot_type=\"bar\" )"
   ]
  },
  {
   "cell_type": "code",
   "execution_count": 103,
   "metadata": {},
   "outputs": [
    {
     "name": "stderr",
     "output_type": "stream",
     "text": [
      "Glyph 8722 missing from current font.\n",
      "Glyph 8722 missing from current font.\n"
     ]
    },
    {
     "data": {
      "image/png": "[encoded data removed]",
      "text/plain": [
       "<Figure size 576x396 with 2 Axes>"
      ]
     },
     "metadata": {
      "needs_background": "light"
     },
     "output_type": "display_data"
    }
   ],
   "source": [
    "shap.summary_plot(shap_values, data[col],plot_type = \"dot\", plot_size=0.2  )"
   ]
  },
  {
   "cell_type": "code",
   "execution_count": null,
   "metadata": {},
   "outputs": [],
   "source": []
  },
  {
   "cell_type": "code",
   "execution_count": 147,
   "metadata": {},
   "outputs": [],
   "source": [
    "#제안내용 텍스트로 분류해보기\n",
    "\n",
    "from keras.utils import np_utils\n",
    "\n",
    "\n",
    "data = df_fin[['의안번호', '법안코드', '법안명', '제안자', '접수일자', '당선횟수', '공동발의자수', \n",
    "       '입법형태', '선출형태', '처리구분', 'num_seats', 'party', '제안내용_re', '보건복지위원회',\n",
    "       '행정안전위원회', '산업통상자원중소벤처기업위원회', '문화체육관광위원회', '국회운영위원회', '법제사법위원회',\n",
    "       '국방위원회', '국토교통위원회', '기획재정위원회', '특별위원회', '여성가족위원회', '농림축산식품해양수산위원회',\n",
    "       '외교통일위원회', '정보위원회', '과학기술정보방송통신위원회', '환경노동위원회', '교육위원회', '정무위원회',\n",
    "       '국회', '정당/선거', '안보', '사법', '행정', '재정', '중소기업', '에너지',\n",
    "       '부동산', '금융', '자동차', '건설/기계/조선', '유통/무역', 'IT', '농축산', '복지', '의료/보건',\n",
    "       '도시/교통', '교육', '환경', '노동', '치안/안전', '가족', '여성', '예체능','상임위 상정 여부', '반대당발언횟수', '공동발의평균선수',  '정당다양성']]\n",
    "\n",
    "data = pd.get_dummies(data,columns=['입법형태','선출형태', 'party','상임위 상정 여부', '정당다양성'])\n",
    "data['id']=range(len(data))\n",
    "\n",
    "train = data.sample(13246,replace=False,random_state=2020).reset_index().drop(['index'],axis=1)\n",
    "test = data.loc[ ~data['id'].isin(train['id']) ].reset_index().drop(['index'],axis=1)\n",
    "\n",
    "\n",
    "train_X = train['제안내용_re']\n",
    "train_Y = train['처리구분']\n",
    "\n",
    "test_X = test['제안내용_re']\n",
    "test_Y = test['처리구분']"
   ]
  },
  {
   "cell_type": "code",
   "execution_count": 148,
   "metadata": {},
   "outputs": [],
   "source": [
    "for i in range(len(train_X)):\n",
    "    if type(train_X[i]) == float:\n",
    "        #print(i, x[i])\n",
    "        train_X[i] = 'NaN'"
   ]
  },
  {
   "cell_type": "code",
   "execution_count": 134,
   "metadata": {},
   "outputs": [
    {
     "data": {
      "text/plain": [
       "['NaN']"
      ]
     },
     "execution_count": 134,
     "metadata": {},
     "output_type": "execute_result"
    }
   ],
   "source": [
    "tagger.morphs('NaN')"
   ]
  },
  {
   "cell_type": "code",
   "execution_count": 149,
   "metadata": {},
   "outputs": [],
   "source": [
    "from eunjeon import Mecab\n",
    "tagger = Mecab()\n",
    "\n",
    "sentences = []\n",
    "for text in train_X:\n",
    "    morphs = tagger.morphs(text)\n",
    "    sentences.append(morphs)"
   ]
  },
  {
   "cell_type": "code",
   "execution_count": 150,
   "metadata": {},
   "outputs": [],
   "source": [
    "from tensorflow.keras.preprocessing.text import Tokenizer\n",
    "from tensorflow.keras.preprocessing.sequence import pad_sequences\n",
    "\n",
    "tokenizer = Tokenizer()\n",
    "tokenizer.fit_on_texts(sentences)\n",
    "train_X = tokenizer.texts_to_sequences(sentences)\n",
    "train_X = pad_sequences(train_X, padding='post')"
   ]
  },
  {
   "cell_type": "code",
   "execution_count": 137,
   "metadata": {},
   "outputs": [],
   "source": [
    "from gensim.models import Word2Vec as w2v\n",
    "w2v_model = w2v.load('word2vec.model') #모델 불러오기\n",
    "\n",
    "def get_vector(word):\n",
    "    if w2v_model.wv.__contains__(word):\n",
    "        return w2v_model.wv.__getitem__(word)\n",
    "    else:\n",
    "        return None"
   ]
  },
  {
   "cell_type": "code",
   "execution_count": 151,
   "metadata": {},
   "outputs": [],
   "source": [
    "vocab_size = len(tokenizer.word_index) + 1\n",
    "embedding_matrix = np.zeros((vocab_size, 20))\n",
    "\n",
    "for word, i in tokenizer.word_index.items():\n",
    "    temp = get_vector(word)\n",
    "    if temp is not None:\n",
    "        embedding_matrix[i] = temp"
   ]
  },
  {
   "cell_type": "code",
   "execution_count": 152,
   "metadata": {},
   "outputs": [],
   "source": [
    "import tensorflow as tf\n",
    "from tensorflow.keras.models import Sequential\n",
    "from tensorflow.keras.layers import Dense, Embedding, Flatten\n",
    "\n",
    "x_encoded = tokenizer.texts_to_sequences(sentences)\n",
    "max_len = max(len(l) for l in x_encoded)"
   ]
  },
  {
   "cell_type": "code",
   "execution_count": 143,
   "metadata": {},
   "outputs": [
    {
     "data": {
      "text/plain": [
       "7378"
      ]
     },
     "execution_count": 143,
     "metadata": {},
     "output_type": "execute_result"
    }
   ],
   "source": [
    "max_len"
   ]
  },
  {
   "cell_type": "code",
   "execution_count": 153,
   "metadata": {},
   "outputs": [
    {
     "name": "stdout",
     "output_type": "stream",
     "text": [
      "Model: \"sequential_2\"\n",
      "_________________________________________________________________\n",
      "Layer (type)                 Output Shape              Param #   \n",
      "=================================================================\n",
      "embedding_2 (Embedding)      (None, 7378, 20)          389640    \n",
      "_________________________________________________________________\n",
      "lstm_2 (LSTM)                (None, 20)                3280      \n",
      "_________________________________________________________________\n",
      "dense_2 (Dense)              (None, 1)                 21        \n",
      "=================================================================\n",
      "Total params: 392,941\n",
      "Trainable params: 3,301\n",
      "Non-trainable params: 389,640\n",
      "_________________________________________________________________\n"
     ]
    }
   ],
   "source": [
    "model = tf.keras.Sequential([\n",
    "    tf.keras.layers.Embedding(vocab_size, 20, weights=[embedding_matrix], input_length= max_len, trainable=False),\n",
    "    tf.keras.layers.LSTM(units=20),\n",
    "    tf.keras.layers.Dense(1, activation='sigmoid')\n",
    "])\n",
    "\n",
    "model.compile(optimizer='adam', loss='binary_crossentropy', metrics=['accuracy'])\n",
    "model.summary()"
   ]
  },
  {
   "cell_type": "code",
   "execution_count": 145,
   "metadata": {},
   "outputs": [],
   "source": [
    "from tensorflow.keras.callbacks import EarlyStopping, ModelCheckpoint\n",
    "es = EarlyStopping(monitor='val_loss', mode='min', verbose=1, patience=4)\n",
    "mc = ModelCheckpoint('best_model.h5', monitor='val_acc', mode='max', verbose=1, save_best_only=True)"
   ]
  },
  {
   "cell_type": "code",
   "execution_count": 155,
   "metadata": {
    "collapsed": true,
    "jupyter": {
     "outputs_hidden": true
    }
   },
   "outputs": [
    {
     "name": "stdout",
     "output_type": "stream",
     "text": [
      "Epoch 1/10\n",
      "414/414 [==============================] - ETA: 0s - loss: 0.5940 - accuracy: 0.7266WARNING:tensorflow:Model was constructed with shape (None, 7378) for input Tensor(\"embedding_2_input:0\", shape=(None, 7378), dtype=float32), but it was called on an input with incompatible shape (None, 1).\n"
     ]
    },
    {
     "ename": "UnimplementedError",
     "evalue": " Cast string to float is not supported\n\t [[node sequential_2/Cast (defined at <ipython-input-155-a1b68e911080>:1) ]] [Op:__inference_test_function_12488]\n\nFunction call stack:\ntest_function\n",
     "output_type": "error",
     "traceback": [
      "\u001b[1;31m---------------------------------------------------------------------------\u001b[0m",
      "\u001b[1;31mUnimplementedError\u001b[0m                        Traceback (most recent call last)",
      "\u001b[1;32m<ipython-input-155-a1b68e911080>\u001b[0m in \u001b[0;36m<module>\u001b[1;34m\u001b[0m\n\u001b[1;32m----> 1\u001b[1;33m \u001b[0mhistory\u001b[0m \u001b[1;33m=\u001b[0m \u001b[0mmodel\u001b[0m\u001b[1;33m.\u001b[0m\u001b[0mfit\u001b[0m\u001b[1;33m(\u001b[0m\u001b[0mtrain_X\u001b[0m\u001b[1;33m,\u001b[0m \u001b[0mtrain_Y\u001b[0m\u001b[1;33m,\u001b[0m \u001b[0mepochs\u001b[0m\u001b[1;33m=\u001b[0m\u001b[1;36m10\u001b[0m\u001b[1;33m,\u001b[0m \u001b[0mbatch_size\u001b[0m\u001b[1;33m=\u001b[0m\u001b[1;36m32\u001b[0m\u001b[1;33m,\u001b[0m \u001b[0mcallbacks\u001b[0m\u001b[1;33m=\u001b[0m\u001b[1;33m[\u001b[0m\u001b[0mes\u001b[0m\u001b[1;33m,\u001b[0m \u001b[0mmc\u001b[0m\u001b[1;33m]\u001b[0m\u001b[1;33m,\u001b[0m \u001b[0mvalidation_data\u001b[0m\u001b[1;33m=\u001b[0m\u001b[1;33m(\u001b[0m\u001b[0mtest_X\u001b[0m\u001b[1;33m,\u001b[0m \u001b[0mtest_Y\u001b[0m\u001b[1;33m)\u001b[0m\u001b[1;33m)\u001b[0m\u001b[1;33m\u001b[0m\u001b[1;33m\u001b[0m\u001b[0m\n\u001b[0m",
      "\u001b[1;32m~\\anaconda3\\lib\\site-packages\\tensorflow\\python\\keras\\engine\\training.py\u001b[0m in \u001b[0;36m_method_wrapper\u001b[1;34m(self, *args, **kwargs)\u001b[0m\n\u001b[0;32m    106\u001b[0m   \u001b[1;32mdef\u001b[0m \u001b[0m_method_wrapper\u001b[0m\u001b[1;33m(\u001b[0m\u001b[0mself\u001b[0m\u001b[1;33m,\u001b[0m \u001b[1;33m*\u001b[0m\u001b[0margs\u001b[0m\u001b[1;33m,\u001b[0m \u001b[1;33m**\u001b[0m\u001b[0mkwargs\u001b[0m\u001b[1;33m)\u001b[0m\u001b[1;33m:\u001b[0m\u001b[1;33m\u001b[0m\u001b[1;33m\u001b[0m\u001b[0m\n\u001b[0;32m    107\u001b[0m     \u001b[1;32mif\u001b[0m \u001b[1;32mnot\u001b[0m \u001b[0mself\u001b[0m\u001b[1;33m.\u001b[0m\u001b[0m_in_multi_worker_mode\u001b[0m\u001b[1;33m(\u001b[0m\u001b[1;33m)\u001b[0m\u001b[1;33m:\u001b[0m  \u001b[1;31m# pylint: disable=protected-access\u001b[0m\u001b[1;33m\u001b[0m\u001b[1;33m\u001b[0m\u001b[0m\n\u001b[1;32m--> 108\u001b[1;33m       \u001b[1;32mreturn\u001b[0m \u001b[0mmethod\u001b[0m\u001b[1;33m(\u001b[0m\u001b[0mself\u001b[0m\u001b[1;33m,\u001b[0m \u001b[1;33m*\u001b[0m\u001b[0margs\u001b[0m\u001b[1;33m,\u001b[0m \u001b[1;33m**\u001b[0m\u001b[0mkwargs\u001b[0m\u001b[1;33m)\u001b[0m\u001b[1;33m\u001b[0m\u001b[1;33m\u001b[0m\u001b[0m\n\u001b[0m\u001b[0;32m    109\u001b[0m \u001b[1;33m\u001b[0m\u001b[0m\n\u001b[0;32m    110\u001b[0m     \u001b[1;31m# Running inside `run_distribute_coordinator` already.\u001b[0m\u001b[1;33m\u001b[0m\u001b[1;33m\u001b[0m\u001b[1;33m\u001b[0m\u001b[0m\n",
      "\u001b[1;32m~\\anaconda3\\lib\\site-packages\\tensorflow\\python\\keras\\engine\\training.py\u001b[0m in \u001b[0;36mfit\u001b[1;34m(self, x, y, batch_size, epochs, verbose, callbacks, validation_split, validation_data, shuffle, class_weight, sample_weight, initial_epoch, steps_per_epoch, validation_steps, validation_batch_size, validation_freq, max_queue_size, workers, use_multiprocessing)\u001b[0m\n\u001b[0;32m   1121\u001b[0m                 \u001b[0mmodel\u001b[0m\u001b[1;33m=\u001b[0m\u001b[0mself\u001b[0m\u001b[1;33m,\u001b[0m\u001b[1;33m\u001b[0m\u001b[1;33m\u001b[0m\u001b[0m\n\u001b[0;32m   1122\u001b[0m                 steps_per_execution=self._steps_per_execution)\n\u001b[1;32m-> 1123\u001b[1;33m           val_logs = self.evaluate(\n\u001b[0m\u001b[0;32m   1124\u001b[0m               \u001b[0mx\u001b[0m\u001b[1;33m=\u001b[0m\u001b[0mval_x\u001b[0m\u001b[1;33m,\u001b[0m\u001b[1;33m\u001b[0m\u001b[1;33m\u001b[0m\u001b[0m\n\u001b[0;32m   1125\u001b[0m               \u001b[0my\u001b[0m\u001b[1;33m=\u001b[0m\u001b[0mval_y\u001b[0m\u001b[1;33m,\u001b[0m\u001b[1;33m\u001b[0m\u001b[1;33m\u001b[0m\u001b[0m\n",
      "\u001b[1;32m~\\anaconda3\\lib\\site-packages\\tensorflow\\python\\keras\\engine\\training.py\u001b[0m in \u001b[0;36m_method_wrapper\u001b[1;34m(self, *args, **kwargs)\u001b[0m\n\u001b[0;32m    106\u001b[0m   \u001b[1;32mdef\u001b[0m \u001b[0m_method_wrapper\u001b[0m\u001b[1;33m(\u001b[0m\u001b[0mself\u001b[0m\u001b[1;33m,\u001b[0m \u001b[1;33m*\u001b[0m\u001b[0margs\u001b[0m\u001b[1;33m,\u001b[0m \u001b[1;33m**\u001b[0m\u001b[0mkwargs\u001b[0m\u001b[1;33m)\u001b[0m\u001b[1;33m:\u001b[0m\u001b[1;33m\u001b[0m\u001b[1;33m\u001b[0m\u001b[0m\n\u001b[0;32m    107\u001b[0m     \u001b[1;32mif\u001b[0m \u001b[1;32mnot\u001b[0m \u001b[0mself\u001b[0m\u001b[1;33m.\u001b[0m\u001b[0m_in_multi_worker_mode\u001b[0m\u001b[1;33m(\u001b[0m\u001b[1;33m)\u001b[0m\u001b[1;33m:\u001b[0m  \u001b[1;31m# pylint: disable=protected-access\u001b[0m\u001b[1;33m\u001b[0m\u001b[1;33m\u001b[0m\u001b[0m\n\u001b[1;32m--> 108\u001b[1;33m       \u001b[1;32mreturn\u001b[0m \u001b[0mmethod\u001b[0m\u001b[1;33m(\u001b[0m\u001b[0mself\u001b[0m\u001b[1;33m,\u001b[0m \u001b[1;33m*\u001b[0m\u001b[0margs\u001b[0m\u001b[1;33m,\u001b[0m \u001b[1;33m**\u001b[0m\u001b[0mkwargs\u001b[0m\u001b[1;33m)\u001b[0m\u001b[1;33m\u001b[0m\u001b[1;33m\u001b[0m\u001b[0m\n\u001b[0m\u001b[0;32m    109\u001b[0m \u001b[1;33m\u001b[0m\u001b[0m\n\u001b[0;32m    110\u001b[0m     \u001b[1;31m# Running inside `run_distribute_coordinator` already.\u001b[0m\u001b[1;33m\u001b[0m\u001b[1;33m\u001b[0m\u001b[1;33m\u001b[0m\u001b[0m\n",
      "\u001b[1;32m~\\anaconda3\\lib\\site-packages\\tensorflow\\python\\keras\\engine\\training.py\u001b[0m in \u001b[0;36mevaluate\u001b[1;34m(self, x, y, batch_size, verbose, sample_weight, steps, callbacks, max_queue_size, workers, use_multiprocessing, return_dict)\u001b[0m\n\u001b[0;32m   1377\u001b[0m             \u001b[1;32mwith\u001b[0m \u001b[0mtrace\u001b[0m\u001b[1;33m.\u001b[0m\u001b[0mTrace\u001b[0m\u001b[1;33m(\u001b[0m\u001b[1;34m'TraceContext'\u001b[0m\u001b[1;33m,\u001b[0m \u001b[0mgraph_type\u001b[0m\u001b[1;33m=\u001b[0m\u001b[1;34m'test'\u001b[0m\u001b[1;33m,\u001b[0m \u001b[0mstep_num\u001b[0m\u001b[1;33m=\u001b[0m\u001b[0mstep\u001b[0m\u001b[1;33m)\u001b[0m\u001b[1;33m:\u001b[0m\u001b[1;33m\u001b[0m\u001b[1;33m\u001b[0m\u001b[0m\n\u001b[0;32m   1378\u001b[0m               \u001b[0mcallbacks\u001b[0m\u001b[1;33m.\u001b[0m\u001b[0mon_test_batch_begin\u001b[0m\u001b[1;33m(\u001b[0m\u001b[0mstep\u001b[0m\u001b[1;33m)\u001b[0m\u001b[1;33m\u001b[0m\u001b[1;33m\u001b[0m\u001b[0m\n\u001b[1;32m-> 1379\u001b[1;33m               \u001b[0mtmp_logs\u001b[0m \u001b[1;33m=\u001b[0m \u001b[0mtest_function\u001b[0m\u001b[1;33m(\u001b[0m\u001b[0miterator\u001b[0m\u001b[1;33m)\u001b[0m\u001b[1;33m\u001b[0m\u001b[1;33m\u001b[0m\u001b[0m\n\u001b[0m\u001b[0;32m   1380\u001b[0m               \u001b[1;32mif\u001b[0m \u001b[0mdata_handler\u001b[0m\u001b[1;33m.\u001b[0m\u001b[0mshould_sync\u001b[0m\u001b[1;33m:\u001b[0m\u001b[1;33m\u001b[0m\u001b[1;33m\u001b[0m\u001b[0m\n\u001b[0;32m   1381\u001b[0m                 \u001b[0mcontext\u001b[0m\u001b[1;33m.\u001b[0m\u001b[0masync_wait\u001b[0m\u001b[1;33m(\u001b[0m\u001b[1;33m)\u001b[0m\u001b[1;33m\u001b[0m\u001b[1;33m\u001b[0m\u001b[0m\n",
      "\u001b[1;32m~\\anaconda3\\lib\\site-packages\\tensorflow\\python\\eager\\def_function.py\u001b[0m in \u001b[0;36m__call__\u001b[1;34m(self, *args, **kwds)\u001b[0m\n\u001b[0;32m    778\u001b[0m       \u001b[1;32melse\u001b[0m\u001b[1;33m:\u001b[0m\u001b[1;33m\u001b[0m\u001b[1;33m\u001b[0m\u001b[0m\n\u001b[0;32m    779\u001b[0m         \u001b[0mcompiler\u001b[0m \u001b[1;33m=\u001b[0m \u001b[1;34m\"nonXla\"\u001b[0m\u001b[1;33m\u001b[0m\u001b[1;33m\u001b[0m\u001b[0m\n\u001b[1;32m--> 780\u001b[1;33m         \u001b[0mresult\u001b[0m \u001b[1;33m=\u001b[0m \u001b[0mself\u001b[0m\u001b[1;33m.\u001b[0m\u001b[0m_call\u001b[0m\u001b[1;33m(\u001b[0m\u001b[1;33m*\u001b[0m\u001b[0margs\u001b[0m\u001b[1;33m,\u001b[0m \u001b[1;33m**\u001b[0m\u001b[0mkwds\u001b[0m\u001b[1;33m)\u001b[0m\u001b[1;33m\u001b[0m\u001b[1;33m\u001b[0m\u001b[0m\n\u001b[0m\u001b[0;32m    781\u001b[0m \u001b[1;33m\u001b[0m\u001b[0m\n\u001b[0;32m    782\u001b[0m       \u001b[0mnew_tracing_count\u001b[0m \u001b[1;33m=\u001b[0m \u001b[0mself\u001b[0m\u001b[1;33m.\u001b[0m\u001b[0m_get_tracing_count\u001b[0m\u001b[1;33m(\u001b[0m\u001b[1;33m)\u001b[0m\u001b[1;33m\u001b[0m\u001b[1;33m\u001b[0m\u001b[0m\n",
      "\u001b[1;32m~\\anaconda3\\lib\\site-packages\\tensorflow\\python\\eager\\def_function.py\u001b[0m in \u001b[0;36m_call\u001b[1;34m(self, *args, **kwds)\u001b[0m\n\u001b[0;32m    844\u001b[0m               *args, **kwds)\n\u001b[0;32m    845\u001b[0m       \u001b[1;31m# If we did not create any variables the trace we have is good enough.\u001b[0m\u001b[1;33m\u001b[0m\u001b[1;33m\u001b[0m\u001b[1;33m\u001b[0m\u001b[0m\n\u001b[1;32m--> 846\u001b[1;33m       \u001b[1;32mreturn\u001b[0m \u001b[0mself\u001b[0m\u001b[1;33m.\u001b[0m\u001b[0m_concrete_stateful_fn\u001b[0m\u001b[1;33m.\u001b[0m\u001b[0m_filtered_call\u001b[0m\u001b[1;33m(\u001b[0m\u001b[0mcanon_args\u001b[0m\u001b[1;33m,\u001b[0m \u001b[0mcanon_kwds\u001b[0m\u001b[1;33m)\u001b[0m  \u001b[1;31m# pylint: disable=protected-access\u001b[0m\u001b[1;33m\u001b[0m\u001b[1;33m\u001b[0m\u001b[0m\n\u001b[0m\u001b[0;32m    847\u001b[0m \u001b[1;33m\u001b[0m\u001b[0m\n\u001b[0;32m    848\u001b[0m     \u001b[1;32mdef\u001b[0m \u001b[0mfn_with_cond\u001b[0m\u001b[1;33m(\u001b[0m\u001b[1;33m*\u001b[0m\u001b[0minner_args\u001b[0m\u001b[1;33m,\u001b[0m \u001b[1;33m**\u001b[0m\u001b[0minner_kwds\u001b[0m\u001b[1;33m)\u001b[0m\u001b[1;33m:\u001b[0m\u001b[1;33m\u001b[0m\u001b[1;33m\u001b[0m\u001b[0m\n",
      "\u001b[1;32m~\\anaconda3\\lib\\site-packages\\tensorflow\\python\\eager\\function.py\u001b[0m in \u001b[0;36m_filtered_call\u001b[1;34m(self, args, kwargs, cancellation_manager)\u001b[0m\n\u001b[0;32m   1841\u001b[0m       \u001b[0;31m`\u001b[0m\u001b[0margs\u001b[0m\u001b[0;31m`\u001b[0m \u001b[1;32mand\u001b[0m\u001b[0;31m \u001b[0m\u001b[0;31m`\u001b[0m\u001b[0mkwargs\u001b[0m\u001b[0;31m`\u001b[0m\u001b[1;33m.\u001b[0m\u001b[1;33m\u001b[0m\u001b[1;33m\u001b[0m\u001b[0m\n\u001b[0;32m   1842\u001b[0m     \"\"\"\n\u001b[1;32m-> 1843\u001b[1;33m     return self._call_flat(\n\u001b[0m\u001b[0;32m   1844\u001b[0m         [t for t in nest.flatten((args, kwargs), expand_composites=True)\n\u001b[0;32m   1845\u001b[0m          if isinstance(t, (ops.Tensor,\n",
      "\u001b[1;32m~\\anaconda3\\lib\\site-packages\\tensorflow\\python\\eager\\function.py\u001b[0m in \u001b[0;36m_call_flat\u001b[1;34m(self, args, captured_inputs, cancellation_manager)\u001b[0m\n\u001b[0;32m   1921\u001b[0m         and executing_eagerly):\n\u001b[0;32m   1922\u001b[0m       \u001b[1;31m# No tape is watching; skip to running the function.\u001b[0m\u001b[1;33m\u001b[0m\u001b[1;33m\u001b[0m\u001b[1;33m\u001b[0m\u001b[0m\n\u001b[1;32m-> 1923\u001b[1;33m       return self._build_call_outputs(self._inference_function.call(\n\u001b[0m\u001b[0;32m   1924\u001b[0m           ctx, args, cancellation_manager=cancellation_manager))\n\u001b[0;32m   1925\u001b[0m     forward_backward = self._select_forward_and_backward_functions(\n",
      "\u001b[1;32m~\\anaconda3\\lib\\site-packages\\tensorflow\\python\\eager\\function.py\u001b[0m in \u001b[0;36mcall\u001b[1;34m(self, ctx, args, cancellation_manager)\u001b[0m\n\u001b[0;32m    543\u001b[0m       \u001b[1;32mwith\u001b[0m \u001b[0m_InterpolateFunctionError\u001b[0m\u001b[1;33m(\u001b[0m\u001b[0mself\u001b[0m\u001b[1;33m)\u001b[0m\u001b[1;33m:\u001b[0m\u001b[1;33m\u001b[0m\u001b[1;33m\u001b[0m\u001b[0m\n\u001b[0;32m    544\u001b[0m         \u001b[1;32mif\u001b[0m \u001b[0mcancellation_manager\u001b[0m \u001b[1;32mis\u001b[0m \u001b[1;32mNone\u001b[0m\u001b[1;33m:\u001b[0m\u001b[1;33m\u001b[0m\u001b[1;33m\u001b[0m\u001b[0m\n\u001b[1;32m--> 545\u001b[1;33m           outputs = execute.execute(\n\u001b[0m\u001b[0;32m    546\u001b[0m               \u001b[0mstr\u001b[0m\u001b[1;33m(\u001b[0m\u001b[0mself\u001b[0m\u001b[1;33m.\u001b[0m\u001b[0msignature\u001b[0m\u001b[1;33m.\u001b[0m\u001b[0mname\u001b[0m\u001b[1;33m)\u001b[0m\u001b[1;33m,\u001b[0m\u001b[1;33m\u001b[0m\u001b[1;33m\u001b[0m\u001b[0m\n\u001b[0;32m    547\u001b[0m               \u001b[0mnum_outputs\u001b[0m\u001b[1;33m=\u001b[0m\u001b[0mself\u001b[0m\u001b[1;33m.\u001b[0m\u001b[0m_num_outputs\u001b[0m\u001b[1;33m,\u001b[0m\u001b[1;33m\u001b[0m\u001b[1;33m\u001b[0m\u001b[0m\n",
      "\u001b[1;32m~\\anaconda3\\lib\\site-packages\\tensorflow\\python\\eager\\execute.py\u001b[0m in \u001b[0;36mquick_execute\u001b[1;34m(op_name, num_outputs, inputs, attrs, ctx, name)\u001b[0m\n\u001b[0;32m     57\u001b[0m   \u001b[1;32mtry\u001b[0m\u001b[1;33m:\u001b[0m\u001b[1;33m\u001b[0m\u001b[1;33m\u001b[0m\u001b[0m\n\u001b[0;32m     58\u001b[0m     \u001b[0mctx\u001b[0m\u001b[1;33m.\u001b[0m\u001b[0mensure_initialized\u001b[0m\u001b[1;33m(\u001b[0m\u001b[1;33m)\u001b[0m\u001b[1;33m\u001b[0m\u001b[1;33m\u001b[0m\u001b[0m\n\u001b[1;32m---> 59\u001b[1;33m     tensors = pywrap_tfe.TFE_Py_Execute(ctx._handle, device_name, op_name,\n\u001b[0m\u001b[0;32m     60\u001b[0m                                         inputs, attrs, num_outputs)\n\u001b[0;32m     61\u001b[0m   \u001b[1;32mexcept\u001b[0m \u001b[0mcore\u001b[0m\u001b[1;33m.\u001b[0m\u001b[0m_NotOkStatusException\u001b[0m \u001b[1;32mas\u001b[0m \u001b[0me\u001b[0m\u001b[1;33m:\u001b[0m\u001b[1;33m\u001b[0m\u001b[1;33m\u001b[0m\u001b[0m\n",
      "\u001b[1;31mUnimplementedError\u001b[0m:  Cast string to float is not supported\n\t [[node sequential_2/Cast (defined at <ipython-input-155-a1b68e911080>:1) ]] [Op:__inference_test_function_12488]\n\nFunction call stack:\ntest_function\n"
     ]
    }
   ],
   "source": [
    "history = model.fit(train_X, train_Y, epochs=10, batch_size=32, callbacks=[es, mc], validation_data=(test_X, test_Y))"
   ]
  },
  {
   "cell_type": "code",
   "execution_count": null,
   "metadata": {},
   "outputs": [],
   "source": [
    "import matplotlib.pyplot as plt\n",
    "plt.figure(figsize=(12, 4))\n",
    "\n",
    "plt.subplot(1,2,1)\n",
    "plt.plot(history.history['loss'], 'b-', label='loss')\n",
    "plt.plot(history.history['val_loss'], 'r--', label='val_loss')\n",
    "plt.xlabel('Epoch')\n",
    "plt.legend()\n",
    "\n",
    "plt.subplot(1,2,2)\n",
    "plt.plot(history.history['accuracy'], 'g-', label='accuracy')\n",
    "plt.plot(history.history['val_accuracy'], 'k--', label='val_accuracy')\n",
    "plt.xlabel('Epoch')\n",
    "plt.ylim(0.7,1)\n",
    "plt.legend()\n",
    "\n",
    "plt.show()"
   ]
  },
  {
   "cell_type": "code",
   "execution_count": null,
   "metadata": {},
   "outputs": [],
   "source": [
    "sentences = [sentence.split(' ') for sentence in test_X]\n",
    "tokenizer.fit_on_texts(sentences)\n",
    "test_X = tokenizer.texts_to_sequences(sentences)\n",
    "test_X = pad_sequences(train_X, padding='post')\n",
    "\n",
    "model.evaluate(test_X, test_Y, verbose=0)"
   ]
  },
  {
   "cell_type": "code",
   "execution_count": null,
   "metadata": {},
   "outputs": [],
   "source": [
    "from keras.models import load_model\n",
    "model.save('mnist_mlp_model.h5')"
   ]
  },
  {
   "cell_type": "code",
   "execution_count": null,
   "metadata": {},
   "outputs": [],
   "source": [
    "yhat = model.predict_classes(df_fin['제안내용_re'])"
   ]
  },
  {
   "cell_type": "code",
   "execution_count": null,
   "metadata": {},
   "outputs": [],
   "source": [
    "df_fin['summary_predicted'] = yhat"
   ]
  },
  {
   "cell_type": "code",
   "execution_count": null,
   "metadata": {},
   "outputs": [],
   "source": []
  },
  {
   "cell_type": "code",
   "execution_count": null,
   "metadata": {},
   "outputs": [],
   "source": []
  },
  {
   "cell_type": "code",
   "execution_count": null,
   "metadata": {},
   "outputs": [],
   "source": []
  },
  {
   "cell_type": "code",
   "execution_count": null,
   "metadata": {},
   "outputs": [],
   "source": []
  },
  {
   "cell_type": "code",
   "execution_count": null,
   "metadata": {},
   "outputs": [],
   "source": []
  }
 ],
 "metadata": {
  "kernelspec": {
   "display_name": "Python 3",
   "language": "python",
   "name": "python3"
  },
  "language_info": {
   "codemirror_mode": {
    "name": "ipython",
    "version": 3
   },
   "file_extension": ".py",
   "mimetype": "text/x-python",
   "name": "python",
   "nbconvert_exporter": "python",
   "pygments_lexer": "ipython3",
   "version": "3.8.3"
  }
 },
 "nbformat": 4,
 "nbformat_minor": 4
}
