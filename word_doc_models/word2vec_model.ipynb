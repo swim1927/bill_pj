{
 "cells": [
  {
   "cell_type": "markdown",
   "metadata": {},
   "source": [
    "# Word2vec 모델 구축\n",
    "* * *\n",
    "20대 및 21대 법안 텍스트를 이용한 word2vec 모델 구축하기.    \n",
    "법안별 제안이유 및 주요내용 텍스트를 사용함."
   ]
  },
  {
   "cell_type": "code",
   "execution_count": 40,
   "metadata": {},
   "outputs": [
    {
     "name": "stderr",
     "output_type": "stream",
     "text": [
      "C:\\Users\\user\\anaconda3\\lib\\site-packages\\tqdm\\std.py:668: FutureWarning: The Panel class is removed from pandas. Accessing it from the top-level namespace will also be removed in the next version\n",
      "  from pandas import Panel\n"
     ]
    }
   ],
   "source": [
    "#필요한 라이브러리 로드\n",
    "import re\n",
    "import random\n",
    "import pandas as pd\n",
    "import numpy as np\n",
    "from tqdm import tqdm\n",
    "from eunjeon import Mecab\n",
    "from gensim.models import Word2Vec as w2v\n",
    "from gensim.models.doc2vec import Doc2Vec, TaggedDocument\n",
    "tqdm.pandas()\n",
    "tagger = Mecab() "
   ]
  },
  {
   "cell_type": "code",
   "execution_count": 12,
   "metadata": {},
   "outputs": [],
   "source": [
    "#법안 데이터 로드: 20대 전체 및 21대 법안(~2020년 11월)\n",
    "\n",
    "bills = pd.read_csv('bills_total.csv')"
   ]
  },
  {
   "cell_type": "code",
   "execution_count": 13,
   "metadata": {},
   "outputs": [
    {
     "data": {
      "text/html": [
       "<div>\n",
       "<style scoped>\n",
       "    .dataframe tbody tr th:only-of-type {\n",
       "        vertical-align: middle;\n",
       "    }\n",
       "\n",
       "    .dataframe tbody tr th {\n",
       "        vertical-align: top;\n",
       "    }\n",
       "\n",
       "    .dataframe thead th {\n",
       "        text-align: right;\n",
       "    }\n",
       "</style>\n",
       "<table border=\"1\" class=\"dataframe\">\n",
       "  <thead>\n",
       "    <tr style=\"text-align: right;\">\n",
       "      <th></th>\n",
       "      <th>Unnamed: 0</th>\n",
       "      <th>comm_code</th>\n",
       "      <th>id</th>\n",
       "      <th>name</th>\n",
       "      <th>no</th>\n",
       "      <th>result</th>\n",
       "      <th>gubn</th>\n",
       "      <th>proc_date</th>\n",
       "      <th>proc_stage</th>\n",
       "      <th>propose_date</th>\n",
       "      <th>proposer_kind</th>\n",
       "      <th>summary</th>\n",
       "    </tr>\n",
       "  </thead>\n",
       "  <tbody>\n",
       "    <tr>\n",
       "      <th>0</th>\n",
       "      <td>0</td>\n",
       "      <td>9700481</td>\n",
       "      <td>PRC_D1C9S0U9X2I3M1A4A1J0R3X5A2N9M6</td>\n",
       "      <td>중견기업 성장촉진 및 경쟁력 강화에 관한 특별법 일부개정법률안(유승희의원 등 11인)</td>\n",
       "      <td>2022602</td>\n",
       "      <td>임기만료폐기</td>\n",
       "      <td>처리의안</td>\n",
       "      <td>2020-05-29</td>\n",
       "      <td>소관위심사</td>\n",
       "      <td>2019-09-23</td>\n",
       "      <td>의원</td>\n",
       "      <td>제안이유 및 주요내용 \\r\\n\\r\\n  2013년 말 「중견기업 성장촉진 및 경쟁력...</td>\n",
       "    </tr>\n",
       "    <tr>\n",
       "      <th>1</th>\n",
       "      <td>1</td>\n",
       "      <td>9700481</td>\n",
       "      <td>PRC_B1R7Q1Q2Z2X6Z1B0C2S5Z1P3C3I3J9</td>\n",
       "      <td>벤처기업육성에 관한 특별조치법 일부개정법률안(박맹우의원 등 10인)</td>\n",
       "      <td>2011011</td>\n",
       "      <td>대안반영폐기</td>\n",
       "      <td>처리의안</td>\n",
       "      <td>2019-04-05</td>\n",
       "      <td>본회의불부의</td>\n",
       "      <td>2017-12-26</td>\n",
       "      <td>의원</td>\n",
       "      <td>제안이유 및 주요내용\\r\\n\\r\\n  현행법은 벤처기업의 요건을 정하고 있고, 법에...</td>\n",
       "    </tr>\n",
       "    <tr>\n",
       "      <th>2</th>\n",
       "      <td>2</td>\n",
       "      <td>9700481</td>\n",
       "      <td>PRC_C1I9D1I0W0G1Y1W7J2V6Y1L1A4C6L4</td>\n",
       "      <td>중소기업창업 지원법 일부개정법률안(정우택의원 등 10인)</td>\n",
       "      <td>2022784</td>\n",
       "      <td>임기만료폐기</td>\n",
       "      <td>처리의안</td>\n",
       "      <td>2020-05-29</td>\n",
       "      <td>소관위심사</td>\n",
       "      <td>2019-10-01</td>\n",
       "      <td>의원</td>\n",
       "      <td>제안이유 및 주요내용 \\r\\n\\r\\n  현행법에 따르면 중소벤처기업부장관은 창업 저...</td>\n",
       "    </tr>\n",
       "    <tr>\n",
       "      <th>3</th>\n",
       "      <td>3</td>\n",
       "      <td>9700008</td>\n",
       "      <td>PRC_O1I8Y0J6P2X1O1Q7H4L7C0G9I7M0O5</td>\n",
       "      <td>독점규제 및 공정거래에 관한 법률 일부개정법률안(김병관의원 등 21인)</td>\n",
       "      <td>2013979</td>\n",
       "      <td>임기만료폐기</td>\n",
       "      <td>처리의안</td>\n",
       "      <td>2020-05-29</td>\n",
       "      <td>소관위심사</td>\n",
       "      <td>2018-06-21</td>\n",
       "      <td>의원</td>\n",
       "      <td>제안이유 및 주요내용\\r\\n\\r\\n  벤처캐피탈(Venture Capital)은 벤...</td>\n",
       "    </tr>\n",
       "    <tr>\n",
       "      <th>4</th>\n",
       "      <td>4</td>\n",
       "      <td>9700300</td>\n",
       "      <td>PRC_S1J7X0K8L0S7U1I5U5U3N4V8C8V5H8</td>\n",
       "      <td>조세특례제한법 일부개정법률안(김수민의원 등 10인)</td>\n",
       "      <td>2008412</td>\n",
       "      <td>대안반영폐기</td>\n",
       "      <td>처리의안</td>\n",
       "      <td>2018-05-21</td>\n",
       "      <td>대안반영폐기</td>\n",
       "      <td>2017-08-07</td>\n",
       "      <td>의원</td>\n",
       "      <td>제안이유 및 주요내용\\r\\n\\r\\n  중소기업청의 2013년 창업기업 실태조사에 따...</td>\n",
       "    </tr>\n",
       "  </tbody>\n",
       "</table>\n",
       "</div>"
      ],
      "text/plain": [
       "   Unnamed: 0  comm_code                                  id  \\\n",
       "0           0    9700481  PRC_D1C9S0U9X2I3M1A4A1J0R3X5A2N9M6   \n",
       "1           1    9700481  PRC_B1R7Q1Q2Z2X6Z1B0C2S5Z1P3C3I3J9   \n",
       "2           2    9700481  PRC_C1I9D1I0W0G1Y1W7J2V6Y1L1A4C6L4   \n",
       "3           3    9700008  PRC_O1I8Y0J6P2X1O1Q7H4L7C0G9I7M0O5   \n",
       "4           4    9700300  PRC_S1J7X0K8L0S7U1I5U5U3N4V8C8V5H8   \n",
       "\n",
       "                                              name       no  result  gubn  \\\n",
       "0  중견기업 성장촉진 및 경쟁력 강화에 관한 특별법 일부개정법률안(유승희의원 등 11인)  2022602  임기만료폐기  처리의안   \n",
       "1            벤처기업육성에 관한 특별조치법 일부개정법률안(박맹우의원 등 10인)  2011011  대안반영폐기  처리의안   \n",
       "2                  중소기업창업 지원법 일부개정법률안(정우택의원 등 10인)  2022784  임기만료폐기  처리의안   \n",
       "3          독점규제 및 공정거래에 관한 법률 일부개정법률안(김병관의원 등 21인)  2013979  임기만료폐기  처리의안   \n",
       "4                     조세특례제한법 일부개정법률안(김수민의원 등 10인)  2008412  대안반영폐기  처리의안   \n",
       "\n",
       "    proc_date proc_stage propose_date proposer_kind  \\\n",
       "0  2020-05-29      소관위심사   2019-09-23            의원   \n",
       "1  2019-04-05     본회의불부의   2017-12-26            의원   \n",
       "2  2020-05-29      소관위심사   2019-10-01            의원   \n",
       "3  2020-05-29      소관위심사   2018-06-21            의원   \n",
       "4  2018-05-21     대안반영폐기   2017-08-07            의원   \n",
       "\n",
       "                                             summary  \n",
       "0  제안이유 및 주요내용 \\r\\n\\r\\n  2013년 말 「중견기업 성장촉진 및 경쟁력...  \n",
       "1  제안이유 및 주요내용\\r\\n\\r\\n  현행법은 벤처기업의 요건을 정하고 있고, 법에...  \n",
       "2  제안이유 및 주요내용 \\r\\n\\r\\n  현행법에 따르면 중소벤처기업부장관은 창업 저...  \n",
       "3  제안이유 및 주요내용\\r\\n\\r\\n  벤처캐피탈(Venture Capital)은 벤...  \n",
       "4  제안이유 및 주요내용\\r\\n\\r\\n  중소기업청의 2013년 창업기업 실태조사에 따...  "
      ]
     },
     "execution_count": 13,
     "metadata": {},
     "output_type": "execute_result"
    }
   ],
   "source": [
    "bills.head(5)"
   ]
  },
  {
   "cell_type": "code",
   "execution_count": 31,
   "metadata": {},
   "outputs": [
    {
     "name": "stderr",
     "output_type": "stream",
     "text": [
      "100%|████████████████████████████| 28870/28870 [00:18<00:00, 1554.65it/s]\n"
     ]
    }
   ],
   "source": [
    "#법안별 주요내용 텍스트 전처리: 특수문자 등 삭제 + 형태소 분석\n",
    "\n",
    "corpus=[] #doc2vec용 말뭉치\n",
    "corpus_re=[] #word2vec용 말뭉치\n",
    "\n",
    "for txt in tqdm(bills['summary']):\n",
    "    try:\n",
    "        txt = re.sub('[^가-힣ㄱ-ㅎㅏ-ㅣa-zA-Z]', ' ', txt)\n",
    "    except:\n",
    "        txt = 'NaN'\n",
    "    corpus.append(txt)  #정규식만 적용한 법안 텍스트 말뭉치    \n",
    "    \n",
    "    pos_text = tagger.pos(txt)\n",
    "    word_list = []\n",
    "    for word in pos_text:\n",
    "        word_list.append(word[0])\n",
    "    corpus_re.append(word_list) #단어 리스트의 리스트"
   ]
  },
  {
   "cell_type": "code",
   "execution_count": 35,
   "metadata": {},
   "outputs": [],
   "source": [
    "#모델구축\n",
    "#벡터 사이즈는 20, 윈도우 20, 단어의 최소 등장 횟수 10으로 설정, 스킵그랩 사용(sg=1), 네거티브 샘플링(hs=0)\n",
    "\n",
    "model = w2v(corpus_re, size=20, window=20, min_count=10, iter=20, sg=1, hs=0) \n",
    "model.save('w2v_bills.model') #모델 저장"
   ]
  },
  {
   "cell_type": "code",
   "execution_count": 36,
   "metadata": {},
   "outputs": [
    {
     "data": {
      "text/plain": [
       "array([-0.3615267 , -0.45887735, -0.78847545, -0.6981663 ,  1.2574933 ,\n",
       "        0.46788543, -0.6257676 , -0.364747  ,  0.38551393,  0.01057009,\n",
       "        0.05829025,  0.48117983,  0.357763  ,  0.24879684,  0.17585683,\n",
       "       -0.04012185, -0.04546675,  0.911057  ,  0.21567512,  0.45867044],\n",
       "      dtype=float32)"
      ]
     },
     "execution_count": 36,
     "metadata": {},
     "output_type": "execute_result"
    }
   ],
   "source": [
    "#단어 벡터 구하기\n",
    "model.wv['벤처']"
   ]
  },
  {
   "cell_type": "code",
   "execution_count": 37,
   "metadata": {},
   "outputs": [
    {
     "name": "stdout",
     "output_type": "stream",
     "text": [
      "[('중소', 0.8784818649291992), ('창업', 0.8504295349121094), ('비대', 0.8434056043624878), ('기업', 0.8372299671173096), ('진출', 0.8324289917945862), ('실수요', 0.8220025300979614), ('창업자', 0.7870969176292419), ('한제', 0.7862508296966553), ('유치', 0.7851044535636902), ('리츠', 0.7782872915267944)]\n"
     ]
    }
   ],
   "source": [
    "#유사도 높은 단어 구하기\n",
    "print(model.wv.most_similar(positive=[\"벤처\"], topn=10))"
   ]
  },
  {
   "cell_type": "markdown",
   "metadata": {},
   "source": [
    "# Doc2vec 모델 구축\n",
    "* * *\n",
    "문서 간 유사도를 보여주는 doc2vec 모델 구축."
   ]
  },
  {
   "cell_type": "code",
   "execution_count": 41,
   "metadata": {},
   "outputs": [],
   "source": [
    "#법안별 텍스트에 각각 tag 부여하기\n",
    "\n",
    "tagged_data = [TaggedDocument(words=_d, tags=[str(i)]) for i, _d in enumerate(corpus)]"
   ]
  },
  {
   "cell_type": "code",
   "execution_count": 43,
   "metadata": {},
   "outputs": [],
   "source": [
    "#doc2vec 모델 구축\n",
    "\n",
    "model = Doc2Vec(vector_size=300, alpha=0.025, min_alpha=0.00025, min_count=1, dm =1)\n",
    "model.build_vocab(tagged_data)  #vocabulary를 먼저 구축한다."
   ]
  },
  {
   "cell_type": "code",
   "execution_count": 45,
   "metadata": {
    "collapsed": true,
    "jupyter": {
     "outputs_hidden": true
    }
   },
   "outputs": [
    {
     "name": "stdout",
     "output_type": "stream",
     "text": [
      "iteration 0\n",
      "iteration 1\n",
      "iteration 2\n",
      "iteration 3\n",
      "iteration 4\n",
      "iteration 5\n",
      "iteration 6\n",
      "iteration 7\n",
      "iteration 8\n",
      "iteration 9\n",
      "iteration 10\n",
      "iteration 11\n",
      "iteration 12\n",
      "iteration 13\n",
      "iteration 14\n",
      "iteration 15\n",
      "iteration 16\n",
      "iteration 17\n",
      "iteration 18\n",
      "iteration 19\n",
      "iteration 20\n",
      "iteration 21\n",
      "iteration 22\n",
      "iteration 23\n",
      "iteration 24\n",
      "iteration 25\n",
      "iteration 26\n",
      "iteration 27\n",
      "iteration 28\n",
      "iteration 29\n",
      "iteration 30\n",
      "iteration 31\n",
      "iteration 32\n",
      "iteration 33\n",
      "iteration 34\n",
      "iteration 35\n",
      "iteration 36\n",
      "iteration 37\n",
      "iteration 38\n",
      "iteration 39\n",
      "iteration 40\n",
      "iteration 41\n",
      "iteration 42\n",
      "iteration 43\n",
      "iteration 44\n",
      "iteration 45\n",
      "iteration 46\n",
      "iteration 47\n",
      "iteration 48\n",
      "iteration 49\n",
      "iteration 50\n",
      "iteration 51\n",
      "iteration 52\n",
      "iteration 53\n",
      "iteration 54\n",
      "iteration 55\n",
      "iteration 56\n",
      "iteration 57\n",
      "iteration 58\n",
      "iteration 59\n",
      "iteration 60\n",
      "iteration 61\n",
      "iteration 62\n",
      "iteration 63\n",
      "iteration 64\n",
      "iteration 65\n",
      "iteration 66\n",
      "iteration 67\n",
      "iteration 68\n",
      "iteration 69\n",
      "iteration 70\n",
      "iteration 71\n",
      "iteration 72\n",
      "iteration 73\n",
      "iteration 74\n",
      "iteration 75\n",
      "iteration 76\n",
      "iteration 77\n",
      "iteration 78\n",
      "iteration 79\n",
      "iteration 80\n",
      "iteration 81\n",
      "iteration 82\n",
      "iteration 83\n",
      "iteration 84\n",
      "iteration 85\n",
      "iteration 86\n",
      "iteration 87\n",
      "iteration 88\n",
      "iteration 89\n",
      "iteration 90\n",
      "iteration 91\n",
      "iteration 92\n",
      "iteration 93\n",
      "iteration 94\n",
      "iteration 95\n",
      "iteration 96\n",
      "iteration 97\n",
      "iteration 98\n",
      "iteration 99\n"
     ]
    }
   ],
   "source": [
    "#학습시키기\n",
    "for epoch in range(100):\n",
    "    print('iteration {0}'.format(epoch))\n",
    "    model.train(tagged_data, total_examples=model.corpus_count, epochs=model.epochs)\n",
    "    model.alpha -= 0.0002\n",
    "    model.min_alpha = model.alpha\n",
    "\n",
    "model.save(\"d2v_bills.model\")"
   ]
  },
  {
   "cell_type": "code",
   "execution_count": 48,
   "metadata": {},
   "outputs": [
    {
     "name": "stdout",
     "output_type": "stream",
     "text": [
      "Test Document (26742): «제안이유      현행 지방자치제도가 정착되고 활성화되어 지방의회의 역할이 증대되고 있음에도 불구하고  지방의회의 조직  권한 및 전문성은 집행기관에 비하여 취약하여 집행부와 의회 상호 간에 견제와 균형이 효과적으로 이루어지지 못하고 있음     특히 지방의회 사무직원의 임명권을 지방자치단체의 장이 가지고 있어 사무직원이 소신 있게 의회에 대한 지원 역할을 하는 데 한계가 있으며  지방의회 소관 세출예산의 편성권이 지방자치단체의 장의 전속권한으로 되어 있어 온전한 견제기능을 발휘하는 데 어려움이 있음     이에 지방의회 소속 직원에 대한 인사권과 지방의회 소관 세출예산편성권을 지방의회의 의장에게 부여함으로써 지방의회의 견제와 감시 기능을 강화하려는 것임       주요내용    가  지방의회 인사의 독립성을 강화하기 위하여 지방의회에 두는 사무직원의 임면권을 지방의회의 의장에게 부여함 안 제  조제 항    나  지방자치단체의 예산 결산 등 재정운용 관련 사항과 자치입법 및 정책 관련 사항을 조사 연구 분석 평가하고  관련 정보 및 자료를 제공하는 등 의정활동을 지원하기 위한 의정활동지원기구를 둘 수 있도록 함 안 제  조의 제 항 신설         참고사항      이 법률안은 정청래의원이 대표발의한  지방공무원법 일부개정법률안  의안번호 제   호  및  지방공무원 교육훈련법 일부개정법률안  의안번호 제   호 의 의결을 전제로 하는 것이므로 같은 법률안이 의결되지 아니하거나 수정의결되는 경우에는 이에 맞추어 조정되어야 할 것임 »\n",
      "\n",
      "SIMILAR/DISSIMILAR DOCS PER MODEL Doc2Vec(dm/m,d300,n5,w5,s0.001,t3):\n",
      "\n",
      "MS Document (26575): «제안이유      현행 지방자치제도가 정착되고 활성화되어 지방의회의 역할이 증대되고 있음에도 불구하고  지방의회의 조직  권한 및 전문성은 집행기관에 비하여 취약하여 집행부와 의회 상호 간에 견제와 균형이 효과적으로 이루어지지 못하고 있음     특히 지방의회 사무직원의 임명권을 지방자치단체의 장이 가지고 있어 사무직원이 소신 있게 의회에 대한 지원 역할을 하는 데 한계가 있어 온전한 견제기능을 발휘하는 데 어려움이 있음     이에 지방의회 소속 직원에 대한 인사권을 지방의회의 의장에게 부여하고 지방의회 의정활동을 지원하기 위한 전문인력을 지원할 수 있게 해 지방의회의 견제와 감시 기능을 강화하려는 것임       주요내용    가  지방의회 인사의 독립성을 강화하기 위하여 지방의회에 두는 사무직원의 임면권을 지방의회의 의장에게 부여함 안 제  조제 항    나  지방자치단체의 예산 결산 등 재정운용 관련 사항과 자치입법 및 정책 관련 사항을 조사 연구 분석 평가하고  관련 정보 및 자료를 제공하는 등 의정활동을 지원하기 위한 의정활동지원기구를 둘 수 있도록 함 안 제  조의 제 항 신설         참고사항      이 법률안은 정청래의원이 대표발의한  지방공무원법 일부개정법률안  의안번호 제   호  및  지방공무원 교육훈련법 일부개정법률안  의안번호 제   호 의 의결을 전제로 하는 것이므로 같은 법률안이 의결되지 아니하거나 수정의결 되는 경우에는 이에 맞추어 조정되어야 할 것임 »\n",
      "\n",
      "MS Document (14274): «제안이유      현행 지방자치제도가 정착되고 활성화되어 지방의회의 역할이 증대되고 있음에도 불구하고  지방의회의 조직  권한 및 전문성은 집행기관에 비하여 취약하여 집행부와 의회 상호간에 견제와 균형이 효과적으로 이루어지지 못하고 있음     특히 지방의회 사무직원의 임명권을 지방자치단체의 장이 가지고 있어 사무직원이 소신 있게 의회에 대한 지원 역할을 하는 데 한계가 있으며  지방의회 소관 세출예산의 편성권이 지방자치단체의 장의 전속권한으로 되어 있어 온전한 견제기능을 발휘하는 데 어려움이 있음     이에 시 도의회에 시 도의회의 재적의원 총수         에 해당하는 정책지원 전문인력을 두도록 하고  지방의회 소속 직원에 대한 인사권과 지방의회 소관 세출예산편성권을 지방의회의 의장에게 부여함으로써 지방의회의 견제와 감시 기능을 강화하려는 것임       주요내용      가  시 도의회의원의 의정활동을 지원하기 위하여 시 도의회의 재적의원 총수         에 해당하는 정책지원 전문인력을 둘 수 있도록 함 안 제  조의  신설      나  지방의회 인사의 독립성을 강화하기 위하여 지방의회에 두는 사무직원의 임면권을 지방의회의 의장에게 부여함 안 제  조제 항       다  시 도의회와 시 군 및 자치구의회의 상호 인사교류를 위하여  광역자치단체 단위로 인사교류협의회를 둘 수 있도록 함 안 제  조의 제 항 신설      라  지방자치제도의 발전과 관련 공무원의 전문성 확보를 위하여 지방자치단체의 의회와 집행기관 소속 직원의 상호 인사교류를 할 수 있도록 함 안 제  조의 제 항 신설      마  지방의회 예산의 독립성을 강화하기 위하여 지방의회 소관 세출예산의 편성권을 지방의회의 의장에게 부여함 안 제   조의  신설        참고사항      이 법률안은 추미애의원이 대표발의한  지방공무원법 일부개정법률안  의안번호 제   호  및  지방공무원 교육훈련법 일부개정법률안  의안번호 제   호 의 의결을 전제로 하는 것이므로 같은 법률안이 의결되지 아니하거나 수정의결 되는 경우에는 이에 맞추어 조정되어야 할 것임 »\n",
      "\n"
     ]
    }
   ],
   "source": [
    "#랜덤으로 고른 문서와 유사한 문서들이 나오는지 확인하기\n",
    "\n",
    "doc_id = random.randint(0, len(corpus) - 1)\n",
    "sims = model.docvecs.most_similar(str(doc_id))\n",
    "\n",
    "# Compare and print the most/median/least similar documents from the train corpus\n",
    "print('Test Document ({}): «{}»\\n'.format(doc_id, ''.join(corpus[doc_id])))\n",
    "print(u'SIMILAR/DISSIMILAR DOCS PER MODEL %s:\\n' % model)\n",
    "print('MS Document ({}): «{}»\\n'.format(sims[0][0], ''.join(corpus[int(sims[0][0])])))\n",
    "print('MS Document ({}): «{}»\\n'.format(sims[1][0], ''.join(corpus[int(sims[1][0])])))"
   ]
  },
  {
   "cell_type": "code",
   "execution_count": null,
   "metadata": {},
   "outputs": [],
   "source": []
  },
  {
   "cell_type": "code",
   "execution_count": null,
   "metadata": {},
   "outputs": [],
   "source": []
  },
  {
   "cell_type": "code",
   "execution_count": null,
   "metadata": {},
   "outputs": [],
   "source": []
  }
 ],
 "metadata": {
  "kernelspec": {
   "display_name": "Python 3",
   "language": "python",
   "name": "python3"
  },
  "language_info": {
   "codemirror_mode": {
    "name": "ipython",
    "version": 3
   },
   "file_extension": ".py",
   "mimetype": "text/x-python",
   "name": "python",
   "nbconvert_exporter": "python",
   "pygments_lexer": "ipython3",
   "version": "3.8.3"
  }
 },
 "nbformat": 4,
 "nbformat_minor": 4
}
